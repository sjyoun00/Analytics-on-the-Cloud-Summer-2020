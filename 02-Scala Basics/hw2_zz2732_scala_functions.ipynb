{
 "cells": [
  {
   "cell_type": "markdown",
   "metadata": {},
   "source": [
    "<h1>Problem 1</h1>"
   ]
  },
  {
   "cell_type": "markdown",
   "metadata": {},
   "source": [
    "<p>\n",
    "    Write a function, <b>isThreeSorted</b>, that behaves like the <span style=\"color:blue\">isSorted</span> function we\n",
    "covered in class except that it works on three items of an array rather than two items.\n",
    "The function should <b>take two arguments, an array and a predicate function on three\n",
    "values, and it should return true or false if the predicate function is satisfied for all\n",
    "triplets in the array. If the array has less than 3 elements, then isThreeSorted should\n",
    "    return false.</b>\n",
    "\n",
    "Test your function with the following predicate functions:\n",
    "\n",
    "<p>\n",
    "<ol>\n",
    "    <li><b>alpha(x: Array[String])</b> tests alphabetical sort on Array[String] </li>\n",
    "    <ul><li>Array(\"John\",\"Mary\",\"Qing\") returns true</li>\n",
    "        <li>Array(\"James\", \"Jones\", \"Earl\") returns false</li>\n",
    "        <li></li>\n",
    "    </ul>\n",
    "    <li><b>len(x: Array[String])</b> tests length sort on Array[String]</li>\n",
    "    <ul><li>Array(\"John\", \"Basquiat\", \"Annapurna\") returns true</li>\n",
    "        <li>Array(\"John\", \"Basquiat\", \"Annapurna\", \"Yoda\") returns false</li>\n",
    "        <li></li>\n",
    "    </ul>\n",
    "\n",
    "<li><b>fib_test(x: Array[Int])</b> tests whether Array[Int] satisfies a fibonacci-like condition for an array of 3 or more elements</li>\n",
    "<ul<li>Array(1,1,2,3,5,8,13) returns true</li>\n",
    "<li>Array(1,1) returns false</li>\n",
    "<li>Array(1,1,2,3,5,9,13) returns false</li>\n",
    "<li>Array(2,4,6,10) returns true</li>\n",
    "</ul>\n",
    "</ol>\n",
    "\n"
   ]
  },
  {
   "cell_type": "code",
   "execution_count": 1,
   "metadata": {},
   "outputs": [
    {
     "data": {
      "text/plain": [
       "Intitializing Scala interpreter ..."
      ]
     },
     "metadata": {},
     "output_type": "display_data"
    },
    {
     "data": {
      "text/plain": [
       "Spark Web UI available at http://ziyangs-mbp.attlocal.net:4040\n",
       "SparkContext available as 'sc' (version = 2.4.6, master = local[*], app id = local-1594865195321)\n",
       "SparkSession available as 'spark'\n"
      ]
     },
     "metadata": {},
     "output_type": "display_data"
    },
    {
     "data": {
      "text/plain": [
       "isThreeSorted: [A](as: Array[A], p: (A, A, A) => Boolean)Boolean\n"
      ]
     },
     "execution_count": 1,
     "metadata": {},
     "output_type": "execute_result"
    }
   ],
   "source": [
    "//isThreeSorted goes here\n",
    "def isThreeSorted[A](as: Array[A],p:(A,A,A)=>Boolean): Boolean = {\n",
    "    @annotation.tailrec\n",
    "    def loop(n:Int): Boolean = {\n",
    "        if (as.length < 3) false\n",
    "        else if (n+1 >= as.length) true\n",
    "        else if (!p(as(n-1),as(n),as(n+1))) false\n",
    "        else loop(n+1)\n",
    "    }\n",
    "    loop(1)\n",
    "}\n"
   ]
  },
  {
   "cell_type": "markdown",
   "metadata": {},
   "source": [
    "<h1>Alphabetical tests</h1>"
   ]
  },
  {
   "cell_type": "code",
   "execution_count": 2,
   "metadata": {},
   "outputs": [
    {
     "data": {
      "text/plain": [
       "alpha: (x: Array[String])Boolean\n",
       "t1: Boolean = true\n",
       "t2: Boolean = false\n"
      ]
     },
     "execution_count": 2,
     "metadata": {},
     "output_type": "execute_result"
    }
   ],
   "source": [
    "def alpha(x: Array[String]) = isThreeSorted(x,(a:String, b:String, c:String) => a<b&b<c)\n",
    "\n",
    "\n",
    "val t1 = alpha(Array(\"John\",\"Mary\",\"Qing\"))         //true\n",
    "val t2 = alpha(Array(\"James\", \"Jones\", \"Earl\"))     //false"
   ]
  },
  {
   "cell_type": "markdown",
   "metadata": {},
   "source": [
    "<h1>Length tests</h1>\n"
   ]
  },
  {
   "cell_type": "code",
   "execution_count": 3,
   "metadata": {},
   "outputs": [
    {
     "data": {
      "text/plain": [
       "len: (x: Array[String])Boolean\n",
       "t3: Boolean = true\n",
       "t4: Boolean = false\n"
      ]
     },
     "execution_count": 3,
     "metadata": {},
     "output_type": "execute_result"
    }
   ],
   "source": [
    "def len(x: Array[String]) = isThreeSorted(x,(a:String, b:String, c:String) => a.length<b.length&b.length<c.length)\n",
    "\n",
    "\n",
    "\n",
    "val t3 = len(Array(\"John\", \"Basquiat\", \"Annapurna\"))          //true\n",
    "val t4 = len(Array(\"John\", \"Basquiat\", \"Annapurna\", \"Yoda\"))  //false"
   ]
  },
  {
   "cell_type": "markdown",
   "metadata": {},
   "source": [
    "<h1>Fibonacci (ish) test</h1>"
   ]
  },
  {
   "cell_type": "code",
   "execution_count": 4,
   "metadata": {},
   "outputs": [
    {
     "data": {
      "text/plain": [
       "fib_test: (x: Array[Int])Boolean\n",
       "t4: Boolean = true\n",
       "t5: Boolean = false\n",
       "t6: Boolean = false\n",
       "t7: Boolean = true\n",
       "t9: Boolean = false\n",
       "t10: Boolean = true\n",
       "t11: Boolean = false\n"
      ]
     },
     "execution_count": 4,
     "metadata": {},
     "output_type": "execute_result"
    }
   ],
   "source": [
    "def fib_test(x: Array[Int]) = isThreeSorted(x,(a:Int, b:Int, c:Int) => a+b==c)\n",
    "\n",
    "\n",
    "val t4 = fib_test(Array(1,1,2,3,5,8,13))  //true\n",
    "val t5 = fib_test(Array(1,1))             //false\n",
    "val t6 = fib_test(Array(1,1,2,3,5,9,13))  //false\n",
    "val t7 = fib_test(Array(3,5,8))           //true\n",
    "val t9 = fib_test(Array(3,5,3,5))         //false\n",
    "val t10 = fib_test(Array(4,8,12))         //true\n",
    "val t11 = fib_test(Array(4,8,13,26))      //false"
   ]
  },
  {
   "cell_type": "markdown",
   "metadata": {},
   "source": [
    "<h1>Problem 2</h1>\n",
    "Write a function <b>extract</b> that takes two arguments, a string and an integer, and returns a string containing every i-th character from the string. <b>Your function should be tail recursive</b>\n",
    "\n",
    "Examples:\n",
    "\n",
    "* extract(\"Hello\",2) returns \"Hlo\"\n",
    "* extract(\"7XY9BC8FF4DX\",3) returns \"7984\"\n",
    "\n"
   ]
  },
  {
   "cell_type": "code",
   "execution_count": 9,
   "metadata": {},
   "outputs": [
    {
     "data": {
      "text/plain": [
       "extract: (sent: String, i: Int)String\n"
      ]
     },
     "execution_count": 9,
     "metadata": {},
     "output_type": "execute_result"
    }
   ],
   "source": [
    "def extract(sent: String, i: Int): String = {\n",
    "    @annotation.tailrec\n",
    "    def loop(sent: String, i: Int, n: Int, begin: String): String = {\n",
    "        if (i > sent.length) sent(0).toString\n",
    "        else if (n+1 > sent.length) begin\n",
    "        else loop(sent, i, n+i, begin+sent(n))\n",
    "    }\n",
    "    loop(sent, i, 0, \"\")      // begin = \"\"           // begin with an empty String\n",
    "}"
   ]
  },
  {
   "cell_type": "code",
   "execution_count": 10,
   "metadata": {},
   "outputs": [
    {
     "data": {
      "text/plain": [
       "res2: String = Hlo\n"
      ]
     },
     "execution_count": 10,
     "metadata": {},
     "output_type": "execute_result"
    }
   ],
   "source": [
    "extract(\"Hello\",2)           //String = Hlo"
   ]
  },
  {
   "cell_type": "code",
   "execution_count": 11,
   "metadata": {},
   "outputs": [
    {
     "data": {
      "text/plain": [
       "res3: String = 7984\n"
      ]
     },
     "execution_count": 11,
     "metadata": {},
     "output_type": "execute_result"
    }
   ],
   "source": [
    "extract(\"7XY9BC8FF4DX\",3)    //String = 7984"
   ]
  },
  {
   "cell_type": "code",
   "execution_count": 12,
   "metadata": {},
   "outputs": [
    {
     "data": {
      "text/plain": [
       "res4: String = H\n"
      ]
     },
     "execution_count": 12,
     "metadata": {},
     "output_type": "execute_result"
    }
   ],
   "source": [
    "extract(\"Hello\",8)           //String = H"
   ]
  },
  {
   "cell_type": "code",
   "execution_count": null,
   "metadata": {},
   "outputs": [],
   "source": []
  }
 ],
 "metadata": {
  "kernelspec": {
   "display_name": "spylon-kernel",
   "language": "scala",
   "name": "spylon-kernel"
  },
  "language_info": {
   "codemirror_mode": "text/x-scala",
   "file_extension": ".scala",
   "help_links": [
    {
     "text": "MetaKernel Magics",
     "url": "https://metakernel.readthedocs.io/en/latest/source/README.html"
    }
   ],
   "mimetype": "text/x-scala",
   "name": "scala",
   "pygments_lexer": "scala",
   "version": "0.4.1"
  }
 },
 "nbformat": 4,
 "nbformat_minor": 2
}

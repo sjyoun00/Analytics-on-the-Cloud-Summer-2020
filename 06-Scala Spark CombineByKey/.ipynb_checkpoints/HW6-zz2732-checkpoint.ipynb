{
 "cells": [
  {
   "cell_type": "markdown",
   "metadata": {},
   "source": [
    "### This notebook was ran on a cluster on Google Cloud due to the very large size of dataset `nyc_data.csv`"
   ]
  },
  {
   "cell_type": "markdown",
   "metadata": {},
   "source": [
    "<h1>More cloud practice and some Spark!</h1>\n"
   ]
  },
  {
   "cell_type": "markdown",
   "metadata": {},
   "source": [
    "In this assignment we will work with NYC yellow cab data. The goal of this assignment is two fold:\n",
    "<ol>\n",
    "    <li>To get more practice working with the cloud. In particular, we will use our independent virtual machine to load data into our storage bucket, and will get to work a little with shell scripts</li>\n",
    "    <li>To practice a bit more of spark</li>"
   ]
  },
  {
   "cell_type": "code",
   "execution_count": 9,
   "metadata": {
    "scrolled": true
   },
   "outputs": [
    {
     "data": {
      "text/plain": [
       "dates = Array(2017-01, 2017-02, 2017-03, 2017-04, 2017-05, 2017-06, 2017-07, 2017-08, 2017-09, 2017-10, 2017-11, 2017-12)\n",
       "files = Array(gs://zhangzy_cloud_analytics/taxi/f2017-01.csv, gs://zhangzy_cloud_analytics/taxi/f2017-02.csv, gs://zhangzy_cloud_analytics/taxi/f2017-03.csv, gs://zhangzy_cloud_analytics/taxi/f2017-04.csv, gs://zhangzy_cloud_analytics/taxi/f2017-05.csv, gs://zhangzy_cloud_analytics/taxi/f2017-06.csv, gs://zhangzy_cloud_analytics/taxi/f2017-07.csv, gs://zhangzy_cloud_analytics/taxi/f2017-08.csv, gs://zhangzy_cloud_analytics/taxi/f2017-09.csv, gs://zhangzy_cloud_analytics/taxi/f2017-10.csv, gs://zhangzy_cloud_analytics/taxi/f2017-11.csv, gs://zhangzy_cloud_analytics/taxi/f2017-12.csv)\n"
      ]
     },
     "metadata": {},
     "output_type": "display_data"
    },
    {
     "data": {
      "text/plain": [
       "data_rdd_array: Array[org.apache.spark.rdd.RDD[String]]...\n"
      ]
     },
     "metadata": {},
     "output_type": "display_data"
    },
    {
     "data": {
      "text/plain": [
       "[gs://zhangzy_cloud_analytics/taxi/f2017-01.csv, gs://zhangzy_cloud_analytics/taxi/f2017-02.csv, gs://zhangzy_cloud_analytics/taxi/f2017-03.csv, gs://zhangzy_cloud_analytics/taxi/f2017-04.csv, gs://zhangzy_cloud_analytics/taxi/f2017-05.csv, gs://zhangzy_cloud_analytics/taxi/f2017-06.csv, gs://zhangzy_cloud_analytics/taxi/f2017-07.csv, gs://zhangzy_cloud_analytics/taxi/f2017-08.csv, gs://zhangzy_cloud_analytics/taxi/f2017-09.csv, gs://zhangzy_cloud_analytics/taxi/f2017-10.csv, gs://zhangzy_cloud_analytics/taxi/f2017-11.csv, gs://zhangzy_cloud_analytics/taxi/f2017-12.csv]"
      ]
     },
     "execution_count": 9,
     "metadata": {},
     "output_type": "execute_result"
    }
   ],
   "source": [
    "//SOLUTION GOES HERE!!\n",
    "\n",
    "\n",
    "\n",
    "//This code constructs a list of files that need to be read\n",
    "val dates = Array(\"2017-01\",\"2017-02\",\"2017-03\",\"2017-04\",\"2017-05\",\n",
    "                  \"2017-06\",\"2017-07\",\"2017-08\",\"2017-09\",\"2017-10\",\n",
    "                  \"2017-11\",\"2017-12\")\n",
    "val files = dates.map(d => \"gs://zhangzy_cloud_analytics/taxi/f\"++d++\".csv\") //++ is the concatenation operator\n",
    "\n",
    "//data_rdd_array is an array of MapPartitionsRDD. Each MapPartitionRDD corresponds to one data file.\n",
    "//Make sure that the data in data_rdd_array has the first two rows dropped (header and a blank row)\n",
    "val data_rdd_array = files.map(f=>sc.textFile(f).mapPartitionsWithIndex{ (idx,iter) => \n",
    "    if (idx==0) iter.drop(2) else iter})\n",
    "\n",
    "//all_data combines all the MapPartitionsRDDs in data_rdd_array into a single MapPartitionsRDD\n",
    "//Use union (see next cell) to combine two rdds\n",
    "//Use reduce to combine all the rdds in data_rdd_array\n",
    "val all_data = data_rdd_array.reduce(_ union _)\n",
    "\n",
    "//Split all rows on comma\n",
    "val split_data = all_data.map(l => l.split(\",\"))\n",
    "\n",
    "//Create a map rdd. \n",
    "//The key should be the pickup point id (column 7).                            // \"zone\"\n",
    "//The value the sum of the fare (column 10) and the tip (column 13)            // \"trip_cost\"\n",
    "val mapped_data = split_data.map(l=>(l(7), (l(10).toDouble+l(13).toDouble, \n",
    "            (l(10).toDouble+l(13).toDouble)*(l(10).toDouble+l(13).toDouble)))) // sum-squares of \"trip_cost\"\n",
    "\n",
    "//Write the combiner, the merger, and the mergeAndCombiner\n",
    "\n",
    "val combiner = (x: (Double, Double)) => (1,x)\n",
    "val merger = (x: (Int, (Double, Double)),y: (Double, Double)) => {\n",
    "    val (c,(acc_value_1,acc_square_1)) = x\n",
    "    val (acc_value_2, acc_square_2) = y\n",
    "    (c+1, (acc_value_1+acc_value_2, acc_square_1+ acc_square_2))\n",
    "}\n",
    "val mergeAndCombiner = (x1: (Int, (Double, Double)), x2: (Int, (Double, Double))) => {\n",
    "    val (c1, (acc_value_1, acc_square_1)) = x1\n",
    "    val (c2, (acc_value_2, acc_square_2)) = x2\n",
    "    (c1+c2, (acc_value_1+acc_value_2, acc_square_1+ acc_square_2))\n",
    "}\n",
    "\n",
    "\n",
    "//Do the combine by key\n",
    "val combined_data = mapped_data.combineByKey(combiner,merger,mergeAndCombiner)\n",
    "\n",
    "//Write a function that returns the variance and the average\n",
    "//getVarAndAvgFunction = > (String, Double, Double)\n",
    "val getVarAndAvgFunction = (x: (String, (Int, (Double,Double)))) => {\n",
    "    val (identifier, (count,(total, sum_squares))) = x\n",
    "    (identifier,(total/count,(sum_squares-count*(total/count)*(total/count))/(count)))\n",
    "}\n",
    "\n",
    "//get the result\n",
    "val result = combined_data.map(getVarAndAvgFunction)\n",
    "\n",
    "//Output is shown in the next cell !!!"
   ]
  },
  {
   "cell_type": "code",
   "execution_count": 10,
   "metadata": {
    "scrolled": false
   },
   "outputs": [
    {
     "data": {
      "text/plain": [
       "Map(188 -> (14.666259597276547,249.33821353365218), 204 -> (55.0072972972973,2666.6166251278305), 194 -> (42.805802593659955,915.6050500618951), 90 -> (12.356284077224528,136849.62022189386), 99 -> (52.35909090909092,4379.528771900826), 111 -> (16.0392748091603,273.7748387870754), 167 -> (14.472861247947455,515.4062245308297), 57 -> (24.40454356846474,1111.236518982541), 210 -> (25.3325850340136,1944.8432632495715), 219 -> (58.665347031963464,2077.5550642403), 84 -> (47.90564102564103,4007.681301512163), 173 -> (13.861785099581997,321.7171679469332), 78 -> (22.57363007778738,2130.047984921065), 63 -> (21.352359223300972,438.5596153078517), 105 -> (20.52487804878049,217.53362498512772), 149 -> (21.416573116691282,633.8049980053634), 45 -> (15.392694347338317,175.5325653053832), 30 -> (40.527714285714296,4862.637611918367), 197 -> (32.31200050645732,2040.637258545454), 248 -> (18.38524193548388,677.6241638815592), 39 -> (25.332368983957213,1184.2685940135837), 155 -> (31.821510204081633,1427.0934767669032), 66 -> (17.338080059448142,121.11604072394255), 161 -> (13.606695010706286,173803.99157910552), 51 -> (28.871599353796448,1313.1929620624228), 260 -> (15.12740599742299,232.11124409111045), 87 -> (19.463801067313423,159.17307740703203), 2 -> (46.05376344086021,346.04050519135257), 182 -> (16.429005847953214,261.831511375906), 176 -> (56.693428571428576,2095.2665882448982), 72 -> (18.813974895397482,516.8068343257302), 254 -> (19.000975609756097,692.2180629762987), 263 -> (11.633763174041357,123.07069194075486), 5 -> (73.63933333333334,2436.1953928888884), 158 -> (13.890318331802948,36166.46519685365), 257 -> (17.906688311688317,341.7885931785745), 48 -> (12.949787083302237,115.68252967207648), 236 -> (11.39322482860771,28058.836378237214), 143 -> (11.855354941518128,75.08069854879525), 242 -> (17.708488453463968,745.8305373933237), 33 -> (17.554895994982683,137.64903494343147), 69 -> (14.391739731437603,312.4086371984529), 137 -> (12.326799881365142,74.44876101698367), 27 -> (39.764827586206906,1205.0320249702727), 164 -> (13.326805116395084,123.03104323680402), 54 -> (16.477589848407426,156.86700252024437), 12 -> (19.03424045567075,128.80874964320313), 179 -> (13.449453577055532,115.19593698757257), 170 -> (13.148772242742302,45056.64621587751), 60 -> (14.739058402860554,331.9523787319884), 152 -> (13.018518768748486,102.42821985011257), 8 -> (31.180345356868763,1048.9133012621562), 125 -> (14.077566168169751,127.54718160253697), 218 -> (25.78921077959576,990.6037156427714), 15 -> (32.20188679245283,2237.113950402278), 42 -> (11.592269865183304,107.71704665860436), 131 -> (23.837156983930775,1819.449282893774), 251 -> (28.347772020725394,1571.790934414347), 110 -> (17.0,78.16666666666667), 245 -> (50.43673469387755,1451.3256668887973), 146 -> (13.821762097363674,137.38492569153053), 239 -> (12.023216615717425,136794.2106338018), 36 -> (15.017281512855691,121.06720558483234), 98 -> (22.67103313840155,757.6045340203448), 230 -> (14.701239319865488,163.64091560959136), 21 -> (24.128524355300865,894.4262289112974), 224 -> (12.787402682163062,78.73984284383342), 119 -> (16.417134958532294,372.88170056258537), 206 -> (33.67697674418605,1198.9096280692268), 71 -> (17.787526530612247,333.9150525758267), 233 -> (13.932276196607695,128.86730948176873), 92 -> (20.435565968393977,1352.4520459218702), 113 -> (12.391416843774168,75.12850127976469), 128 -> (18.974047954866002,265.5471507508739), 18 -> (15.356131687242796,251.19795738183544), 196 -> (21.73904208507277,382.60672900454705), 86 -> (61.77120481927712,9269.285599753228), 24 -> (12.719879525349812,93.07409023153889), 227 -> (18.661409348441925,401.5933235803091), 140 -> (12.823246831319825,80.52893027317643), 134 -> (29.611254260395363,793.979712230512), 212 -> (16.641407942238263,609.6773471151722), 107 -> (12.351525555088067,94.3203148301377), 184 -> (46.889374999999994,3993.228805859376), 74 -> (11.546775465072477,98.20349809700963), 101 -> (33.76747807017545,2229.1102495609225), 89 -> (17.053174226804124,279.8839272954182), 200 -> (24.795354141656667,773.5869228337673), 215 -> (57.57800519737655,796.8741066258863), 209 -> (17.572183995775514,141.6296715242433), 199 -> (17.731785714285714,203.4686789540817), 122 -> (25.320269058295967,1119.774759568863), 95 -> (18.97276538695917,289.8419906951091), 190 -> (15.661050204009221,151.46758300209203), 53 -> (22.27358514724712,346.0523669162457), 68 -> (13.277162890309553,57817.010633373735), 80 -> (14.640052810024534,129.8568485230614), 178 -> (11.492285168682367,561.8806119008557), 221 -> (24.07105263157895,1083.4421350323173), 116 -> (14.550887777191333,122.96844627796443), 41 -> (11.741688372712451,92.43584869512058), 35 -> (18.247705156136522,307.23268449404054), 193 -> (11.714478041756658,14044.465360800184), 83 -> (14.03125735797399,251.45019170447188), 151 -> (12.149401841723098,83.75884912553592), 104 -> (53.019999999999996,0.0), 203 -> (39.82230366492147,3752.084330818781), 166 -> (13.702801440684949,109.79666352482116), 172 -> (48.92258620689654,1912.9206605529146), 56 -> (29.537519960079845,749.9181254861288), 62 -> (14.414711216242857,143.32606426215875), 265 -> (78.92438366568351,5289.912433232378), 7 -> (12.410534763607478,124.3295611592003), 187 -> (30.531282051282044,954.6233547666009), 250 -> (19.027205067300077,1015.2692008185962), 77 -> (21.243155149934807,335.2297832653678), 259 -> (23.921170731707317,1005.7266288732894), 133 -> (17.411640866873057,458.6548322192299), 181 -> (14.981810489673839,123.92571331784274), 59 -> (15.642499999999998,318.74410375), 232 -> (17.934918768586847,1331256.852206892), 154 -> (53.929624573378824,5303.951437060424), 148 -> (14.550265956371174,97.5079536929923), 1 -> (83.15416975936787,2174.371105287599), 17 -> (12.561424382069543,147.9809195850057), 50 -> (13.228808815674212,111.76226753296903), 44 -> (80.00249999999998,5372.52763541667), 253 -> (50.456,4045.884962305084), 247 -> (15.347497303657219,267.41729666326864), 169 -> (15.505368932038834,393.59205826194733), 23 -> (46.02861271676301,4464.386452410707), 160 -> (24.629442586399108,555.5602089423554), 38 -> (41.566497175141244,1500.5050594816303), 175 -> (23.61630319148937,948.1505052165851), 65 -> (16.735197577392363,144.09521486088218), 142 -> (12.230083229791829,9061.476796570723), 220 -> (17.175228813559333,339.499506727305), 47 -> (14.179899380804954,293.6483011508666), 163 -> (13.675281972199105,133.02730662195657), 121 -> (22.276159334126046,821.5271991612951), 4 -> (13.420101442850529,84.10288503372833), 157 -> (32.602401303181296,721.8798374878637), 26 -> (15.560443109275253,724.5884503481528), 229 -> (12.109555185943242,78.4830296501355), 256 -> (14.577487936207824,92.22386591774038), 115 -> (20.54542253521127,684.8323867932947), 11 -> (31.888013793103454,3359.63334777912), 214 -> (38.25351063829787,914.8201653349936), 241 -> (18.108556985294122,570.1006752155025), 136 -> (15.440252600297175,353.27100067913506), 235 -> (16.189607933579335,597.2146272909334), 32 -> (18.998610478359904,343.7629992081819), 262 -> (12.284800404271333,81.31456899096365), 238 -> (11.947722182440325,19585.73763646502), 14 -> (21.44292720306514,861.2156654927848), 202 -> (18.39348015122873,351.5271056768273), 82 -> (15.730053428857657,262.63874129825956), 97 -> (14.287048332088519,106.35912213884482), 139 -> (31.542733333333338,1113.0789125288877), 130 -> (46.59251670134706,1156.0184362026278), 124 -> (54.32527081649149,4735.195982889473), 20 -> (18.27728246318607,256.7559466979925), 223 -> (17.853624826983314,458.98152143191203), 118 -> (27.621811594202903,1184.1231554137785), 29 -> (30.12418242491657,3323.2900559222267), 145 -> (16.7247167147058,136910.6685362786), 244 -> (16.819072744993807,172.63874855806074), 103 -> (11.5,0.0), 217 -> (11.997613255435304,126.65667423832258), 189 -> (14.259977291994673,114.02433367697004), 85 -> (15.715997615262323,189.83200866295138), 112 -> (14.619088133586715,134.68427188104533), 79 -> (13.024831651602492,76.50862954559969), 180 -> (32.83478070175438,735.7537370133116), 205 -> (25.88215328467154,807.6402734655543), 211 -> (13.72074927476958,97.91851676916981), 70 -> (33.963715672348485,1832.4119638334573), 127 -> (17.563436052725326,217.63986355870017), 64 -> (33.03244094488189,1715.5045250129172), 195 -> (22.053249795696,317.7655829828211), 91 -> (22.6991346704871,459.49949409361193), 106 -> (14.301659480693687,150.44409739942463), 226 -> (16.146724624375253,297.96151103158667), 46 -> (33.322575757575756,960.5118403351704), 208 -> (32.25318421052633,2203.1789795976442), 198 -> (16.287576155462187,300.5375265041795), 94 -> (16.285492577597836,560.1224471595268), 52 -> (17.11526184951938,150.05808042003017), 183 -> (23.651621621621622,935.5478135865594), 109 -> (52.6109756097561,2145.549194170137), 177 -> (19.09703424915319,446.04465428298187), 73 -> (20.09340579710145,385.0470623135896), 67 -> (22.280175054704596,663.2260927483486), 162 -> (13.627045276481537,41206.620860536095), 261 -> (18.61372801427481,162.26353084445338), 88 -> (20.06081544765975,153.8240668844408), 100 -> (13.012153953394984,117.20131556904673), 192 -> (19.638006962576156,762.4864286648773), 34 -> (14.565680724596659,100.4393667953178), 150 -> (34.07799019607843,2232.4195322351984), 264 -> (15.986400066278708,21468.668715724856), 159 -> (13.229898442789441,239.6877002605052), 28 -> (41.401686780032904,1279.5179104844499), 6 -> (20.02582978723405,2037.1026728220909), 40 -> (16.181538601216594,145.46526045690538), 258 -> (23.05735915492958,1165.494897603402), 55 -> (27.19763742690058,965.725240734038), 165 -> (17.86551763367463,469.4814238219302), 243 -> (17.622166740185264,236.02984206306698), 186 -> (13.564642157829763,132.9971610322236), 144 -> (13.856801025012984,87.89546977112285), 49 -> (13.454633200121531,117.49244675893495), 171 -> (20.17698648648649,485.3463697025198), 61 -> (14.84456944902673,179.47632883969968), 76 -> (26.008965204236002,844.8364921818451), 147 -> (16.605311542390194,479.3976959958934), 9 -> (23.594025974025982,896.0870032720521), 43 -> (12.487228917367206,75.93443756181918), 174 -> (19.062348927875245,476.98518756245954), 168 -> (13.583781981491565,526.3438136089729), 231 -> (14.891984438007958,111.3095463579583), 246 -> (13.445375354533942,111.58836176331141), 126 -> (19.766161858974368,707.3876694834166), 153 -> (14.071512981199644,172.00049592037757), 22 -> (27.973211303789334,1617.9206796040346), 252 -> (51.77329987452949,4946.0131182199875), 58 -> (30.937777777777782,3387.935335802468), 16 -> (25.85333881578947,1038.2784455957305), 225 -> (13.656524926686215,126.57088124416534), 132 -> (52.013930408301356,34969.481081973434), 37 -> (13.793044661287292,107.07520239889365), 141 -> (11.792571831945937,443981.8988990416), 19 -> (23.29508676789587,1134.2173961421458), 249 -> (12.903369837386338,64819.7619338078), 207 -> (10.438902883659265,464.48262382119503), 3 -> (21.867754491017966,351.96006352056366), 156 -> (24.045755813953487,1494.3968465217686), 255 -> (14.842526448432492,97.373478913945), 213 -> (25.414649184975193,1732.228583913074), 10 -> (57.66169821012288,837.5082192109895), 240 -> (26.806504559270522,1263.8352531314383), 135 -> (19.627366650648728,450.28936673197757), 129 -> (14.198353799447183,327.8500292458595), 31 -> (27.314165232358,590.9634897076388), 25 -> (14.860215548438097,120.63547644203747), 234 -> (12.717967481123923,52112.76848398156), 120 -> (24.777725903614463,952.9939112441481), 93 -> (49.505035310734456,837.4586193105134), 228 -> (16.864744853000076,245.7342921943729), 108 -> (35.362218750000004,3461.8958335146476), 114 -> (13.11810164988506,75.52438301869591), 191 -> (23.97859154929578,1006.0273780632147), 222 -> (33.51481366459629,2136.9119007416757), 123 -> (18.63311715481171,704.6515109946429), 117 -> (87.63868085106381,11664.038497408785), 13 -> (18.606910565833605,37076.22769625856), 185 -> (17.28532324621733,320.34032310734125), 216 -> (49.04780096501808,1817.228529772206), 75 -> (11.772116078953399,84.86377385385836), 81 -> (20.724043583535106,404.08509866153884), 201 -> (35.370598290598295,1435.228643231792), 96 -> (20.131341853035142,367.1738704039033), 138 -> (38.70892253839607,216.13041027926673), 102 -> (21.641748400852872,506.02983233755094), 237 -> (10.83134598700571,79.25242555438366))"
      ]
     },
     "execution_count": 10,
     "metadata": {},
     "output_type": "execute_result"
    }
   ],
   "source": [
    "//Show the output (run collectAsMap on result)\n",
    "\n",
    "result.collectAsMap"
   ]
  },
  {
   "cell_type": "code",
   "execution_count": null,
   "metadata": {},
   "outputs": [],
   "source": []
  },
  {
   "cell_type": "code",
   "execution_count": 1,
   "metadata": {
    "scrolled": true
   },
   "outputs": [
    {
     "data": {
      "text/plain": [
       "Waiting for a Spark session to start..."
      ]
     },
     "metadata": {},
     "output_type": "display_data"
    },
    {
     "data": {
      "text/plain": [
       "Waiting for a Spark session to start..."
      ]
     },
     "metadata": {},
     "output_type": "display_data"
    },
    {
     "data": {
      "text/plain": [
       "t1 = ParallelCollectionRDD[0] at parallelize at <console>:28\n",
       "t2 = ParallelCollectionRDD[1] at parallelize at <console>:29\n",
       "t3 = UnionRDD[2] at union at <console>:30\n"
      ]
     },
     "metadata": {},
     "output_type": "display_data"
    },
    {
     "data": {
      "text/plain": [
       "[hello, bye, good, fellow]"
      ]
     },
     "execution_count": 1,
     "metadata": {},
     "output_type": "execute_result"
    }
   ],
   "source": [
    "//Example of union\n",
    "val t1 =sc.parallelize(Array(\"hello\",\"bye\"))\n",
    "val t2 = sc.parallelize(Array(\"good\",\"fellow\"))\n",
    "val t3 = t1 union t2\n",
    "t3.collect"
   ]
  },
  {
   "cell_type": "markdown",
   "metadata": {},
   "source": [
    "## Step by Step:"
   ]
  },
  {
   "cell_type": "markdown",
   "metadata": {},
   "source": [
    "#### Step 1"
   ]
  },
  {
   "cell_type": "code",
   "execution_count": 21,
   "metadata": {
    "scrolled": false
   },
   "outputs": [
    {
     "data": {
      "text/plain": [
       "dates = Array(2017-01, 2017-02, 2017-03, 2017-04, 2017-05, 2017-06, 2017-07, 2017-08, 2017-09, 2017-10, 2017-11, 2017-12)\n",
       "files = Array(gs://zhangzy_cloud_analytics/taxi/f2017-01.csv, gs://zhangzy_cloud_analytics/taxi/f2017-02.csv, gs://zhangzy_cloud_analytics/taxi/f2017-03.csv, gs://zhangzy_cloud_analytics/taxi/f2017-04.csv, gs://zhangzy_cloud_analytics/taxi/f2017-05.csv, gs://zhangzy_cloud_analytics/taxi/f2017-06.csv, gs://zhangzy_cloud_analytics/taxi/f2017-07.csv, gs://zhangzy_cloud_analytics/taxi/f2017-08.csv, gs://zhangzy_cloud_analytics/taxi/f2017-09.csv, gs://zhangzy_cloud_analytics/taxi/f2017-10.csv, gs://zhangzy_cloud_analytics/taxi/f2017-11.csv, gs://zhangzy_cloud_analytics/taxi/f2017-12.csv)\n"
      ]
     },
     "metadata": {},
     "output_type": "display_data"
    },
    {
     "data": {
      "text/plain": [
       "[gs://zhangzy_cloud_analytics/taxi/f2017-01.csv, gs://zhangzy_cloud_analytics/taxi/f2017-02.csv, gs://zhangzy_cloud_analytics/taxi/f2017-03.csv, gs://zhangzy_cloud_analytics/taxi/f2017-04.csv, gs://zhangzy_cloud_analytics/taxi/f2017-05.csv, gs://zhangzy_cloud_analytics/taxi/f2017-06.csv, gs://zhangzy_cloud_analytics/taxi/f2017-07.csv, gs://zhangzy_cloud_analytics/taxi/f2017-08.csv, gs://zhangzy_cloud_analytics/taxi/f2017-09.csv, gs://zhangzy_cloud_analytics/taxi/f2017-10.csv, gs://zhangzy_cloud_analytics/taxi/f2017-11.csv, gs://zhangzy_cloud_analytics/taxi/f2017-12.csv]"
      ]
     },
     "execution_count": 21,
     "metadata": {},
     "output_type": "execute_result"
    }
   ],
   "source": [
    "//This code constructs a list of files that need to be read\n",
    "val dates = Array(\"2017-01\",\"2017-02\",\"2017-03\",\"2017-04\",\"2017-05\",\n",
    "                  \"2017-06\",\"2017-07\",\"2017-08\",\"2017-09\",\"2017-10\",\n",
    "                  \"2017-11\",\"2017-12\")\n",
    "val files = dates.map(d => \"gs://zhangzy_cloud_analytics/taxi/f\"++d++\".csv\")"
   ]
  },
  {
   "cell_type": "markdown",
   "metadata": {},
   "source": [
    "#### Step 2"
   ]
  },
  {
   "cell_type": "code",
   "execution_count": 24,
   "metadata": {
    "scrolled": true
   },
   "outputs": [
    {
     "data": {
      "text/plain": [
       "data_rdd_array = Array(MapPartitionsRDD[101] at mapPartitionsWithIndex at <console>:32, MapPartitionsRDD[104] at mapPartitionsWithIndex at <console>:32, MapPartitionsRDD[107] at mapPartitionsWithIndex at <console>:32, MapPartitionsRDD[110] at mapPartitionsWithIndex at <console>:32, MapPartitionsRDD[113] at mapPartitionsWithIndex at <console>:32, MapPartitionsRDD[116] at mapPartitionsWithIndex at <console>:32, MapPartitionsRDD[119] at mapPartitionsWithIndex at <console>:32, MapPartitionsRDD[122] at mapPartitionsWithIndex at <console>:32, MapPartitionsRDD[125] at mapPartitionsWithIndex at <console>:32, MapPartitionsRDD[128] at mapPartitionsWithIndex at <console>:32, MapPartitionsRDD[131] at mapPartitionsWithIndex at <console>:32, MapPartitionsRDD[1...\n"
      ]
     },
     "metadata": {},
     "output_type": "display_data"
    },
    {
     "data": {
      "text/plain": [
       "[MapPartitionsRDD[101] at mapPartitionsWithIndex at <console>:32, MapPartitionsRDD[104] at mapPartitionsWithIndex at <console>:32, MapPartitionsRDD[107] at mapPartitionsWithIndex at <console>:32, MapPartitionsRDD[110] at mapPartitionsWithIndex at <console>:32, MapPartitionsRDD[113] at mapPartitionsWithIndex at <console>:32, MapPartitionsRDD[116] at mapPartitionsWithIndex at <console>:32, MapPartitionsRDD[119] at mapPartitionsWithIndex at <console>:32, MapPartitionsRDD[122] at mapPartitionsWithIndex at <console>:32, MapPartitionsRDD[125] at mapPartitionsWithIndex at <console>:32, MapPartitionsRDD[128] at mapPartitionsWithIndex at <console>:32, MapPartitionsRDD[131] at mapPartitionsWithIndex at <console>:32, MapPartitionsRDD[134] at mapPartitionsWithIndex at <console>:32]"
      ]
     },
     "execution_count": 24,
     "metadata": {},
     "output_type": "execute_result"
    }
   ],
   "source": [
    "//data_rdd_array is an array of MapPartitionsRDD. Each MapPartitionRDD corresponds to one data file.\n",
    "//Make sure that the data in data_rdd_array has the first two rows dropped (header and a blank row)\n",
    "val data_rdd_array = files.map(f=>sc.textFile(f).mapPartitionsWithIndex{ (idx,iter) => \n",
    "    if (idx==0) iter.drop(2) else iter})"
   ]
  },
  {
   "cell_type": "code",
   "execution_count": 25,
   "metadata": {},
   "outputs": [
    {
     "name": "stdout",
     "output_type": "stream",
     "text": [
      "1,2017-01-09 11:13:28,2017-01-09 11:25:45,1,3.30,1,N,263,161,1,12.5,0,0.5,2,0,0.3,15.3\n",
      "1,2017-01-09 11:32:27,2017-01-09 11:36:01,1,.90,1,N,186,234,1,5,0,0.5,1.45,0,0.3,7.25\n",
      "1,2017-01-09 11:38:20,2017-01-09 11:42:05,1,1.10,1,N,164,161,1,5.5,0,0.5,1,0,0.3,7.3\n",
      "1,2017-01-09 11:52:13,2017-01-09 11:57:36,1,1.10,1,N,236,75,1,6,0,0.5,1.7,0,0.3,8.5\n"
     ]
    }
   ],
   "source": [
    "//Check RDD\n",
    "data_rdd_array(0).take(4).foreach(println)"
   ]
  },
  {
   "cell_type": "markdown",
   "metadata": {},
   "source": [
    "#### Step 3"
   ]
  },
  {
   "cell_type": "code",
   "execution_count": 32,
   "metadata": {},
   "outputs": [
    {
     "data": {
      "text/plain": [
       "all_data = UnionRDD[168] at union at <console>:35\n"
      ]
     },
     "metadata": {},
     "output_type": "display_data"
    },
    {
     "data": {
      "text/plain": [
       "UnionRDD[168] at union at <console>:35"
      ]
     },
     "execution_count": 32,
     "metadata": {},
     "output_type": "execute_result"
    }
   ],
   "source": [
    "//all_data combines all the MapPartitionsRDDs in data_rdd_array into a single MapPartitionsRDD\n",
    "//Use union (see next cell) to combine two rdds\n",
    "//Use reduce to combine all the rdds in data_rdd_array\n",
    "val all_data = data_rdd_array.reduce(_ union _)"
   ]
  },
  {
   "cell_type": "code",
   "execution_count": 33,
   "metadata": {
    "scrolled": true
   },
   "outputs": [
    {
     "name": "stdout",
     "output_type": "stream",
     "text": [
      "1,2017-01-09 11:13:28,2017-01-09 11:25:45,1,3.30,1,N,263,161,1,12.5,0,0.5,2,0,0.3,15.3\n",
      "1,2017-01-09 11:32:27,2017-01-09 11:36:01,1,.90,1,N,186,234,1,5,0,0.5,1.45,0,0.3,7.25\n",
      "1,2017-01-09 11:38:20,2017-01-09 11:42:05,1,1.10,1,N,164,161,1,5.5,0,0.5,1,0,0.3,7.3\n",
      "1,2017-01-09 11:52:13,2017-01-09 11:57:36,1,1.10,1,N,236,75,1,6,0,0.5,1.7,0,0.3,8.5\n"
     ]
    }
   ],
   "source": [
    "//Check RDD\n",
    "all_data.take(4).foreach(println)"
   ]
  },
  {
   "cell_type": "markdown",
   "metadata": {},
   "source": [
    "#### Step 4"
   ]
  },
  {
   "cell_type": "code",
   "execution_count": 34,
   "metadata": {},
   "outputs": [
    {
     "data": {
      "text/plain": [
       "split_data = MapPartitionsRDD[169] at map at <console>:35\n"
      ]
     },
     "metadata": {},
     "output_type": "display_data"
    },
    {
     "data": {
      "text/plain": [
       "MapPartitionsRDD[169] at map at <console>:35"
      ]
     },
     "execution_count": 34,
     "metadata": {},
     "output_type": "execute_result"
    }
   ],
   "source": [
    "//Split all rows on comma\n",
    "val split_data = all_data.map(l => l.split(\",\"))"
   ]
  },
  {
   "cell_type": "code",
   "execution_count": 37,
   "metadata": {},
   "outputs": [
    {
     "data": {
      "text/plain": [
       "[1, 2017-01-09 11:13:28, 2017-01-09 11:25:45, 1, 3.30, 1, N, 263, 161, 1, 12.5, 0, 0.5, 2, 0, 0.3, 15.3]"
      ]
     },
     "execution_count": 37,
     "metadata": {},
     "output_type": "execute_result"
    }
   ],
   "source": [
    "//Check RDD\n",
    "split_data.first"
   ]
  },
  {
   "cell_type": "code",
   "execution_count": 55,
   "metadata": {},
   "outputs": [
    {
     "data": {
      "text/plain": [
       "113496874"
      ]
     },
     "execution_count": 55,
     "metadata": {},
     "output_type": "execute_result"
    }
   ],
   "source": [
    "split_data.count                  // 113,496,874 records in total"
   ]
  },
  {
   "cell_type": "markdown",
   "metadata": {},
   "source": [
    "#### Step 5"
   ]
  },
  {
   "cell_type": "code",
   "execution_count": 117,
   "metadata": {
    "scrolled": true
   },
   "outputs": [
    {
     "data": {
      "text/plain": [
       "mapped_data = MapPartitionsRDD[198] at map at <console>:39\n"
      ]
     },
     "metadata": {},
     "output_type": "display_data"
    },
    {
     "data": {
      "text/plain": [
       "MapPartitionsRDD[198] at map at <console>:39"
      ]
     },
     "execution_count": 117,
     "metadata": {},
     "output_type": "execute_result"
    }
   ],
   "source": [
    "//Create a map rdd. \n",
    "//The key should be the pickup point id (column 7).                           // \"zone\"\n",
    "//The value the sum of the fare (column 10) and the tip (column 13)           // \"trip_cost\"\n",
    "val mapped_data = split_data.map(l=>(l(7), (l(10).toDouble+l(13).toDouble, \n",
    "            (l(10).toDouble+l(13).toDouble)*(l(10).toDouble+l(13).toDouble))))// sum-squares of \"trip_cost\""
   ]
  },
  {
   "cell_type": "code",
   "execution_count": 118,
   "metadata": {},
   "outputs": [
    {
     "name": "stdout",
     "output_type": "stream",
     "text": [
      "(263,(14.5,210.25))\n",
      "(186,(6.45,41.6025))\n",
      "(164,(6.5,42.25))\n",
      "(236,(7.7,59.290000000000006))\n"
     ]
    }
   ],
   "source": [
    "//Check RDD\n",
    "mapped_data.take(4).foreach(println)"
   ]
  },
  {
   "cell_type": "code",
   "execution_count": 120,
   "metadata": {},
   "outputs": [
    {
     "data": {
      "text/plain": [
       "113496874"
      ]
     },
     "execution_count": 120,
     "metadata": {},
     "output_type": "execute_result"
    }
   ],
   "source": [
    "mapped_data.count                 // 113,496,874 trips in total\n",
    "                                  // same number as the total records, \n",
    "                                  // therefore no missing values that can't be converted to Double"
   ]
  },
  {
   "cell_type": "code",
   "execution_count": 121,
   "metadata": {},
   "outputs": [
    {
     "data": {
      "text/plain": [
       "265"
      ]
     },
     "execution_count": 121,
     "metadata": {},
     "output_type": "execute_result"
    }
   ],
   "source": [
    "mapped_data.keys.distinct.count   // 265 zones in total"
   ]
  },
  {
   "cell_type": "code",
   "execution_count": 122,
   "metadata": {},
   "outputs": [
    {
     "data": {
      "text/plain": [
       "113496874"
      ]
     },
     "execution_count": 122,
     "metadata": {},
     "output_type": "execute_result"
    }
   ],
   "source": [
    "mapped_data.values.count"
   ]
  },
  {
   "cell_type": "markdown",
   "metadata": {},
   "source": [
    "#### Step 6"
   ]
  },
  {
   "cell_type": "code",
   "execution_count": 138,
   "metadata": {},
   "outputs": [
    {
     "data": {
      "text/plain": [
       "combiner = > (Int, (Double, Double)) = <function1>\n",
       "merger = > (Int, (Double, Double)) = <function2>\n",
       "mergeAndCombiner = > (Int, (Double, Double)) = <function2>\n"
      ]
     },
     "metadata": {},
     "output_type": "display_data"
    },
    {
     "data": {
      "text/plain": [
       "<function2>"
      ]
     },
     "execution_count": 138,
     "metadata": {},
     "output_type": "execute_result"
    }
   ],
   "source": [
    "//Write the combiner, the merger, and the mergeAndCombiner\n",
    "\n",
    "val combiner = (x: (Double, Double)) => (1,x)\n",
    "val merger = (x: (Int, (Double, Double)),y: (Double, Double)) => {\n",
    "    val (c,(acc_value_1,acc_square_1)) = x\n",
    "    val (acc_value_2, acc_square_2) = y\n",
    "    (c+1, (acc_value_1+acc_value_2, acc_square_1+ acc_square_2))\n",
    "}\n",
    "val mergeAndCombiner = (x1: (Int, (Double, Double)), x2: (Int, (Double, Double))) => {\n",
    "    val (c1, (acc_value_1, acc_square_1)) = x1\n",
    "    val (c2, (acc_value_2, acc_square_2)) = x2\n",
    "    (c1+c2, (acc_value_1+acc_value_2, acc_square_1+ acc_square_2))\n",
    "}"
   ]
  },
  {
   "cell_type": "code",
   "execution_count": 139,
   "metadata": {},
   "outputs": [
    {
     "data": {
      "text/plain": [
       "(1,(14.5,210.25))"
      ]
     },
     "execution_count": 139,
     "metadata": {},
     "output_type": "execute_result"
    }
   ],
   "source": [
    "//Test\n",
    "combiner((14.5,210.25))"
   ]
  },
  {
   "cell_type": "code",
   "execution_count": 140,
   "metadata": {},
   "outputs": [
    {
     "data": {
      "text/plain": [
       "(2,(5.4,15.3))"
      ]
     },
     "execution_count": 140,
     "metadata": {},
     "output_type": "execute_result"
    }
   ],
   "source": [
    "merger((1,(2.1,4.41)),(3.3,10.89))"
   ]
  },
  {
   "cell_type": "code",
   "execution_count": 142,
   "metadata": {},
   "outputs": [
    {
     "data": {
      "text/plain": [
       "(9,(26.6,66.1))"
      ]
     },
     "execution_count": 142,
     "metadata": {},
     "output_type": "execute_result"
    }
   ],
   "source": [
    "mergeAndCombiner((2,(5.4,15.3)),(7,(21.2,50.8)))"
   ]
  },
  {
   "cell_type": "markdown",
   "metadata": {},
   "source": [
    "#### Step 7"
   ]
  },
  {
   "cell_type": "code",
   "execution_count": 143,
   "metadata": {
    "scrolled": true
   },
   "outputs": [
    {
     "data": {
      "text/plain": [
       "combined_data = ShuffledRDD[204] at combineByKey at <console>:43\n"
      ]
     },
     "metadata": {},
     "output_type": "display_data"
    },
    {
     "data": {
      "text/plain": [
       "ShuffledRDD[204] at combineByKey at <console>:43"
      ]
     },
     "execution_count": 143,
     "metadata": {},
     "output_type": "execute_result"
    }
   ],
   "source": [
    "//Do the combine by key\n",
    "val combined_data = mapped_data.combineByKey(combiner,merger,mergeAndCombiner)"
   ]
  },
  {
   "cell_type": "code",
   "execution_count": 144,
   "metadata": {},
   "outputs": [
    {
     "name": "stdout",
     "output_type": "stream",
     "text": [
      "(231,(2059762,(3.067394365000015E7,6.860670653134961E8)))\n",
      "(187,(39,(1190.7199999999998,73584.519)))\n",
      "(22,(1557,(43554.29000000001,3737455.855500001)))\n",
      "(77,(767,(16293.5,603246.5922)))\n"
     ]
    }
   ],
   "source": [
    "//Check RDD\n",
    "combined_data.take(4).foreach(println)"
   ]
  },
  {
   "cell_type": "code",
   "execution_count": 145,
   "metadata": {},
   "outputs": [
    {
     "data": {
      "text/plain": [
       "265"
      ]
     },
     "execution_count": 145,
     "metadata": {},
     "output_type": "execute_result"
    }
   ],
   "source": [
    "//265 zones\n",
    "combined_data.count"
   ]
  },
  {
   "cell_type": "markdown",
   "metadata": {},
   "source": [
    "#### Step 8"
   ]
  },
  {
   "cell_type": "code",
   "execution_count": 167,
   "metadata": {},
   "outputs": [
    {
     "data": {
      "text/plain": [
       "getVarAndAvgFunction = > (String, (Double, Double)) = <function1>\n"
      ]
     },
     "metadata": {},
     "output_type": "display_data"
    },
    {
     "data": {
      "text/plain": [
       "<function1>"
      ]
     },
     "execution_count": 167,
     "metadata": {},
     "output_type": "execute_result"
    }
   ],
   "source": [
    "//Write a function that returns the variance and the average\n",
    "//getVarAndAvgFunction = > (String, Double, Double)\n",
    "val getVarAndAvgFunction = (x: (String, (Int, (Double,Double)))) => {\n",
    "    val (identifier, (count,(total, sum_squares))) = x\n",
    "    (identifier,(total/count,(sum_squares-count*(total/count)*(total/count))/(count)))\n",
    "}"
   ]
  },
  {
   "cell_type": "markdown",
   "metadata": {},
   "source": [
    "#### Step 9"
   ]
  },
  {
   "cell_type": "code",
   "execution_count": 168,
   "metadata": {},
   "outputs": [
    {
     "data": {
      "text/plain": [
       "result = MapPartitionsRDD[209] at map at <console>:47\n"
      ]
     },
     "metadata": {},
     "output_type": "display_data"
    },
    {
     "data": {
      "text/plain": [
       "MapPartitionsRDD[209] at map at <console>:47"
      ]
     },
     "execution_count": 168,
     "metadata": {},
     "output_type": "execute_result"
    }
   ],
   "source": [
    "//get the result\n",
    "val result = combined_data.map(getVarAndAvgFunction)"
   ]
  },
  {
   "cell_type": "code",
   "execution_count": 169,
   "metadata": {},
   "outputs": [
    {
     "name": "stdout",
     "output_type": "stream",
     "text": [
      "(231,(14.891984438007958,111.30954635795813))\n",
      "(187,(30.531282051282044,954.6233547666013))\n",
      "(22,(27.973211303789345,1617.920679604033))\n",
      "(77,(21.24315514993481,335.2297832653681))\n"
     ]
    }
   ],
   "source": [
    "result.take(4).foreach(println)"
   ]
  },
  {
   "cell_type": "markdown",
   "metadata": {},
   "source": [
    "#### Step 10"
   ]
  },
  {
   "cell_type": "code",
   "execution_count": 170,
   "metadata": {},
   "outputs": [
    {
     "data": {
      "text/plain": [
       "Map(188 -> (14.666259597276547,249.33821353365224), 204 -> (55.007297297297306,2666.616625127829), 194 -> (42.805802593659955,915.6050500618951), 90 -> (12.35628407722453,136849.62022189386), 99 -> (52.35909090909092,4379.528771900826), 111 -> (16.0392748091603,273.77483878707557), 167 -> (14.47286124794746,515.4062245308296), 57 -> (24.40454356846474,1111.236518982541), 210 -> (25.3325850340136,1944.843263249572), 219 -> (58.665347031963464,2077.5550642402964), 84 -> (47.905641025641025,4007.681301512163), 173 -> (13.861785099582,321.71716794693333), 78 -> (22.573630077787378,2130.0479849210656), 63 -> (21.352359223300972,438.5596153078517), 105 -> (20.524878048780483,217.5336249851281), 149 -> (21.416573116691282,633.8049980053631), 45 -> (15.392694347338317,175.53256530538297), 30 -> (40.52771428571429,4862.637611918368), 197 -> (32.31200050645733,2040.6372585454546), 248 -> (18.38524193548387,677.6241638815593), 39 -> (25.33236898395722,1184.2685940135839), 155 -> (31.82151020408163,1427.0934767669041), 66 -> (17.338080059448146,121.11604072394243), 161 -> (13.606695010706286,173803.99157910544), 51 -> (28.871599353796448,1313.1929620624226), 260 -> (15.127405997422986,232.11124409111082), 87 -> (19.463801067313423,159.17307740703197), 2 -> (46.053763440860195,346.0405051913535), 182 -> (16.429005847953214,261.83151137590556), 176 -> (56.693428571428576,2095.2665882448964), 72 -> (18.813974895397493,516.8068343257295), 254 -> (19.0009756097561,692.2180629762987), 263 -> (11.633763174041357,123.07069194075486), 5 -> (73.63933333333333,2436.1953928888893), 158 -> (13.89031833180296,36166.46519685363), 257 -> (17.906688311688317,341.7885931785744), 48 -> (12.949787083302239,115.68252967207653), 236 -> (11.39322482860771,28058.836378237196), 143 -> (11.85535494151813,75.08069854879521), 242 -> (17.708488453463968,745.8305373933234), 33 -> (17.554895994982683,137.64903494343127), 69 -> (14.3917397314376,312.40863719845316), 137 -> (12.32679988136515,74.4487610169833), 27 -> (39.764827586206906,1205.0320249702731), 164 -> (13.326805116395088,123.03104323680398), 54 -> (16.47758984840743,156.8670025202442), 12 -> (19.034240455670748,128.8087496432032), 179 -> (13.449453577055534,115.19593698757262), 170 -> (13.1487722427423,45056.64621587753), 60 -> (14.739058402860552,331.9523787319884), 152 -> (13.018518768748484,102.42821985011261), 8 -> (31.180345356868763,1048.9133012621571), 125 -> (14.077566168169747,127.54718160253697), 218 -> (25.78921077959576,990.6037156427718), 15 -> (32.20188679245283,2237.113950402278), 42 -> (11.592269865183306,107.71704665860435), 131 -> (23.83715698393077,1819.4492828937737), 251 -> (28.347772020725394,1571.790934414347), 110 -> (17.0,78.16666666666667), 245 -> (50.436734693877554,1451.3256668887966), 146 -> (13.821762097363683,137.38492569153024), 239 -> (12.023216615717425,136794.21063380176), 36 -> (15.017281512855693,121.06720558483217), 98 -> (22.67103313840155,757.604534020345), 230 -> (14.701239319865488,163.6409156095912), 21 -> (24.128524355300854,894.426228911298), 224 -> (12.787402682163068,78.7398428438332), 119 -> (16.417134958532298,372.88170056258514), 206 -> (33.67697674418605,1198.9096280692268), 71 -> (17.78752653061224,333.9150525758266), 233 -> (13.932276196607697,128.8673094817686), 92 -> (20.435565968393977,1352.4520459218702), 113 -> (12.39141684377417,75.12850127976462), 128 -> (18.974047954866005,265.54715075087375), 18 -> (15.356131687242799,251.19795738183544), 196 -> (21.739042085072775,382.606729004547), 86 -> (61.7712048192771,9269.285599753233), 24 -> (12.719879525349816,93.0740902315388), 227 -> (18.66140934844193,401.59332358030895), 140 -> (12.823246831319821,80.52893027317656), 134 -> (29.61125426039537,793.9797122305113), 212 -> (16.641407942238263,609.6773471151711), 107 -> (12.351525555088065,94.32031483013775), 184 -> (46.88937500000001,3993.2288058593767), 74 -> (11.546775465072475,98.20349809700964), 101 -> (33.76747807017544,2229.1102495609225), 89 -> (17.053174226804124,279.8839272954181), 200 -> (24.795354141656663,773.5869228337673), 215 -> (57.578005197376605,796.8741066258799), 209 -> (17.572183995775525,141.62967152424298), 199 -> (17.731785714285714,203.4686789540817), 122 -> (25.320269058295963,1119.7747595688634), 95 -> (18.97276538695918,289.84199069510896), 190 -> (15.661050204009227,151.46758300209186), 53 -> (22.27358514724712,346.0523669162457), 68 -> (13.277162890309558,57817.010633373764), 80 -> (14.640052810024528,129.85684852306164), 178 -> (11.492285168682368,561.8806119008559), 221 -> (24.071052631578954,1083.4421350323175), 116 -> (14.550887777191337,122.96844627796432), 41 -> (11.74168837271245,92.43584869512047), 35 -> (18.247705156136522,307.2326844940407), 193 -> (11.714478041756657,14044.465360800183), 83 -> (14.03125735797399,251.45019170447176), 151 -> (12.149401841723096,83.75884912553586), 104 -> (53.019999999999996,0.0), 203 -> (39.82230366492147,3752.0843308187823), 166 -> (13.702801440684945,109.79666352482131), 172 -> (48.92258620689656,1912.9206605529125), 56 -> (29.537519960079837,749.9181254861288), 62 -> (14.414711216242852,143.32606426215895), 265 -> (78.92438366568352,5289.912433232378), 7 -> (12.41053476360748,124.32956115920024), 187 -> (30.53128205128205,954.6233547666009), 250 -> (19.027205067300084,1015.269200818596), 77 -> (21.243155149934807,335.2297832653681), 259 -> (23.921170731707317,1005.7266288732895), 133 -> (17.411640866873057,458.65483221922983), 181 -> (14.98181048967384,123.92571331784274), 59 -> (15.642500000000002,318.74410374999985), 232 -> (17.934918768586844,1331256.8522068923), 154 -> (53.929624573378824,5303.951437060421), 148 -> (14.550265956371172,97.50795369299226), 1 -> (83.15416975936786,2174.3711052875983), 17 -> (12.561424382069541,147.98091958500584), 50 -> (13.228808815674206,111.76226753296902), 44 -> (80.0025,5372.527635416667), 253 -> (50.45600000000002,4045.8849623050824), 247 -> (15.34749730365722,267.41729666326887), 169 -> (15.50536893203884,393.59205826194756), 23 -> (46.02861271676301,4464.386452410707), 160 -> (24.629442586399104,555.560208942356), 38 -> (41.56649717514124,1500.5050594816316), 175 -> (23.61630319148936,948.1505052165854), 65 -> (16.73519757739236,144.09521486088218), 142 -> (12.230083229791841,9061.476796570721), 220 -> (17.17522881355933,339.499506727305), 47 -> (14.179899380804947,293.64830115086664), 163 -> (13.675281972199103,133.02730662195665), 121 -> (22.276159334126046,821.5271991612946), 4 -> (13.420101442850521,84.10288503372846), 157 -> (32.6024013031813,721.8798374878631), 26 -> (15.560443109275248,724.5884503481532), 229 -> (12.109555185943243,78.4830296501355), 256 -> (14.57748793620782,92.2238659177406), 115 -> (20.545422535211266,684.8323867932951), 11 -> (31.888013793103454,3359.6333477791186), 214 -> (38.25351063829787,914.8201653349939), 241 -> (18.10855698529412,570.1006752155027), 136 -> (15.440252600297173,353.2710006791351), 235 -> (16.189607933579335,597.2146272909334), 32 -> (18.998610478359907,343.7629992081816), 262 -> (12.284800404271335,81.31456899096365), 238 -> (11.94772218244033,19585.737636465023), 14 -> (21.442927203065132,861.2156654927848), 202 -> (18.393480151228733,351.5271056768272), 82 -> (15.730053428857653,262.63874129825956), 97 -> (14.287048332088519,106.35912213884482), 139 -> (31.542733333333338,1113.0789125288888), 130 -> (46.592516701347044,1156.0184362026307), 124 -> (54.32527081649149,4735.195982889473), 20 -> (18.277282463186076,256.7559466979925), 223 -> (17.85362482698331,458.98152143191237), 118 -> (27.621811594202903,1184.1231554137785), 29 -> (30.124182424916576,3323.2900559222257), 145 -> (16.724716714705796,136910.6685362787), 244 -> (16.819072744993804,172.63874855806094), 103 -> (11.5,0.0), 217 -> (11.99761325543531,126.65667423832227), 189 -> (14.259977291994668,114.02433367697033), 85 -> (15.715997615262323,189.83200866295155), 112 -> (14.619088133586711,134.68427188104548), 79 -> (13.024831651602486,76.50862954559979), 180 -> (32.834780701754376,735.7537370133118), 205 -> (25.88215328467153,807.6402734655551), 211 -> (13.720749274769576,97.91851676916984), 70 -> (33.963715672348485,1832.4119638334578), 127 -> (17.563436052725322,217.63986355870028), 64 -> (33.03244094488189,1715.5045250129167), 195 -> (22.053249795696,317.7655829828211), 91 -> (22.69913467048711,459.49949409361136), 106 -> (14.301659480693687,150.4440973994245), 226 -> (16.146724624375253,297.9615110315866), 46 -> (33.322575757575756,960.51184033517), 208 -> (32.253184210526314,2203.1789795976456), 198 -> (16.287576155462187,300.53752650417937), 94 -> (16.285492577597836,560.1224471595267), 52 -> (17.11526184951939,150.05808042002994), 183 -> (23.651621621621622,935.5478135865594), 109 -> (52.6109756097561,2145.549194170136), 177 -> (19.097034249153182,446.04465428298204), 73 -> (20.093405797101447,385.0470623135895), 67 -> (22.280175054704596,663.2260927483486), 162 -> (13.627045276481528,41206.6208605361), 261 -> (18.613728014274812,162.26353084445338), 88 -> (20.06081544765974,153.82406688444144), 100 -> (13.012153953394987,117.2013155690465), 192 -> (19.638006962576153,762.4864286648773), 34 -> (14.565680724596659,100.43936679531792), 150 -> (34.07799019607843,2232.419532235198), 264 -> (15.986400066278701,21468.668715724856), 159 -> (13.22989844278944,239.6877002605054), 28 -> (41.40168678003291,1279.5179104844497), 6 -> (20.02582978723404,2037.1026728220916), 40 -> (16.181538601216594,145.46526045690527), 258 -> (23.057359154929582,1165.4948976034016), 55 -> (27.197637426900588,965.7252407340379), 165 -> (17.86551763367464,469.4814238219298), 243 -> (17.622166740185264,236.02984206306672), 186 -> (13.564642157829772,132.99716103222318), 144 -> (13.856801025012988,87.89546977112285), 49 -> (13.454633200121531,117.49244675893495), 171 -> (20.17698648648649,485.34636970251944), 61 -> (14.844569449026729,179.4763288397), 76 -> (26.008965204236006,844.8364921818443), 147 -> (16.605311542390194,479.3976959958934), 9 -> (23.594025974025975,896.0870032720528), 43 -> (12.487228917367204,75.93443756181921), 174 -> (19.06234892787525,476.98518756246), 168 -> (13.58378198149156,526.343813608973), 231 -> (14.89198443800796,111.30954635795801), 246 -> (13.445375354533942,111.58836176331138), 126 -> (19.766161858974353,707.3876694834174), 153 -> (14.071512981199644,172.00049592037757), 22 -> (27.97321130378935,1617.9206796040323), 252 -> (51.77329987452949,4946.0131182199875), 58 -> (30.93777777777778,3387.9353358024696), 16 -> (25.853338815789474,1038.2784455957305), 225 -> (13.656524926686217,126.57088124416526), 132 -> (52.01393040830138,34969.4810819734), 37 -> (13.793044661287297,107.07520239889351), 141 -> (11.792571831945937,443981.89889904164), 19 -> (23.295086767895874,1134.2173961421465), 249 -> (12.903369837386338,64819.7619338078), 207 -> (10.438902883659262,464.48262382119515), 3 -> (21.86775449101797,351.96006352056327), 156 -> (24.045755813953487,1494.396846521769), 255 -> (14.842526448432485,97.3734789139452), 213 -> (25.4146491849752,1732.2285839130734), 10 -> (57.66169821012286,837.5082192109912), 240 -> (26.80650455927051,1263.8352531314376), 135 -> (19.627366650648725,450.2893667319778), 129 -> (14.198353799447188,327.8500292458592), 31 -> (27.314165232357997,590.9634897076386), 25 -> (14.860215548438088,120.63547644203778), 234 -> (12.71796748112392,52112.76848398157), 120 -> (24.777725903614463,952.9939112441481), 93 -> (49.50503531073446,837.4586193105134), 228 -> (16.864744853000076,245.7342921943729), 108 -> (35.36221875000001,3461.8958335146476), 114 -> (13.118101649885062,75.5243830186957), 191 -> (23.97859154929578,1006.0273780632147), 222 -> (33.51481366459628,2136.9119007416766), 123 -> (18.633117154811714,704.6515109946428), 117 -> (87.63868085106382,11664.038497408785), 13 -> (18.6069105658336,37076.22769625857), 185 -> (17.28532324621733,320.3403231073414), 216 -> (49.04780096501812,1817.228529772201), 75 -> (11.772116078953397,84.86377385385845), 81 -> (20.72404358353511,404.08509866153867), 201 -> (35.370598290598295,1435.2286432317915), 96 -> (20.131341853035142,367.1738704039032), 138 -> (38.70892253839607,216.1304102792664), 102 -> (21.641748400852872,506.02983233755094), 237 -> (10.831345987005713,79.25242555438362))"
      ]
     },
     "execution_count": 170,
     "metadata": {},
     "output_type": "execute_result"
    }
   ],
   "source": [
    "//Show the output (run collectAsMap on result)\n",
    "\n",
    "result.collectAsMap"
   ]
  },
  {
   "cell_type": "markdown",
   "metadata": {},
   "source": [
    "<h2>The data</h2>\n",
    "<li>nyc yellow cab data is available from <a href=\"https://www1.nyc.gov/site/tlc/about/tlc-trip-record-data.page\">https://www1.nyc.gov/site/tlc/about/tlc-trip-record-data.page</a></li>\n",
    "<li>We will work with all the data from 2017</li>\n",
    "<li>Rather than downloading each file separately, we'll use a shell script to download all twelve 2017 files</li>"
   ]
  },
  {
   "cell_type": "markdown",
   "metadata": {},
   "source": [
    "<h3>get_files.sh</h3>"
   ]
  },
  {
   "cell_type": "raw",
   "metadata": {},
   "source": [
    "#!/bin/bash\n",
    "declare -a arr=(\"2017-01\" \"2017-02\" \"2017-03\" \"2017-04\" \"2017-05\" \"2017-06\" \"2017-07\" \"2017-08\" \"2017-09\" \"2017-10\"\n",
    " \"2017-11\" \"2017-12\" ) \n",
    "for val in ${arr[@]}\n",
    "do\n",
    "        `curl -o /cloud-class-2020/taxi/f$val.csv https://s3.amazonaws.com/nyc-tlc/trip+data/yellow_tripdata_$val.csv`\n",
    "done"
   ]
  },
  {
   "cell_type": "raw",
   "metadata": {},
   "source": [
    "LINE 1: #!/bin/bash\n",
    "LINE 2: declare -a arr=(\"2017-01\" \"2017-02\" \"2017-03\" \"2017-04\" \"2017-05\" \"2017-06\" \"2017-07\" \"2017-08\" \"2017-09\" \"2017-10\" \"2017-11\" \"2017-12\" ) \n",
    "LINE 3: for val in ${arr[@]}\n",
    "LINE 4: do\n",
    "LINE 5:        `curl -o /cloud-class-2020/taxi/f$val.csv https://s3.amazonaws.com/nyc-tlc/trip+data/yellow_tripdata_$val.csv`\n",
    "LINE 6: done"
   ]
  },
  {
   "cell_type": "markdown",
   "metadata": {},
   "source": [
    "<h3>the script explained</h3>\n",
    "<li>You don't have to read this!</li>\n",
    "<li><span style=\"color:blue\">LINE 1</span>: There are many different unix shells (csh, bash, dash, zsh, etc.). When writing a shell script, the first line tells the OS which shell to run. All the shells are stored in /bin (take a look at the contents of /bin using <span style=\"color:red\">ls /bin</span>). </li>\n",
    "<li><span style=\"color:blue\">LINE 2</span>: <span style=\"color:red\">declare</span> declares a new variable. The <span style=\"color:red\">-a</span> option indicates that the variable is an array. Note that the elements are separated by space rather than a comma</li>\n",
    "<li><span style=\"color:blue\">LINE 3</span>: A for loop. arr[@] indicates that we want to use the variable arr (declared in line 2) as a collection from which we will draw values. The \\$ sign is a peculiarity of unix shell. When declaring a variable, only the name of the variable is used (e.g., x=5) but when using a pre-declared variable, the \\$ sign must be appended in front of the variable name (e.g., echo \\$x). Note that there should be no spaces in x=5)</li>\n",
    "<li><span style=\"color:blue\">LINE 4</span>: do indicates the start of the for block</li>\n",
    "<li><span style=\"color:blue\">LINE 5</span>: curl is a linux command for getting a file from the internet. Here we want to get the file https://s3.amazonaws.com/nyc-tlc/trip+data/yellow_tripdata_\\$val.csv after substituting 2017-01, 2017-02, etc. for \\$val (we're using the val variable so need to put a \\$ in front - hopefully you can see why!). The -o option specifies the name of the output file. I'm saving the files in /cloud-class-2020/taxi/f\\$val.csv (again, see the \\$val). cloud-class-2020 is my storage bucket and I've created a sub-directory taxi for storing all the files. You will need to change cloud-class-2020 to the name of your storage bucket.</li>\n",
    "<li><span style=\"color:blue\">LINE 6</span>: done indicates the end of the for block</li>"
   ]
  },
  {
   "cell_type": "markdown",
   "metadata": {},
   "source": [
    "<h3>Dealing with the script</h3>\n",
    "<li>modify the script to replace cloud-class-2020 with the name of your storage bucket</li>\n",
    "<li>upload it to your VM</li>\n",
    "<ol>\n",
    "    <li>Choose Compute engine from the navigation menu on google cloud console</li>\n",
    "    <li>Launch an ssh shell (the first option on the SSH dropdown menu at the end of the VM entry)</li>\n",
    "    <li>Click on the gear icon on the top right corner of the shell window</li>\n",
    "    <li>Choose upload file and upload the shell script. The script will now be in the home directory of your virtual machine (note that this is not your storage bucket!)<li>\n",
    "    <li>type chmod u+x get_files.sh to make the script executable</li>\n",
    "</ol>\n",
    "<li>Create the taxi directory using the command mkdir /cloud-console-2020/taxi (replace cloud-console-2020 with the name of your own storage bucket)</li>\n",
    "<li>Run get_files.sh with the command ./get_files.sh</li>\n",
    "<li>This will take a while but curl will give you download stats as it downloads each file</li>\n",
    "<li>Once completed, navigate to your storage bucket on google cloud console and make sure the files are in the bucket</li>"
   ]
  },
  {
   "cell_type": "markdown",
   "metadata": {},
   "source": [
    "<h1>The problem</h1>\n",
    "<li><b>Calculate the mean and the variance of the trip cost for trips originating in each taxi zone</b></li>\n",
    "<li>The PULocationID column corresponds to the taxi zone</li>\n",
    "<li>The trip cost is the fare_amount plus the tip_amount. You can ignore all other charges</li>\n",
    "<li>You <b>must use combineByKey</b> for this problem. And you must use the one pass method for calculating both the mean as well as the variance. (i.e., you should <b>make only one call to combineByKey</b>)</li>\n",
    "<li>Use the following formula for calculating variance: $ variance = \\frac{\\sum x_i^2 -n\\bar{x}^2}{(n-1)} $ </li>\n",
    "<li>The program should <b>output a Map</b> of (zone -> (mean,variance), zone  -> (mean,variance) , ......</li>\n",
    "\n",
    "Example of output:\n",
    "\n",
    "Map(188 -> (14.666259597276545,249.33821353365235), 204 -> (55.0072972972973,2666.6166251278305), 194 -> (42.80580259365995,915.6050500618951), ...."
   ]
  },
  {
   "cell_type": "code",
   "execution_count": null,
   "metadata": {},
   "outputs": [],
   "source": [
    "Map(188 -> (14.666259597276547,249.33821353365218), 204 -> (55.0072972972973,2666.6166251278305), \n",
    "    194 -> (42.805802593659955,915.6050500618951))"
   ]
  }
 ],
 "metadata": {
  "kernelspec": {
   "display_name": "spylon-kernel",
   "language": "scala",
   "name": "spylon-kernel"
  },
  "language_info": {
   "codemirror_mode": "text/x-scala",
   "file_extension": ".scala",
   "help_links": [
    {
     "text": "MetaKernel Magics",
     "url": "https://metakernel.readthedocs.io/en/latest/source/README.html"
    }
   ],
   "mimetype": "text/x-scala",
   "name": "scala",
   "pygments_lexer": "scala",
   "version": "0.4.1"
  }
 },
 "nbformat": 4,
 "nbformat_minor": 2
}

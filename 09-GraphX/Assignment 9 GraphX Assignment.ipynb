{
 "cells": [
  {
   "cell_type": "markdown",
   "metadata": {},
   "source": [
    "<h1>GraphX Assignment</h1>\n",
    "In this assignment, you need to do the following:\n",
    "<li>Read the file 201710-citibike-tripdata.csv</li>\n",
    "<li>Construct a graph with stations as vertices and trips between stations as edges</li>\n",
    "<li>Vertex Ids are station numbers and Vertex attributes are station names</li>\n",
    "<li>Edge attributes are trip duration (durations are in seconds)</li>\n",
    "<li>Then answer the questions below</li>"
   ]
  },
  {
   "cell_type": "code",
   "execution_count": 1,
   "metadata": {
    "hideCode": false,
    "hidePrompt": false
   },
   "outputs": [
    {
     "data": {
      "text/plain": [
       "Intitializing Scala interpreter ..."
      ]
     },
     "metadata": {},
     "output_type": "display_data"
    },
    {
     "data": {
      "text/plain": [
       "Spark Web UI available at http://ziyangs-mbp.attlocal.net:4040\n",
       "SparkContext available as 'sc' (version = 2.4.6, master = local[*], app id = local-1596176960202)\n",
       "SparkSession available as 'spark'\n"
      ]
     },
     "metadata": {},
     "output_type": "display_data"
    },
    {
     "data": {
      "text/plain": [
       "import org.apache.spark.graphx._\n",
       "import org.apache.spark.rdd.RDD\n"
      ]
     },
     "execution_count": 1,
     "metadata": {},
     "output_type": "execute_result"
    }
   ],
   "source": [
    "import org.apache.spark.graphx._\n",
    "import org.apache.spark.rdd.RDD\n"
   ]
  },
  {
   "cell_type": "markdown",
   "metadata": {},
   "source": [
    "<h1>Step 1: Construct the graph</h1>\n",
    "<li>read the data file and drop the header line</li>\n",
    "<li>create a vertex rdd (the union of start stations and end stations)</li>\n",
    "<li>create an edge rdd (the trips - start station id, end station id, duration)</li>\n",
    "<li>create a graph</li>"
   ]
  },
  {
   "cell_type": "code",
   "execution_count": 2,
   "metadata": {
    "hideCode": false,
    "hidePrompt": false,
    "scrolled": true
   },
   "outputs": [
    {
     "data": {
      "text/plain": [
       "data: org.apache.spark.rdd.RDD[String] = 201710-citibike-tripdata.csv MapPartitionsRDD[1] at textFile at <console>:30\n"
      ]
     },
     "execution_count": 2,
     "metadata": {},
     "output_type": "execute_result"
    }
   ],
   "source": [
    "// read the data file\n",
    "val data = sc.textFile(\"201710-citibike-tripdata.csv\")"
   ]
  },
  {
   "cell_type": "code",
   "execution_count": 3,
   "metadata": {
    "scrolled": true
   },
   "outputs": [
    {
     "data": {
      "text/plain": [
       "res0: String = \"tripduration\",\"starttime\",\"stoptime\",\"start station id\",\"start station name\",\"start station latitude\",\"start station longitude\",\"end station id\",\"end station name\",\"end station latitude\",\"end station longitude\",\"bikeid\",\"usertype\",\"birth year\",\"gender\"\n"
      ]
     },
     "execution_count": 3,
     "metadata": {},
     "output_type": "execute_result"
    }
   ],
   "source": [
    "data.first"
   ]
  },
  {
   "cell_type": "code",
   "execution_count": 4,
   "metadata": {},
   "outputs": [
    {
     "data": {
      "text/plain": [
       "res1: Long = 1897593\n"
      ]
     },
     "execution_count": 4,
     "metadata": {},
     "output_type": "execute_result"
    }
   ],
   "source": [
    "data.count"
   ]
  },
  {
   "cell_type": "code",
   "execution_count": 6,
   "metadata": {},
   "outputs": [
    {
     "data": {
      "text/plain": [
       "header_removed: org.apache.spark.rdd.RDD[String] = MapPartitionsRDD[2] at mapPartitionsWithIndex at <console>:31\n"
      ]
     },
     "execution_count": 6,
     "metadata": {},
     "output_type": "execute_result"
    }
   ],
   "source": [
    "// drop the header\n",
    "val header_removed = data.mapPartitionsWithIndex{ (idx,iter) => if (idx==0) iter.drop(1) else iter}"
   ]
  },
  {
   "cell_type": "code",
   "execution_count": 7,
   "metadata": {},
   "outputs": [
    {
     "data": {
      "text/plain": [
       "res2: Array[String] = Array(457,\"2017-10-01 00:00:00\",\"2017-10-01 00:07:38\",479,\"9 Ave & W 45 St\",40.76019252,-73.9912551,478,\"11 Ave & W 41 St\",40.76030096,-73.99884222,30951,\"Subscriber\",1985,1, 6462,\"2017-10-01 00:00:20\",\"2017-10-01 01:48:03\",279,\"Peck Slip & Front St\",40.707873,-74.00167,307,\"Canal St & Rutgers St\",40.71427487,-73.98990025,14809,\"Customer\",NULL,0, 761,\"2017-10-01 00:00:27\",\"2017-10-01 00:13:09\",504,\"1 Ave & E 16 St\",40.73221853,-73.98165557,350,\"Clinton St & Grand St\",40.71559509,-73.9870295,28713,\"Subscriber\",1992,1, 1193,\"2017-10-01 00:00:29\",\"2017-10-01 00:20:22\",3236,\"W 42 St & Dyer Ave\",40.75898481399634,-73.99379968643188,3233,\"E 48 St & 5 Ave\",40.75724567911726,-73.97805914282799,16008,\"Customer\",1992,2)\n"
      ]
     },
     "execution_count": 7,
     "metadata": {},
     "output_type": "execute_result"
    }
   ],
   "source": [
    "header_removed.take(4)"
   ]
  },
  {
   "cell_type": "code",
   "execution_count": 8,
   "metadata": {},
   "outputs": [
    {
     "data": {
      "text/plain": [
       "res3: Long = 1897592\n"
      ]
     },
     "execution_count": 8,
     "metadata": {},
     "output_type": "execute_result"
    }
   ],
   "source": [
    "header_removed.count"
   ]
  },
  {
   "cell_type": "code",
   "execution_count": 20,
   "metadata": {},
   "outputs": [
    {
     "data": {
      "text/plain": [
       "res14: String = 457,\"2017-10-01 00:00:00\",\"2017-10-01 00:07:38\",479,\"9 Ave & W 45 St\",40.76019252,-73.9912551,478,\"11 Ave & W 41 St\",40.76030096,-73.99884222,30951,\"Subscriber\",1985,1\n"
      ]
     },
     "execution_count": 20,
     "metadata": {},
     "output_type": "execute_result"
    }
   ],
   "source": [
    "header_removed.take(4)(0)"
   ]
  },
  {
   "cell_type": "code",
   "execution_count": 63,
   "metadata": {
    "scrolled": false
   },
   "outputs": [
    {
     "data": {
      "text/plain": [
       "start_stations: org.apache.spark.rdd.RDD[(Long, String)] = MapPartitionsRDD[58] at map at <console>:34\n",
       "end_stations: org.apache.spark.rdd.RDD[(Long, String)] = MapPartitionsRDD[60] at map at <console>:35\n",
       "vertex_rdd: org.apache.spark.rdd.RDD[(Long, String)] = MapPartitionsRDD[64] at distinct at <console>:36\n"
      ]
     },
     "execution_count": 63,
     "metadata": {},
     "output_type": "execute_result"
    }
   ],
   "source": [
    "// create a vertex rdd: 'vertex_rdd'\n",
    "val start_stations = header_removed.map(l => l.split(\",\")).map(l => (l(3).toLong, l(4)))\n",
    "val end_stations = header_removed.map(l => l.split(\",\")).map(l => (l(7).toLong, l(8)))\n",
    "val vertex_rdd = (start_stations union end_stations).distinct"
   ]
  },
  {
   "cell_type": "code",
   "execution_count": 67,
   "metadata": {},
   "outputs": [
    {
     "data": {
      "text/plain": [
       "res53: Array[(Long, String)] = Array((459,\"W 20 St & 11 Ave\"), (228,\"E 48 St & 3 Ave\"), (3284,\"E 88 St & Park Ave\"), (3346,\"Berkeley Pl & 7 Ave\"))\n"
      ]
     },
     "execution_count": 67,
     "metadata": {},
     "output_type": "execute_result"
    }
   ],
   "source": [
    "vertex_rdd.take(4)"
   ]
  },
  {
   "cell_type": "code",
   "execution_count": 30,
   "metadata": {},
   "outputs": [
    {
     "data": {
      "text/plain": [
       "edge_rdd: org.apache.spark.rdd.RDD[org.apache.spark.graphx.Edge[Double]] = MapPartitionsRDD[10] at map at <console>:31\n"
      ]
     },
     "execution_count": 30,
     "metadata": {},
     "output_type": "execute_result"
    }
   ],
   "source": [
    "// create an edge rdd: 'edge_rdd'\n",
    "val edge_rdd = header_removed.map(l => l.split(\",\")).map(l => Edge(l(3).toLong, l(7).toLong, l(0).toDouble))"
   ]
  },
  {
   "cell_type": "code",
   "execution_count": 31,
   "metadata": {},
   "outputs": [
    {
     "data": {
      "text/plain": [
       "res24: Array[org.apache.spark.graphx.Edge[Double]] = Array(Edge(479,478,457.0), Edge(279,307,6462.0), Edge(504,350,761.0), Edge(3236,3233,1193.0))\n"
      ]
     },
     "execution_count": 31,
     "metadata": {},
     "output_type": "execute_result"
    }
   ],
   "source": [
    "edge_rdd.take(4)"
   ]
  },
  {
   "cell_type": "code",
   "execution_count": 71,
   "metadata": {},
   "outputs": [
    {
     "data": {
      "text/plain": [
       "graph: org.apache.spark.graphx.Graph[String,Double] = org.apache.spark.graphx.impl.GraphImpl@136d0b72\n"
      ]
     },
     "execution_count": 71,
     "metadata": {},
     "output_type": "execute_result"
    }
   ],
   "source": [
    "// create the graph\n",
    "val graph: Graph[String, Double] = Graph(vertex_rdd, edge_rdd)"
   ]
  },
  {
   "cell_type": "markdown",
   "metadata": {},
   "source": [
    "<h1>Step 2: Basic questions</h1>\n",
    "<li>How many citibike stations are there in the network?</li>\n",
    "<li>How many trips were made in the month in question?</li>\n",
    "<li>How many trips started and ended at the same station?</li>\n",
    "<li>How many station to station connections are there (at least one edge exists between station i and station j and i is not equal to j)?</li>"
   ]
  },
  {
   "cell_type": "code",
   "execution_count": 68,
   "metadata": {},
   "outputs": [
    {
     "data": {
      "text/plain": [
       "num_stations: Long = 785\n"
      ]
     },
     "execution_count": 68,
     "metadata": {},
     "output_type": "execute_result"
    }
   ],
   "source": [
    "// How many citibike stations?\n",
    "val num_stations = vertex_rdd.count"
   ]
  },
  {
   "cell_type": "code",
   "execution_count": 69,
   "metadata": {
    "scrolled": true
   },
   "outputs": [
    {
     "data": {
      "text/plain": [
       "num_trips: Long = 1897592\n"
      ]
     },
     "execution_count": 69,
     "metadata": {},
     "output_type": "execute_result"
    }
   ],
   "source": [
    "// How many trips?\n",
    "val num_trips = edge_rdd.count"
   ]
  },
  {
   "cell_type": "code",
   "execution_count": 76,
   "metadata": {},
   "outputs": [
    {
     "data": {
      "text/plain": [
       "res57: org.apache.spark.graphx.Edge[Double] = Edge(72,72,635.0)\n"
      ]
     },
     "execution_count": 76,
     "metadata": {},
     "output_type": "execute_result"
    }
   ],
   "source": [
    "graph.edges.take(4)(0)"
   ]
  },
  {
   "cell_type": "code",
   "execution_count": 79,
   "metadata": {},
   "outputs": [
    {
     "data": {
      "text/plain": [
       "num_same_stations: Long = 33245\n"
      ]
     },
     "execution_count": 79,
     "metadata": {},
     "output_type": "execute_result"
    }
   ],
   "source": [
    "// How many trips started and ended at the same station?\n",
    "val num_same_stations = graph.edges.filter(l => l.srcId == l.dstId).count"
   ]
  },
  {
   "cell_type": "code",
   "execution_count": 86,
   "metadata": {},
   "outputs": [
    {
     "data": {
      "text/plain": [
       "num_station_connections: Long = 107524\n"
      ]
     },
     "execution_count": 86,
     "metadata": {},
     "output_type": "execute_result"
    }
   ],
   "source": [
    "// How many station to station connections are there \n",
    "// (at least one edge exists between station i and station j and i is not equal to j)?\n",
    "val num_station_connections = graph.convertToCanonicalEdges().edges.filter(l => l.srcId != l.dstId).count"
   ]
  },
  {
   "cell_type": "markdown",
   "metadata": {},
   "source": [
    "<h2>STEP 3: Find the Station from which most trips originate</h2>\n",
    "<li>Note that the graph has one edge for each trip (i.e., there are many edges between two vertices)</li>\n",
    "<li>The function <span style=\"color:blue\">outDegrees</span> returns the number of outgoing edges from every vertex</li>\n",
    "<li>Print the name of the station with most originating trips</li>"
   ]
  },
  {
   "cell_type": "code",
   "execution_count": 107,
   "metadata": {},
   "outputs": [
    {
     "name": "stdout",
     "output_type": "stream",
     "text": [
      "\"Pershing Square North\"\n"
     ]
    },
    {
     "data": {
      "text/plain": [
       "out_most: (org.apache.spark.graphx.VertexId, Int) = (519,17995)\n"
      ]
     },
     "execution_count": 107,
     "metadata": {},
     "output_type": "execute_result"
    }
   ],
   "source": [
    "val out_most = graph.outDegrees.collect.sortBy(_._2).reverse(0)\n",
    "graph.vertices.filter(l => l._1 == out_most._1).foreach(l => println(l._2))"
   ]
  },
  {
   "cell_type": "markdown",
   "metadata": {},
   "source": [
    "<h2>STEP 4: Proportion of trips for each station that start and end at that same station</h2>\n",
    "<li>Use <span style=\"color:blue\">aggregateMessages</span> to calculate the number of trips that start and end at the same vertex (for each vertex)</li>\n",
    "<li>Divide that number by the number of trips that originate at that vertex using a <span style=\"color:blue\">join</span> with <span style=\"color:blue\">outDegrees</span></li>\n",
    "<li>Note that some stations may have no trips at all (i.e., the denominator may be non-existent). You will need to use <b>Option</b> objects to handle this</li>\n",
    "<li>Print the name of the station and the percent of trips that are self-trips from that station</li>"
   ]
  },
  {
   "cell_type": "code",
   "execution_count": 117,
   "metadata": {},
   "outputs": [
    {
     "data": {
      "text/plain": [
       "num_same_stations_by_vertex: org.apache.spark.graphx.VertexRDD[Int] = VertexRDDImpl[201] at RDD at VertexRDD.scala:57\n"
      ]
     },
     "execution_count": 117,
     "metadata": {},
     "output_type": "execute_result"
    }
   ],
   "source": [
    "// aggregateMessages\n",
    "val num_same_stations_by_vertex = graph.aggregateMessages[Int](ec => {if (ec.srcId==ec.dstId)\n",
    "                                                                                  ec.sendToDst(1) \n",
    "                                                                                  else ec.sendToDst(0)},\n",
    "                                                               (x,y) => x+y)"
   ]
  },
  {
   "cell_type": "code",
   "execution_count": 145,
   "metadata": {},
   "outputs": [
    {
     "data": {
      "text/plain": [
       "res100: Long = 784\n"
      ]
     },
     "execution_count": 145,
     "metadata": {},
     "output_type": "execute_result"
    }
   ],
   "source": [
    "num_same_stations_by_vertex.count"
   ]
  },
  {
   "cell_type": "code",
   "execution_count": 146,
   "metadata": {},
   "outputs": [
    {
     "data": {
      "text/plain": [
       "res101: Array[(org.apache.spark.graphx.VertexId, Int)] = Array((3146,24), (3454,13), (330,30), (3058,20))\n"
      ]
     },
     "execution_count": 146,
     "metadata": {},
     "output_type": "execute_result"
    }
   ],
   "source": [
    "num_same_stations_by_vertex.take(4)"
   ]
  },
  {
   "cell_type": "code",
   "execution_count": 137,
   "metadata": {},
   "outputs": [
    {
     "data": {
      "text/plain": [
       "out: org.apache.spark.graphx.VertexRDD[Int] = VertexRDDImpl[173] at RDD at VertexRDD.scala:57\n"
      ]
     },
     "execution_count": 137,
     "metadata": {},
     "output_type": "execute_result"
    }
   ],
   "source": [
    "// outDegrees\n",
    "val out = graph.outDegrees"
   ]
  },
  {
   "cell_type": "code",
   "execution_count": 162,
   "metadata": {},
   "outputs": [
    {
     "data": {
      "text/plain": [
       "res115: Array[(org.apache.spark.graphx.VertexId, Int)] = Array((3146,1827), (3454,923), (330,2628), (3058,586))\n"
      ]
     },
     "execution_count": 162,
     "metadata": {},
     "output_type": "execute_result"
    }
   ],
   "source": [
    "out.take(4)"
   ]
  },
  {
   "cell_type": "code",
   "execution_count": 141,
   "metadata": {},
   "outputs": [
    {
     "data": {
      "text/plain": [
       "res96: Long = 756\n"
      ]
     },
     "execution_count": 141,
     "metadata": {},
     "output_type": "execute_result"
    }
   ],
   "source": [
    "out.count"
   ]
  },
  {
   "cell_type": "code",
   "execution_count": 213,
   "metadata": {},
   "outputs": [
    {
     "data": {
      "text/plain": [
       "proportion: org.apache.spark.rdd.RDD[(org.apache.spark.graphx.VertexId, Any)] = MapPartitionsRDD[309] at map at <console>:34\n"
      ]
     },
     "execution_count": 213,
     "metadata": {},
     "output_type": "execute_result"
    }
   ],
   "source": [
    "// use join to calculate the proportion for each station\n",
    "val proportion = num_same_stations_by_vertex.fullOuterJoin(out)\n",
    "                .map(t => (t._1, t._2 match {\n",
    "                    case (Some(a), Some(b)) => a.toDouble/b.toDouble\n",
    "                    case (Some(a), None) => \"No trips originate from this station\"\n",
    "                    case (None, Some(b)) => 0.0\n",
    "                    case (None, None) => \"Unknown\"\n",
    "                }))"
   ]
  },
  {
   "cell_type": "code",
   "execution_count": 214,
   "metadata": {},
   "outputs": [
    {
     "data": {
      "text/plain": [
       "res149: Array[(org.apache.spark.graphx.VertexId, Any)] = Array((3146,0.013136288998357963), (3454,0.014084507042253521), (3344,0.04155495978552279), (3058,0.034129692832764506))\n"
      ]
     },
     "execution_count": 214,
     "metadata": {},
     "output_type": "execute_result"
    }
   ],
   "source": [
    "proportion.take(4)"
   ]
  },
  {
   "cell_type": "code",
   "execution_count": 215,
   "metadata": {},
   "outputs": [
    {
     "data": {
      "text/plain": [
       "res150: Long = 785\n"
      ]
     },
     "execution_count": 215,
     "metadata": {},
     "output_type": "execute_result"
    }
   ],
   "source": [
    "proportion.count"
   ]
  },
  {
   "cell_type": "code",
   "execution_count": 216,
   "metadata": {
    "scrolled": true
   },
   "outputs": [
    {
     "name": "stdout",
     "output_type": "stream",
     "text": [
      "(\"Atlantic Ave & Furman St\",0.059593679458239276)\n",
      "(\"Vernon Blvd & 10 St\",0.05152224824355972)\n",
      "(\"Liberty Light Rail\",No trips originate from this station)\n",
      "(\"Cherry St\",0.034385569334836524)\n",
      "(\"Pacific St & Nevins St\",0.02584493041749503)\n",
      "(\"Broadway & W 29 St\",0.0077724234416291)\n",
      "(\"Crescent St & 35 Ave\",0.02280130293159609)\n",
      "(\"5 Ave & 3 St\",0.01490757304710793)\n",
      "(\"Jackson St & Leonard St\",0.024844720496894408)\n",
      "(\"Berkeley Pl & 7 Ave\",0.021597187343043698)\n",
      "(\"Clermont Ave & Lafayette Ave\",0.0102880658436214)\n",
      "(\"Kent Ave & N 7 St\",0.034230312623664425)\n",
      "(\"E 109 St & 3 Ave\",0.027972027972027972)\n",
      "(\"State St & Smith St\",0.01856763925729443)\n",
      "(\"W 27 St & 10 Ave\",0.013198416190057193)\n",
      "(\"W 84 St & Columbus Ave\",0.012247838616714697)\n",
      "(\"John St & William St\",0.01694915254237288)\n",
      "(\"Willoughby Ave & Tompkins Ave\",0.0196078431372549)\n",
      "(\"Vernon Blvd & 30 Rd\",0.02857142857142857)\n",
      "(\"Emerson Pl & Myrtle Ave\",0.013664596273291925)\n",
      "(\"11 Ave & W 59 St\",0.012727594131164928)\n",
      "(\"Avenue D & E 8 St\",0.026248399487836107)\n",
      "(\"44 Dr & Jackson Ave\",0.01859229747675963)\n",
      "(\"Columbus Ave & W 103 St\",0.12374581939799331)\n",
      "(\"Underhill Ave & Pacific St\",0.013605442176870748)\n",
      "(\"W 88 St & West End Ave\",0.026470588235294117)\n",
      "(\"3 Ave & 14 St\",0.007429420505200594)\n",
      "(\"Astor Place\",No trips originate from this station)\n",
      "(\"Essex Light Rail\",No trips originate from this station)\n",
      "(\"W 27 St & 7 Ave\",0.00995142755597678)\n",
      "(\"E 115 St & Madison Ave\",0.0035714285714285713)\n",
      "(\"2 Ave & 36 St - Citi Bike HQ at Industry City\",0.06656346749226007)\n",
      "(\"W 42 St & Dyer Ave\",0.007410987594651201)\n",
      "(\"W 46 St & 11 Ave\",0.008863636363636363)\n",
      "(\"37 St & 24 Ave\",0.05859375)\n",
      "(\"Hope St & Union Ave\",0.018105009052504527)\n",
      "(\"Willoughby Ave & Hall St\",0.0116991643454039)\n",
      "(\"E 12 St & Avenue B\",0.02974628171478565)\n",
      "(\"Fulton St & Clermont Ave\",0.01182033096926714)\n",
      "(\"Madison Ave & E 99 St\",0.008602150537634409)\n",
      "(\"Van Vorst Park\",No trips originate from this station)\n",
      "(\"Pike St & Monroe St\",0.03322072072072072)\n",
      "(\"E 52 St & 2 Ave\",0.011126961483594865)\n",
      "(\"W 37 St & 5 Ave\",0.012174284493806066)\n",
      "(\"Carlton Ave & Park Ave\",0.015167930660888408)\n",
      "(\"Stanton St & Chrystie St\",0.014392864382728562)\n",
      "(\"W 42 St & 8 Ave\",0.011251758087201125)\n",
      "(\"Riverside Dr & W 82 St\",0.029256594724220625)\n",
      "(\"Fulton St & Rockwell Pl\",0.015161502966381015)\n",
      "(\"5 Ave & E 103 St\",0.0193756727664155)\n",
      "(\"S Portland Ave & Hanson Pl\",0.01506276150627615)\n",
      "(\"N 11 St & Wythe Ave\",0.019622093023255814)\n",
      "(\"Columbus Ave & W 95 St\",0.01381552214546932)\n",
      "(\"2 Ave & E 122 St\",0.030864197530864196)\n",
      "(\"Lenox Ave & W 111 St\",0.038834951456310676)\n",
      "(\"36 Ave & 10 St\",0.08387096774193549)\n",
      "(\"Bond St & Bergen St\",0.009182736455463728)\n",
      "(\"1 Ave & E 18 St\",0.009342230695900858)\n",
      "(\"Graham Ave & Grand St\",0.02459016393442623)\n",
      "(\"E 25 St & 2 Ave\",0.006904303147077713)\n",
      "(\"Carroll St & Columbia St\",0.021081576535288724)\n",
      "(\"45 Rd & 11 St\",0.027559055118110236)\n",
      "(\"Vernon Blvd & 31 Ave\",0.02072538860103627)\n",
      "(\"Carroll St & Washington Ave\",0.05555555555555555)\n",
      "(\"E 85 St & 3 Ave\",0.012987012987012988)\n",
      "(\"39 St & 2 Ave - Citi Bike HQ at Industry City\",0.1836734693877551)\n",
      "(\"E 41 St & Madison Ave\",0.004921891718382195)\n",
      "(\"Pulaski St & Marcus Garvey Blvd\",0.013761467889908258)\n",
      "(\"Murray St & West St\",0.01809954751131222)\n",
      "(\"W 106 St & Central Park West\",0.023413111342351717)\n",
      "(\"Crown St & Bedford Ave\",No trips originate from this station)\n",
      "(\"Dixon Mills\",No trips originate from this station)\n",
      "(\"Broadway & W 36 St\",0.009509401339961098)\n",
      "(\"9 Ave & W 22 St\",0.017982017982017984)\n",
      "(\"Broadway & W 41 St\",0.011412268188302425)\n",
      "(\"Schermerhorn St & 3 Ave\",0.03360488798370672)\n",
      "(\"9 St & 44 Rd\",0.025396825396825397)\n",
      "(\"Broadway & 12 St\",0.03333333333333333)\n",
      "(\"Throop Ave & Myrtle Ave\",0.020202020202020204)\n",
      "(\"Butler St & Court St\",0.014358108108108109)\n",
      "(\"Bayard St & Baxter St\",0.01605216955104088)\n",
      "(\"Monroe St & Classon Ave\",0.013793103448275862)\n",
      "(\"E 118 St & Madison Ave\",0.01593625498007968)\n",
      "(\"9 Ave & W 28 St\",0.013678451178451179)\n",
      "(\"Henry St & Atlantic Ave\",0.0167853509664293)\n",
      "(\"Norfolk St & Broome St\",0.01575757575757576)\n",
      "(\"Leonard Gordon Park\",No trips originate from this station)\n",
      "(\"11 St & 35 Ave\",0.03954802259887006)\n",
      "(\"Lafayette Ave & St James Pl\",0.012875536480686695)\n",
      "(\"Forsyth St & Broome St\",0.01339969372128637)\n",
      "(\"Railroad Ave & Kay Ave\",0.038834951456310676)\n",
      "(\"N 15 St & Wythe Ave\",0.01773049645390071)\n",
      "(\"Grand St & Elizabeth St\",0.01370242214532872)\n",
      "(\"Picnic Point\",0.10814606741573034)\n",
      "(\"Myrtle Ave & St Edwards St\",0.021879021879021878)\n",
      "(\"Vernon Blvd & 47 Rd\",0.0)\n",
      "(\"E 106 St & 1 Ave\",0.019011406844106463)\n",
      "(\"Amsterdam Ave & W 82 St\",0.021549031855090568)\n",
      "(\"Van Brunt St & Wolcott St\",0.018648018648018648)\n",
      "(\"Clermont Ave & Park Ave\",0.02575107296137339)\n",
      "(\"Wyckoff St & 3 Ave\",0.030474040632054177)\n",
      "(\"E 82 St & East End Ave\",0.013605442176870748)\n",
      "(\"Bedford Ave & S 9 St\",0.02861952861952862)\n",
      "(\"Broadway & W 122 St\",0.015384615384615385)\n",
      "(\"W 13 St & 7 Ave\",0.011336227689339121)\n",
      "(\"6 Ave & Canal St\",0.011707710940654016)\n",
      "(\"E 95 St & 3 Ave\",0.011848341232227487)\n",
      "(\"Bushwick Ave & Powers St\",0.028145695364238412)\n",
      "(\"E 20 St & FDR Drive\",0.016753738065213474)\n",
      "(\"JSQ Don't Use\",0.0)\n",
      "(\"24 Ave & 29 St\",0.044897959183673466)\n",
      "(\"Dean St & 4 Ave\",0.008883738895326381)\n",
      "(\"21 St & 31 Dr\",0.026627218934911243)\n",
      "(\"4 Ave & 2 St\",0.011065006915629323)\n",
      "(\"Nostrand Ave & Myrtle Ave\",0.042666666666666665)\n",
      "(\"Allen St & Rivington St\",0.015495495495495495)\n",
      "(\"Broadway & W 38 St\",0.010607915136678907)\n",
      "(\"W 31 St & 7 Ave\",0.003098277357789069)\n",
      "(\"Roebling St & N 4 St\",0.0211864406779661)\n",
      "(\"Broadway & Moylan Pl\",0.043119266055045874)\n",
      "(\"Grand Army Plaza & Plaza St West\",0.09221789883268483)\n",
      "(\"E 91 St & 2 Ave\",0.016841147018661812)\n",
      "(\"Franklin Ave & St Marks Ave\",0.014285714285714285)\n",
      "(\"Madison Ave & E 120 St\",0.027131782945736434)\n",
      "(\"Queens Plaza North & Crescent St\",0.016792611251049538)\n",
      "(\"Prospect Pl & 6 Ave\",0.02019446522064323)\n",
      "(\"Bedford Ave & Nassau Ave\",0.01557632398753894)\n",
      "(\"Kingston Ave & Herkimer St\",0.06666666666666667)\n",
      "(\"Riverside Blvd & W 67 St\",0.024295432458697766)\n",
      "(\"E 10 St & Avenue A\",0.016042780748663103)\n",
      "(\"E 53 St & 3 Ave\",0.006056527590847914)\n",
      "(\"Washington Ave & Park Ave\",0.01878238341968912)\n",
      "(\"Perry St & Bleecker St\",0.014957264957264958)\n",
      "(\"E 81 St & York Ave\",0.01820795400095831)\n",
      "(\"Madison St & Montgomery St\",0.03211517165005537)\n",
      "(\"Washington Pl & Broadway\",0.011468738438771735)\n",
      "(\"Riverside Dr & W 91 St\",0.04127725856697819)\n",
      "(\"W 89 St & Columbus Ave\",0.011483693155718878)\n",
      "(\"3 Ave & E 100 St\",0.025236593059936908)\n",
      "(\"E 11 St & Broadway\",0.006339144215530904)\n",
      "(\"Richards St & Delavan St\",0.025477707006369428)\n",
      "(\"Center Blvd & 48 Ave\",0.028455284552845527)\n",
      "(\"W 36 St & 9 Ave\",0.011522890065400186)\n",
      "(\"W 54 St & 9 Ave\",0.00584435558289757)\n",
      "(\"23 Ave & 27 St\",0.08064516129032258)\n",
      "(\"York St\",No trips originate from this station)\n",
      "(\"Crescent St & Broadway\",0.052346570397111915)\n",
      "(\"E 123 St & Lexington Ave\",0.03235294117647059)\n",
      "(\"21 St & Queens Plaza North\",0.02276707530647986)\n",
      "(\"10 St & 7 Ave\",0.010587102983638113)\n",
      "(\"Little West St & 1 Pl\",0.03169436354291588)\n",
      "(\"W 100 St & Broadway\",0.021161638901395767)\n",
      "(\"E 88 St & Park Ave\",0.022317596566523604)\n",
      "(\"W 17 St & 8 Ave\",0.01095831542758917)\n",
      "(\"W 100 St & Manhattan Ave\",0.013470173187940988)\n",
      "(\"Nassau Ave & Russell St\",0.020905923344947737)\n",
      "(\"Fulton St & Utica Ave\",0.06403269754768393)\n",
      "(\"8 Ave & W 33 St\",0.007260596546310832)\n",
      "(\"35 Ave & 37 St\",0.0549738219895288)\n",
      "(\"W 24 St & 7 Ave\",0.010786224821312541)\n",
      "(\"Sullivan St & Washington Sq\",0.009500077869490734)\n",
      "(\"3 Ave & E 71 St\",0.007263922518159807)\n",
      "(\"Adelphi St & Myrtle Ave\",0.0134886572654813)\n",
      "(\"E 74 St & 1 Ave\",0.01494345718901454)\n",
      "(\"31 St & 23 Ave\",0.044444444444444446)\n",
      "(\"Christopher St & Greenwich St\",0.009383088869715272)\n",
      "(\"Cadman Plaza West & Montague St\",0.004892367906066536)\n",
      "(\"W 4 St & 7 Ave S\",0.013432835820895522)\n",
      "(\"E 76 St & 3 Ave\",0.005227781926811053)\n",
      "(\"Columbia St & W 9 St\",0.08064516129032258)\n",
      "(\"Myrtle Ave & Lewis Ave\",0.02138690861957226)\n",
      "(\"Broadway & E 22 St\",0.007277905229016691)\n",
      "(\"Expansion Warehouse 333 Johnson Ave\",0.125)\n",
      "(\"Broadway & W 56 St\",0.01150994927818962)\n",
      "(\"W 52 St & 11 Ave\",0.012655367231638417)\n",
      "(\"Laight St & Hudson St\",0.023255813953488372)\n",
      "(\"7 Ave & Park Pl\",0.005681818181818182)\n",
      "(\"Pacific St & Bedford Ave\",0.006514657980456026)\n",
      "(\"Water - Whitehall Plaza\",0.017614494212380472)\n",
      "(\"Crescent St & 30 Ave\",0.020887728459530026)\n",
      "(\"Graham Ave & Conselyea St\",0.009787928221859706)\n"
     ]
    },
    {
     "name": "stdout",
     "output_type": "stream",
     "text": [
      "(\"Monroe St & Tompkins Ave\",0.015360983102918587)\n",
      "(\"Henry St & W 9 St\",0.012121212121212121)\n",
      "(\"Old Slip & Front St\",0.01167728237791932)\n",
      "(\"E 24 St & Park Ave S\",0.00825565912117177)\n",
      "(\"Fulton St & Waverly Ave\",0.012524719841793012)\n",
      "(\"E 102 St & 1 Ave\",0.036112586298459905)\n",
      "(\"W 70 St & Amsterdam Ave\",0.03)\n",
      "(\"E 2 St & 2 Ave\",0.007612966601178782)\n",
      "(\"W 56 St & 10 Ave\",0.010083036773428233)\n",
      "(\"Grand Ave & Bergen St\",0.023752969121140142)\n",
      "(\"Hs Don't Use\",0.029411764705882353)\n",
      "(\"Degraw St & Smith St\",0.007042253521126761)\n",
      "(\"West End Ave & W 94 St\",0.022329511164755584)\n",
      "(\"E 47 St & Park Ave\",0.0046696240952603316)\n",
      "(\"44 Dr & 21 St\",0.014778325123152709)\n",
      "(\"Broadway & W 53 St\",0.007886034088018317)\n",
      "(\"LaGuardia Pl & W 3 St\",0.008453436807095344)\n",
      "(\"Metropolitan Ave & Meeker Ave\",0.01260239445494644)\n",
      "(\"Lafayette St & E 8 St\",0.00710776627992056)\n",
      "(\"3 St & 3 Ave\",0.004840940525587829)\n",
      "(\"5 Ave & E 126 St\",0.07142857142857142)\n",
      "(\"Union Ave & Wallabout St\",0.03299492385786802)\n",
      "(\"31 St & Broadway\",0.014018691588785047)\n",
      "(\"Harrison St & Hudson St\",0.025757575757575757)\n",
      "(\"E 68 St & 3 Ave\",0.006632277081798084)\n",
      "(\"Cooper Square & Astor Pl\",0.009862385321100918)\n",
      "(\"Baltic St & 5 Ave\",0.01509705248023005)\n",
      "(\"Banker St & Meserole Ave\",0.013120365088419851)\n",
      "(\"W 87 St & Amsterdam Ave\",0.015421686746987951)\n",
      "(\"Catherine St & Monroe St\",0.03972661255873558)\n",
      "(\"8 Ave & W 52 St\",0.03140460314046031)\n",
      "(\"Murray St & Greenwich St\",0.010788381742738589)\n",
      "(\"Lewis Ave & Decatur St\",0.05154639175257732)\n",
      "(\"South St & Gouverneur Ln\",0.01832715929031)\n",
      "(\"W 33 St & 7 Ave\",0.005430847212165098)\n",
      "(\"Grand St & Greene St\",0.019220642443391257)\n",
      "(\"Central Park North & Adam Clayton Powell Blvd\",0.04998641673458299)\n",
      "(\"W 20 St & 8 Ave\",0.010276845637583893)\n",
      "(\"5 Corners Library\",No trips originate from this station)\n",
      "(\"34 Ave & 38 St\",0.012096774193548387)\n",
      "(\"E 44 St & 2 Ave\",0.0050568900126422255)\n",
      "(\"Tompkins Ave & Hopkins St\",0.02276176024279211)\n",
      "(\"Clinton St & 4 Place\",0.023961661341853034)\n",
      "(\"Kane St & Clinton St\",0.025436046511627907)\n",
      "(\"Henry St & Bay St\",0.05426356589147287)\n",
      "(\"Meserole Ave & Manhattan Ave\",0.011770726714431934)\n",
      "(\"Union Ave & Jackson St\",0.014669926650366748)\n",
      "(\"E 59 St & Madison Ave\",0.011730205278592375)\n",
      "(\"Albany Ave & Fulton St\",0.0219435736677116)\n",
      "(\"Steinway St & 23 Ave\",0.032)\n",
      "(\"West St & Chambers St\",0.025643210086897256)\n",
      "(\"E 89 St & 3 Ave\",0.013020833333333334)\n",
      "(\"W 64 St & West End Ave\",0.0103359173126615)\n",
      "(\"12 Ave & W 40 St\",0.03467097948044071)\n",
      "(\"University Pl & E 14 St\",0.009004237288135594)\n",
      "(\"W 37 St & 10 Ave\",0.018664909969257796)\n",
      "(\"Sigourney St & Columbia St\",0.037267080745341616)\n",
      "(\"Steinway St & 28 Ave\",0.04)\n",
      "(\"Montgomery St & Franklin Ave OLD\",0.10344827586206896)\n",
      "(\"Plaza St West & Flatbush Ave\",0.016907216494845362)\n",
      "(\"E 48 St & 3 Ave\",0.018479776847977684)\n",
      "(\"Lexington Ave & E 120 St\",0.027777777777777776)\n",
      "(\"Schermerhorn St & Court St\",0.010588235294117647)\n",
      "(\"1 Ave & E 30 St\",0.008023648648648648)\n",
      "(\"Fulton St & Adams St\",0.016177957532861477)\n",
      "(\"William St & Pine St\",0.010624169986719787)\n",
      "(\"Allen St & Stanton St\",0.010665312341289994)\n",
      "(\"Driggs Ave & N Henry St\",0.03523936170212766)\n",
      "(\"34 St & 35 Ave\",0.03383458646616541)\n",
      "(\"E 78 St & 2 Ave\",0.009181969949916527)\n",
      "(\"Mercer St & Bleecker St\",0.010554988083077971)\n",
      "(\"Lexington Ave & E 111 St\",0.010101010101010102)\n",
      "(\"Myrtle Ave & Marcy Ave\",0.03766233766233766)\n",
      "(\"E 85 St & York Ave\",0.02663551401869159)\n",
      "(\"Central Park S & 6 Ave\",0.07826288899210404)\n",
      "(\"30 Ave & 21 St\",0.05)\n",
      "(\"W 25 St & 6 Ave\",0.007078189300411522)\n",
      "(\"Pacific St & Classon Ave\",0.0)\n",
      "(\"Carroll St & Franklin Ave\",0.017543859649122806)\n",
      "(\"Coffey St & Conover St\",0.022922636103151862)\n",
      "(\"W 74 St & Columbus Ave\",0.0216998191681736)\n",
      "(\"Commerce St & Van Brunt St\",0.021897810218978103)\n",
      "(\"S 5 Pl & S 4 St\",0.02111506524317912)\n",
      "(\"5 Ave & E 88 St\",0.052146637914134486)\n",
      "(\"E 80 St & 2 Ave\",0.010343206393982134)\n",
      "(\"Clinton St & Centre St\",0.028169014084507043)\n",
      "(\"Broadway & W 24 St\",0.012864493996569469)\n",
      "(\"W 55 St & 6 Ave\",0.014096016343207354)\n",
      "(\"6 Ave & 9 St\",0.011504424778761062)\n",
      "(\"Greenwich St & Hubert St\",0.013854527461652647)\n",
      "(\"Pitt St & Stanton St\",0.0166270783847981)\n",
      "(\"21 St & 43 Ave\",0.011363636363636364)\n",
      "(\"Howard St & Centre St\",0.012578616352201259)\n",
      "(\"W 59 St & 10 Ave\",0.00858860578299456)\n",
      "(\"GOW Tech Shop\",0.0)\n",
      "(\"Bergen St & Flatbush Ave\",0.013966480446927373)\n",
      "(\"Bialystoker Pl & Delancey St\",0.02312673450508788)\n",
      "(\"W 20 St & 7 Ave\",0.011378205128205128)\n",
      "(\"WS Don't Use\",0.0)\n",
      "(\"19 St & 24 Ave\",0.0963855421686747)\n",
      "(\"E 55 St & 3 Ave\",0.008538899430740038)\n",
      "(\"Hoyt St & Warren St\",0.014684287812041116)\n",
      "(\"Newtown Ave & 23 St\",0.06182795698924731)\n",
      "(\"W 13 St & 5 Ave\",0.009652019304038608)\n",
      "(\"Metropolitan Ave & Bedford Ave\",0.014986376021798364)\n",
      "(\"E 15 St & 3 Ave\",0.010745989721227223)\n",
      "(\"Henry St & Poplar St\",0.01206896551724138)\n",
      "(\"Frost St & Meeker St\",0.01834862385321101)\n",
      "(\"Fulton St & Broadway\",0.015467239527389903)\n",
      "(\"Dey St\",No trips originate from this station)\n",
      "(\"Greenpoint Ave & Manhattan Ave\",0.010602409638554217)\n",
      "(\"Frederick Douglass Blvd & W 112 St\",0.03363914373088685)\n",
      "(\"Rivington St & Chrystie St\",0.011764705882352941)\n",
      "(\"Halsey St & Tompkins Ave\",0.02759526938239159)\n",
      "(\"Washington Ave & Greene Ave\",0.025617566331198535)\n",
      "(\"W 90 St & Amsterdam Ave\",0.019337016574585635)\n",
      "(\"Carroll St & Bond St\",0.026954177897574125)\n",
      "(\"43 St & Broadway\",0.044270833333333336)\n",
      "(\"Park Ave & Marcus Garvey Blvd\",0.04523809523809524)\n",
      "(\"Broadway & W 25 St\",0.01062730627306273)\n",
      "(\"East End Ave & E 86 St\",0.04337050805452292)\n",
      "(\"E 55 St & 2 Ave\",0.010338588782631171)\n",
      "(\"Lenox Ave & W 115 St\",0.02631578947368421)\n",
      "(\"W 47 St & 10 Ave\",0.012837538733953076)\n",
      "(\"NYCBS DEPOT - DELANCEY\",0.5)\n",
      "(\"Clinton St & Joralemon St\",0.010420841683366733)\n",
      "(\"Morris Canal\",No trips originate from this station)\n",
      "(\"Lorimer St & Broadway\",0.036072144288577156)\n",
      "(\"Stanton St & Mangin St\",0.030830432620586774)\n",
      "(\"E 66 St & Madison Ave\",0.015418502202643172)\n",
      "(\"E 75 St & 3 Ave\",0.02263374485596708)\n",
      "(\"Columbia St & Lorraine St\",0.09090909090909091)\n",
      "(\"Columbia St & Kane St\",0.01971326164874552)\n",
      "(\"Frederick Douglass Blvd & W 129 St\",0.035864978902953586)\n",
      "(\"7 St & 3 Ave\",0.016467065868263474)\n",
      "(\"W 52 St & 6 Ave\",0.010267579340385812)\n",
      "(\"West Thames St\",0.02489431658055425)\n",
      "(\"Pershing Square South\",0.005872756933115824)\n",
      "(\"Lexington Ave & E 29 St\",0.0075954057058169695)\n",
      "(\"Centre St & Worth St\",0.017162872154115588)\n",
      "(\"W 11 St & 6 Ave\",0.007924413288631514)\n",
      "(\"W 45 St & 6 Ave\",0.012030075187969926)\n",
      "(\"5 Ave & E 29 St\",0.006681112314915132)\n",
      "(\"Columbia St & Degraw St\",0.03273040482342808)\n",
      "(\"8D QC Station 01\",1.0)\n",
      "(\"Leonard St & Church St\",0.013967409378117725)\n",
      "(\"Brooklyn Bridge Park - Pier 2\",0.17134416543574593)\n",
      "(\"Duane St & Greenwich St\",0.02745664739884393)\n",
      "(\"E 110 St & Madison Ave\",0.03853383458646616)\n",
      "(\"Market St & Cherry St\",0.06404437720625315)\n",
      "(\"E 76 St & Park Ave\",0.008595988538681949)\n",
      "(\"Cadman Plaza E & Tillary St\",0.029850746268656716)\n",
      "(\"York St & Jay St\",0.013015184381778741)\n",
      "(\"Amsterdam Ave & W 66 St\",0.009604302727621975)\n",
      "(\"Vernon Blvd & 41 Rd\",0.028688524590163935)\n",
      "(\"E 39 St & 2 Ave\",0.009601762946639383)\n",
      "(\"Putnam Ave & Nostrand Ave\",0.022222222222222223)\n",
      "(\"11 St & 43 Ave\",0.0)\n",
      "(\"Adam Clayton Powell Blvd & W 123 St\",0.03931203931203931)\n",
      "(\"W 13 St & Hudson St\",0.0125986642380085)\n",
      "(\"E 98 St & Lexington Ave\",0.007751937984496124)\n",
      "(\"W 63 St & Broadway\",0.011883646683221)\n",
      "(\"1 Ave & E 94 St\",0.024237685691946835)\n",
      "(\"McKibbin St & Manhattan Ave\",0.05791505791505792)\n",
      "(\"Newton Rd & 44 St\",0.056790123456790124)\n",
      "(\"Ditmars Blvd & 19 St\",0.171990171990172)\n",
      "(\"Park Pl & Vanderbilt Ave\",0.02306805074971165)\n",
      "(\"E 89 St & York Ave\",0.013240857503152586)\n",
      "(\"Lafayette Ave & Classon Ave\",0.0171898355754858)\n",
      "(\"Berry St & N 8 St\",0.017013232514177693)\n",
      "(\"E 16 St & 5 Ave\",0.00864834704979774)\n",
      "(\"Columbia St & Rivington St\",0.018805309734513276)\n",
      "(\"Nassau St & Navy St\",0.027496382054992764)\n",
      "(\"5 Ave & E 63 St\",0.044939577039274925)\n",
      "(\"Lafayette Park\",No trips originate from this station)\n",
      "(\"Newport PATH\",No trips originate from this station)\n",
      "(\"Degraw St & Hoyt St\",0.017391304347826087)\n",
      "(\"Prospect Pl & Underhill Ave\",0.031578947368421054)\n",
      "(\"27 St & Hunter St\",0.02247191011235955)\n",
      "(\"Division St & Bowery\",0.0184194890077243)\n",
      "(\"N 8 St & Driggs Ave\",0.009556676400318556)\n",
      "(\"University Pl & E 8 St\",0.009560550150956054)\n",
      "(\"Lexington Ave & Classon Ave\",0.013204225352112676)\n",
      "(\"Madison St & Clinton St\",0.043630892678034106)\n",
      "(\"E 65 St & 2 Ave\",0.0071059431524547806)\n",
      "(\"Schermerhorn St & Bond St\",0.007348784624081402)\n",
      "(\"14 St & 7 Ave\",0.0130475302889096)\n",
      "(\"E 27 St & 1 Ave\",0.009942438513867086)\n",
      "(\"E 3 St & 1 Ave\",0.010214300020028039)\n",
      "(\"E 72 St & York Ave\",0.01982815598149372)\n",
      "(\"Douglass St & 3 Ave\",0.009267059814658803)\n",
      "(\"Crescent St & Ditmars Blvd\",0.05574912891986063)\n",
      "(\"W 37 St & Broadway\",0.005802707930367505)\n",
      "(\"Marcus Garvey Blvd & Macon St\",0.03383458646616541)\n",
      "(\"Sullivan Pl & Bedford Ave\",0.07228915662650602)\n",
      "(\"E 32 St & Park Ave\",0.009720722110785373)\n",
      "(\"W 113 St & Broadway\",0.016875)\n",
      "(\"MacDougal St & Washington Sq\",0.01430549146285187)\n",
      "(\"E 47 St & 2 Ave\",0.00719640179910045)\n",
      "(\"Broadway & W 37 St\",0.006202618883528601)\n",
      "(\"3 St & Prospect Park West\",0.09033078880407125)\n",
      "(\"E 88 St & 1 Ave\",0.008493518104604381)\n",
      "(\"3 Ave & E 62 St\",0.008004574042309892)\n",
      "(\"Hicks St & Montague St\",0.026292725679228746)\n",
      "(\"St Nicholas Ave & Manhattan Ave\",0.021715526601520086)\n",
      "(\"Milton St & Franklin St\",0.019102749638205498)\n",
      "(\"Smith St & 9 St\",0.017045454545454544)\n",
      "(\"Humboldt St & Varet St\",0.07971864009378664)\n",
      "(\"E 47 St & 1 Ave\",0.006612410986775178)\n",
      "(\"Lafayette Ave & Fort Greene Pl\",0.017689331122166942)\n",
      "(\"W 26 St & 8 Ave\",0.005154639175257732)\n",
      "(\"South End Ave & Liberty St\",0.021394703365329015)\n",
      "(\"Riverside Dr & W 78 St\",0.027517564402810304)\n",
      "(\"W 49 St & 8 Ave\",0.010927347903130538)\n"
     ]
    },
    {
     "name": "stdout",
     "output_type": "stream",
     "text": [
      "(\"E 41 St & 5 Ave\",0.005131494547787043)\n",
      "(\"Pershing Square North\",0.004445679355376493)\n",
      "(\"DeKalb Ave & Skillman St\",0.02109181141439206)\n",
      "(\"Adam Clayton Powell Blvd & W 115 St\",0.03689567430025445)\n",
      "(\"West Drive & Prospect Park West\",0.14900527811611855)\n",
      "(\"Cadman Plaza E & Red Cross Pl\",0.03351519875292284)\n",
      "(\"27 Ave & 9 St\",0.05737704918032787)\n",
      "(\"Centre St & Chambers St\",0.06588292921871174)\n",
      "(\"Franklin Ave & Empire Blvd\",0.08113590263691683)\n",
      "(\"W 106 St & Amsterdam Ave\",0.017128874388254486)\n",
      "(\"E 103 St & Lexington Ave\",0.03088803088803089)\n",
      "(\"W Broadway & Spring Street\",0.013975726369988967)\n",
      "(\"28 St & 41 Ave\",0.019230769230769232)\n",
      "(\"Franklin St & W Broadway\",0.01359039190897598)\n",
      "(\"St. Nicholas Ave & W 126 St\",0.042440318302387266)\n",
      "(\"Gold St & Frankfort St\",0.02956989247311828)\n",
      "(\"Clinton Ave & Flushing Ave\",0.0155195681511471)\n",
      "(\"Union St & 4 Ave\",0.010786802030456852)\n",
      "(\"5 Ave & E 73 St\",0.05582078589790672)\n",
      "(\"E 17 St & Broadway\",0.006823166274063846)\n",
      "(\"2 Ave & 9 St\",0.007444168734491315)\n",
      "(\"Boerum St & Broadway\",0.0234375)\n",
      "(\"India St & Manhattan Ave\",0.02337334175615919)\n",
      "(\"N 6 St & Bedford Ave\",0.017853055619134812)\n",
      "(\"W 67 St & Broadway\",0.012913786831575118)\n",
      "(\"Cambridge Pl & Gates Ave\",0.00922266139657444)\n",
      "(\"6 Ave & 12 St\",0.015299026425591099)\n",
      "(\"34 Ave & 21 St\",0.03347280334728033)\n",
      "(\"W 22 St & 8 Ave\",0.015855743820923363)\n",
      "(\"Hamilton Park\",No trips originate from this station)\n",
      "(\"Fulton St & Grand Ave\",0.02073365231259968)\n",
      "(\"E 39 St & 3 Ave\",0.00716275368085953)\n",
      "(\"Putnam Ave & Throop Ave\",0.03676470588235294)\n",
      "(\"Park Pl & Franklin Ave\",0.011111111111111112)\n",
      "(\"W 26 St & 10 Ave\",0.016655100624566273)\n",
      "(\"Central Park West & W 76 St\",0.04070112893642305)\n",
      "(\"E 51 St & 1 Ave\",0.006926406926406926)\n",
      "(\"E 128 St & Madison Ave\",0.0196078431372549)\n",
      "(\"E 116 St & 2 Ave\",0.01948051948051948)\n",
      "(\"24 St & 41 Ave\",0.026392961876832845)\n",
      "(\"Leonard St & Boerum St\",0.03195488721804511)\n",
      "(\"Suffolk St & Stanton St\",0.013625592417061612)\n",
      "(\"W 18 St & 6 Ave\",0.007500604887490926)\n",
      "(\"E 31 St & 3 Ave\",0.01066982809721399)\n",
      "(\"Clinton Ave & Myrtle Ave\",0.019426048565121413)\n",
      "(\"Huron St & Franklin St\",0.013559322033898305)\n",
      "(\"E 97 St & Madison Ave\",0.0345679012345679)\n",
      "(\"W 82 St & Central Park West\",0.03412073490813648)\n",
      "(\"NYCBS Depot - STY - Garage 4\",0.046511627906976744)\n",
      "(\"Van Dyke St & Van Brunt St\",0.04269662921348315)\n",
      "(\"E 106 St & Lexington Ave\",0.022494887525562373)\n",
      "(\"W 95 St & Broadway\",0.019570222563315427)\n",
      "(\"Monroe St & Bedford Ave\",0.024545454545454544)\n",
      "(\"W 52 St & 5 Ave\",0.005791505791505791)\n",
      "(\"Hudson St & Reade St\",0.012545394519643446)\n",
      "(\"27 Ave & 4 St\",0.046511627906976744)\n",
      "(\"W 16 St & The High Line\",0.009708737864077669)\n",
      "(\"Clinton St & Tillary St\",0.025536854323853744)\n",
      "(\"Concord St & Bridge St\",0.019933554817275746)\n",
      "(\"Garfield Pl & 8 Ave\",0.03192702394526796)\n",
      "(\"Yankee Ferry Terminal\",0.3433333333333333)\n",
      "(\"Jersey & 6th St\",No trips originate from this station)\n",
      "(\"Court St & State St\",0.01003052769297863)\n",
      "(\"Broadway & W 32 St\",0.0058758721997796545)\n",
      "(\"E 7 St & Avenue A\",0.011793084963816671)\n",
      "(\"Frederick Douglass Blvd & W 117 St\",0.015810276679841896)\n",
      "(\"5 Ave & E 93 St\",0.037444933920704845)\n",
      "(\"Graham Ave & Withers St\",0.01229895931882687)\n",
      "(\"Lewis Ave & Madison St\",0.017595307917888565)\n",
      "(\"W 78 St & Broadway\",0.011382113821138212)\n",
      "(\"Astoria Park S & Shore Blvd\",0.11371237458193979)\n",
      "(\"DeKalb Ave & Hudson Ave\",0.005841121495327103)\n",
      "(\"Forsyth St & Canal St\",0.033948652662847446)\n",
      "(\"E 10 St & 5 Ave\",0.011551983927674536)\n",
      "(\"St James Pl & Pearl St\",0.051982378854625554)\n",
      "(\"35 Ave & 10 St\",0.0)\n",
      "(\"E 53 St & Madison Ave\",0.01212856276531231)\n",
      "(\"Bank St & Hudson St\",0.01881664227472298)\n",
      "(\"31 Ave & 34 St\",0.028225806451612902)\n",
      "(\"Carmine St & 6 Ave\",0.010823682216690118)\n",
      "(\"Amsterdam Ave & W 79 St\",0.013816925734024179)\n",
      "(\"Avenue D & E 3 St\",0.03773584905660377)\n",
      "(\"DeKalb Ave & Vanderbilt Ave\",0.012464589235127478)\n",
      "(\"7 St & 5 Ave\",0.039239001189060645)\n",
      "(\"W 104 St & Amsterdam Ave\",0.021343873517786563)\n",
      "(\"St Marks Pl & 2 Ave\",0.0073773515308004425)\n",
      "(\"Montrose Ave & Bushwick Ave\",0.02463605823068309)\n",
      "(\"W 116 St & Broadway\",0.02452316076294278)\n",
      "(\"Duffield St & Willoughby St\",0.0063025210084033615)\n",
      "(\"2 Ave & E 99 St\",0.004658385093167702)\n",
      "(\"St Johns Pl & Washington Ave\",0.027777777777777776)\n",
      "(\"Union Ave & N 12 St\",0.021046950890447922)\n",
      "(\"9 Ave & W 18 St\",0.010878523158068238)\n",
      "(\"1 Ave & E 78 St\",0.013931104356636272)\n",
      "(\"E 91 St & Park Ave\",0.023474178403755867)\n",
      "(\"Carroll St & Smith St\",0.011519716437749225)\n",
      "(\"Paulus Hook\",No trips originate from this station)\n",
      "(\"11 Ave & W 41 St\",0.007825920977285742)\n",
      "(\"Broadway & W 51 St\",0.007103393843725336)\n",
      "(\"E 118 St & Park Ave\",0.07975460122699386)\n",
      "(\"Bergen St & Vanderbilt Ave\",0.010432190760059613)\n",
      "(\"E 51 St & Lexington Ave\",0.010659560293137908)\n",
      "(\"McGuinness Blvd & Eagle St\",0.011187072715972654)\n",
      "(\"E 81 St & 3 Ave\",0.013136288998357963)\n",
      "(\"Leonard St & Maujer St\",0.014084507042253521)\n",
      "(\"Reade St & Broadway\",0.01141552511415525)\n",
      "(\"Lewis Ave & Kosciuszko St\",0.034129692832764506)\n",
      "(\"Driggs Ave & Lorimer St\",0.02097902097902098)\n",
      "(\"E 45 St & 3 Ave\",0.005827505827505828)\n",
      "(\"Dean St & Hoyt St\",0.018223234624145785)\n",
      "(\"Wythe Ave & Metropolitan Ave\",0.014810751508502468)\n",
      "(\"Amsterdam Ave & W 119 St\",0.011863224005582694)\n",
      "(\"Norman Ave & Leonard St\",0.012264922322158627)\n",
      "(\"Pier 40 - Hudson River Park\",0.023984649824112567)\n",
      "(\"NYCBS Depot - GOW\",0.08333333333333333)\n",
      "(\"Pleasant Ave & E 120 St\",0.02857142857142857)\n",
      "(\"46 Ave & 5 St\",0.03065134099616858)\n",
      "(\"S 4 St & Rodney St\",0.029539530842745437)\n",
      "(\"Lefferts Pl & Franklin Ave\",0.014953271028037384)\n",
      "(\"President St & Henry St\",0.014957264957264958)\n",
      "(\"2 Ave & E 31 St\",0.009988901220865706)\n",
      "(\"21 St & 36 Ave\",0.0784313725490196)\n",
      "(\"Maiden Ln & Pearl St\",0.015611814345991562)\n",
      "(\"Front St & Gold St\",0.016504126031507877)\n",
      "(\"12 St & 4 Ave\",0.020361990950226245)\n",
      "(\"West End Ave & W 107 St\",0.017226528854435832)\n",
      "(\"Carlton Ave & Flushing Ave\",0.016270337922403004)\n",
      "(\"Adam Clayton Powell Blvd & W 118 St\",0.027777777777777776)\n",
      "(\"W 22 St & 10 Ave\",0.013780059443393677)\n",
      "(\"W 44 St & 5 Ave\",0.00655933214072749)\n",
      "(\"St James Pl & Oliver St\",0.011517077045274026)\n",
      "(\"Prospect Park West & 8 St\",0.050387596899224806)\n",
      "(\"34 Ave & 13 St\",0.030612244897959183)\n",
      "(\"Central Park West & W 85 St\",0.030160226201696512)\n",
      "(\"Pioneer St & Van Brunt St\",0.04155495978552279)\n",
      "(\"W 76 St & Columbus Ave\",0.013174019607843137)\n",
      "(\"2 Ave & E 104 St\",0.012671594508975714)\n",
      "(\"3 St & Hoyt St\",0.013975155279503106)\n",
      "(\"1 Ave & E 44 St\",0.00676328502415459)\n",
      "(\"JC Medical Center\",No trips originate from this station)\n",
      "(\"E 2 St & Avenue B\",0.01143557279967327)\n",
      "(\"Mt Morris Park W & W 120 St\",0.04)\n",
      "(\"Lawrence St & Willoughby St\",0.012358393408856848)\n",
      "(\"Henry St & Degraw St\",0.019120458891013385)\n",
      "(\"W 41 St & 8 Ave\",0.006792116690791671)\n",
      "(\"Graham Ave & Herbert St\",0.006779661016949152)\n",
      "(\"W 13 St & 6 Ave\",0.005885085953229054)\n",
      "(\"E 72 St & Park Ave\",0.013968253968253968)\n",
      "(\"21 St & Hoyt Ave S\",0.06565656565656566)\n",
      "(\"Sterling St & Bedford Ave\",0.08571428571428572)\n",
      "(\"E 6 St & Avenue D\",0.04089422028353326)\n",
      "(\"W 92 St & Broadway\",0.012286324786324786)\n",
      "(\"Sterling Pl & Bedford Ave\",0.02865329512893983)\n",
      "(\"Dwight St & Van Dyke St\",0.05263157894736842)\n",
      "(\"40 Ave & 9 St\",0.08064516129032258)\n",
      "(\"Peck Slip & Front St\",0.02716873212583413)\n",
      "(\"Exchange Place\",No trips originate from this station)\n",
      "(\"India St & West St\",0.0109375)\n",
      "(\"Division Ave & Hooper St\",0.04052098408104197)\n",
      "(\"Lispenard St & Broadway\",0.013634110064452157)\n",
      "(\"Franklin St & Dupont St\",0.014349775784753363)\n",
      "(\"Verona Pl & Fulton St\",0.01881331403762663)\n",
      "(\"E 71 St & 1 Ave\",0.010077874484654145)\n",
      "(\"Broadway & Berry St\",0.019929140832595216)\n",
      "(\"W 120 St & Claremont Ave\",0.05714285714285714)\n",
      "(\"Broadway & W 60 St\",0.02363880797669729)\n",
      "(\"4 Ave & 9 St\",0.025472473294987676)\n",
      "(\"E 13 St & Avenue A\",0.014162194394752534)\n",
      "(\"E 68 St & Madison Ave\",0.011506276150627616)\n",
      "(\"E 118 St & 1 Ave\",0.0)\n",
      "(\"E 19 St & 3 Ave\",0.01120584652862363)\n",
      "(\"Washington Pl & 6 Ave\",0.009787472035794184)\n",
      "(\"Lafayette St & Jersey St\",0.014192291637679143)\n",
      "(\"Division Ave & Marcy Ave\",0.047619047619047616)\n",
      "(\"Vernon Blvd & 50 Ave\",0.011169284467713788)\n",
      "(\"Grand Army Plaza & Central Park S\",0.07270106065286788)\n",
      "(\"Carlton Ave & Dean St\",0.022587268993839837)\n",
      "(\"Marcy Ave & Lafayette Ave\",0.023668639053254437)\n",
      "(\"Eckford St & Engert Ave\",0.024518388791593695)\n",
      "(\"E 23 St & 1 Ave\",0.011029411764705883)\n",
      "(\"Greenwich St & W Houston St\",0.012571237009721757)\n",
      "(\"10 St & 5 Ave\",0.014925373134328358)\n",
      "(\"E 118 St & 3 Ave\",0.03571428571428571)\n",
      "(\"Barrow St & Hudson St\",0.014396284829721362)\n",
      "(\"21 St & 38 Ave\",0.058823529411764705)\n",
      "(\"FDR Drive & E 35 St\",0.029042224510813595)\n",
      "(\"City Hall\",No trips originate from this station)\n",
      "(\"Berkeley Pl & 6 Ave\",0.020771513353115726)\n",
      "(\"Carroll St & 6 Ave\",0.01436265709156194)\n",
      "(\"Mercer St & Spring St\",0.01507537688442211)\n",
      "(\"9 Ave & W 45 St\",0.01655266757865937)\n",
      "(\"E 11 St & 2 Ave\",0.011610297829379102)\n",
      "(\"South St & Whitehall St\",0.020419902214552775)\n",
      "(\"28 St & 40 Ave\",0.045454545454545456)\n",
      "(\"Atlantic Ave & Fort Greene Pl\",0.015285996055226824)\n",
      "(\"48 Ave & 30 Pl\",0.0)\n",
      "(\"24 Ave & 26 St\",0.03686635944700461)\n",
      "(\"5 St & 6 Ave\",0.030816640986132512)\n",
      "(\"W 38 St & 8 Ave\",0.007967269595176572)\n",
      "(\"Underhill Ave & Lincoln Pl\",0.026217228464419477)\n",
      "(\"Cathedral Pkwy & Broadway\",0.01656412683388547)\n",
      "(\"Central Park W & W 96 St\",0.026379624014554275)\n",
      "(\"Central Park West & W 68 St\",0.03420608108108108)\n",
      "(\"W 21 St & 6 Ave\",0.007841552142279709)\n",
      "(\"Clark St & Henry St\",0.016335227272727272)\n",
      "(\"31 Ave & 30 St\",0.01837270341207349)\n",
      "(\"1 Ave & E 68 St\",0.012084092037742095)\n",
      "(\"Broadway & W 58 St\",0.019141829393627956)\n"
     ]
    },
    {
     "name": "stdout",
     "output_type": "stream",
     "text": [
      "(\"Scholes St & Manhattan Ave\",0.019175455417066157)\n",
      "(\"2 Ave & E 96 St\",0.015282131661442006)\n",
      "(\"Wolcott St & Dwight St\",0.0708955223880597)\n",
      "(\"Columbus Ave & W 72 St\",0.012094395280235988)\n",
      "(\"Rogers Ave & Sterling St\",0.0273972602739726)\n",
      "(\"W 43 St & 6 Ave\",0.01117212649119485)\n",
      "(\"E 93 St & 2 Ave\",0.009825327510917031)\n",
      "(\"28 St & 38 Ave\",0.009287925696594427)\n",
      "(\"Henry St & Grand St\",0.01764705882352941)\n",
      "(\"E 11 St & 1 Ave\",0.012358609132802682)\n",
      "(\"E 2 St & Avenue C\",0.013071895424836602)\n",
      "(\"Columbia Heights & Cranberry St\",0.037628278221208664)\n",
      "(\"Lincoln Pl & Classon Ave\",0.030927835051546393)\n",
      "(\"W 110 St & Amsterdam Ave\",0.01289134438305709)\n",
      "(\"Madison Ave & E 82 St\",0.020526315789473684)\n",
      "(\"Center Blvd & Borden Ave\",0.1189710610932476)\n",
      "(\"MacDougal St & Prince St\",0.010139416983523447)\n",
      "(\"Grove St PATH\",No trips originate from this station)\n",
      "(\"Hancock St & Bedford Ave\",0.024930747922437674)\n",
      "(\"11 Ave & W 27 St\",0.011262007287181186)\n",
      "(\"Broad St & Bridge St\",0.024154589371980676)\n",
      "(\"W 53 St & 10 Ave\",0.007550117156990367)\n",
      "(\"1 Ave & E 62 St\",0.00700218818380744)\n",
      "(\"31 St & Astoria Blvd\",0.010526315789473684)\n",
      "(\"Smith St & 3 St\",0.017421602787456445)\n",
      "(\"Pearl St & Anchorage Pl\",0.018824871648602397)\n",
      "(\"Broadway & Battery Pl\",0.026872088857040486)\n",
      "(\"Bank St & Washington St\",0.011788977306218685)\n",
      "(\"E 115 St & Lexington Ave\",0.02064896755162242)\n",
      "(\"E 30 St & Park Ave S\",0.008857022353437369)\n",
      "(\"Jay St & Tech Pl\",0.015230312035661218)\n",
      "(\"W 15 St & 10 Ave\",0.01513420902341519)\n",
      "(\"8 Ave & W 16 St\",0.007131421918206956)\n",
      "(\"Kent Ave & S 11 St\",0.021448999046711152)\n",
      "(\"Greene Ave & Throop Ave\",0.017045454545454544)\n",
      "(\"Lenox Ave & W 126 St\",0.030042918454935622)\n",
      "(\"W 15 St & 7 Ave\",0.011036385583721331)\n",
      "(\"Carroll St & 5 Ave\",0.010851419031719533)\n",
      "(\"Bond St & Fulton St\",0.013087736306349976)\n",
      "(\"Soissons Landing\",0.32545454545454544)\n",
      "(\"Front St & Washington St\",0.019092418372993913)\n",
      "(\"E 33 St & 5 Ave\",0.010052122114668651)\n",
      "(\"1 Ave & E 16 St\",0.009852216748768473)\n",
      "(\"E 60 St & York Ave\",0.023760330578512397)\n",
      "(\"Riverside Dr & W 72 St\",0.043859649122807015)\n",
      "(\"Bayard St & Leonard St\",0.01390644753476612)\n",
      "(\"1 Pl & Clinton St\",0.01858736059479554)\n",
      "(\"S 4 St & Wythe Ave\",0.01834862385321101)\n",
      "(\"1 Ave & E 110 St\",0.013262599469496022)\n",
      "(\"Classon Ave & St Marks Ave\",0.02464788732394366)\n",
      "(\"Congress St & Clinton St\",0.020097020097020097)\n",
      "(\"Clinton St & Grand St\",0.0231353591160221)\n",
      "(\"Washington Park\",0.014554794520547944)\n",
      "(\"E 9 St & Avenue C\",0.013778322106552358)\n",
      "(\"Morningside Ave & W 123 St\",0.06607929515418502)\n",
      "(\"E 81 St & Park Ave\",0.011326860841423949)\n",
      "(\"48 Ave & 5 St\",0.013110846245530394)\n",
      "(\"Warren St & Church St\",0.00684931506849315)\n",
      "(\"Richardson St & N Henry St\",0.026463512429831595)\n",
      "(\"Cumberland St & Lafayette Ave\",0.013879250520471894)\n",
      "(\"Nassau Ave & Newell St\",0.029742233972240583)\n",
      "(\"St Marks Pl & 1 Ave\",0.009576202118989406)\n",
      "(\"Greenwich Ave & 8 Ave\",0.012396694214876033)\n",
      "(\"Pioneer St & Richards St\",0.19732441471571907)\n",
      "(\"Central Park West & W 100 St\",0.035850860420650096)\n",
      "(\"6 Ave & Spring St\",0.016210739614994935)\n",
      "(\"Broadway & Roebling St\",0.0113314447592068)\n",
      "(\"Eastern Pkwy & Franklin Ave\",0.023529411764705882)\n",
      "(\"Marin Light Rail\",No trips originate from this station)\n",
      "(\"E 25 St & 1 Ave\",0.006308411214953271)\n",
      "(\"Cliff St & Fulton St\",0.020368574199806012)\n",
      "(\"Kosciuszko St & Nostrand Ave\",0.007168458781362007)\n",
      "(\"Franklin Ave & Myrtle Ave\",0.014925373134328358)\n",
      "(\"Watts St & Greenwich St\",0.024374319912948857)\n",
      "(\"Warren St & Court St\",0.019083969465648856)\n",
      "(\"49 Ave & 21 St\",0.045454545454545456)\n",
      "(\"E 84 St & Park Ave\",0.018075801749271137)\n",
      "(\"E 35 St & 3 Ave\",0.007058823529411765)\n",
      "(\"E 40 St & 5 Ave\",0.0)\n",
      "(\"28 St & 36 Ave\",0.01715686274509804)\n",
      "(\"Willoughby Ave & Walworth St\",0.011666666666666667)\n",
      "(\"Barclay St & Church St\",0.008082706766917294)\n",
      "(\"Sands St & Navy St\",0.014736842105263158)\n",
      "(\"Clinton St & Union St\",0.01810699588477366)\n",
      "(\"Canal St & Rutgers St\",0.035344659246240966)\n",
      "(\"Newark Ave\",No trips originate from this station)\n",
      "(\"Front St & Maiden Ln\",0.014291385470424772)\n",
      "(\"E 55 St & Lexington Ave\",0.010558069381598794)\n",
      "(\"8 Ave & W 31 St\",0.005428226779252111)\n",
      "(\"E 48 St & 5 Ave\",0.008776950963556573)\n",
      "(\"31 Ave & 14 St\",0.08849557522123894)\n",
      "(\"E 106 St & Madison Ave\",0.020036429872495445)\n",
      "(\"Devoe St & Lorimer St\",0.016911764705882352)\n",
      "(\"3 St & 7 Ave\",0.021929824561403508)\n",
      "(\"E 33 St & 2 Ave\",0.008897908211052139)\n",
      "(\"W 107 St & Columbus Ave\",0.016346153846153847)\n",
      "(\"Amsterdam Ave & W 73 St\",0.010461934653146628)\n",
      "(\"6 Ave & W 33 St\",0.007667573583972298)\n",
      "(\"Pleasant Ave & E 116 St\",0.029438001784121322)\n",
      "(\"31 St & Thomson Ave\",0.020361990950226245)\n",
      "(\"Broadway & E 14 St\",0.008824633871573414)\n",
      "(\"DeKalb Ave & S Portland Ave\",0.020182291666666668)\n",
      "(\"Bergen St & Smith St\",0.010225485055060305)\n",
      "(\"Amsterdam Ave & W 125 St\",0.04185022026431718)\n",
      "(\"E 20 St & 2 Ave\",0.009228187919463088)\n",
      "(\"Union St & Bedford Ave\",0.03389830508474576)\n",
      "(\"N 12 St & Bedford Ave\",0.030006523157208087)\n",
      "(\"E 12 St & 3 Ave\",0.007318789584799437)\n",
      "(\"E 4 St & 2 Ave\",0.01041264944080216)\n",
      "(\"Kosciuszko St & Tompkins Ave\",0.013008130081300813)\n",
      "(\"W 45 St & 8 Ave\",0.012804328223624888)\n",
      "(\"Cleveland Pl & Spring St\",0.011697938383136437)\n",
      "(\"Old Fulton St\",0.06357388316151202)\n",
      "(\"Columbus Drive\",No trips originate from this station)\n",
      "(\"Central Park West & W 72 St\",0.05526449214128781)\n",
      "(\"Vesey Pl & River Terrace\",0.015561144294247093)\n",
      "(\"37 Ave & 35 St\",0.038461538461538464)\n",
      "(\"Brunswick St\",No trips originate from this station)\n",
      "(\"6 St & 7 Ave\",0.007281553398058253)\n",
      "(\"Johnson St & Gold St\",0.017341040462427744)\n",
      "(\"E 67 St & Park Ave\",0.015815085158150853)\n",
      "(\"Central Park West & W 102 St\",0.021612635078969242)\n",
      "(\"Macon St & Nostrand Ave\",0.014125956444967627)\n",
      "(\"Warren St\",No trips originate from this station)\n",
      "(\"E 114 St & 1 Ave\",0.02967359050445104)\n",
      "(\"Rivington St & Ridge St\",0.017756604590731917)\n",
      "(\"Hanson Pl & Ashland Pl\",0.0095906432748538)\n",
      "(\"E 20 St & Park Ave\",0.008922558922558922)\n",
      "(\"E 5 St & Avenue C\",0.009143407122232916)\n",
      "(\"W 20 St & 11 Ave\",0.008905079943331309)\n",
      "(\"31 St & Hoyt Ave N\",0.01818181818181818)\n",
      "(\"Pearl St & Hanover Square\",0.02663622526636225)\n",
      "(\"Eastern Pkwy & Washington Ave\",0.021052631578947368)\n",
      "(\"Liberty St & Broadway\",0.01765614654601633)\n",
      "(\"E 58 St & 3 Ave\",0.00994077834179357)\n",
      "(\"5 Ave & E 78 St\",0.0497090203685742)\n",
      "(\"Broadway & W 49 St\",0.018104534005037785)\n",
      "(\"E 102 St & Park Ave\",0.027259684361549498)\n",
      "(\"Stagg St & Union Ave\",0.025)\n",
      "(\"W 116 St & Amsterdam Ave\",0.013157894736842105)\n",
      "(\"S 3 St & Bedford Ave\",0.012552301255230125)\n",
      "(\"14 St & 5 Ave\",0.010826771653543307)\n",
      "(\"W 34 St & 11 Ave\",0.02087368194534108)\n",
      "(\"Union St & Nevins St\",0.01100762066045724)\n",
      "(\"31 Ave & Crescent St\",0.015957446808510637)\n",
      "(\"Jackson Ave & 46 Rd\",0.01263537906137184)\n",
      "(\"Willoughby St & Fleet St\",0.010588235294117647)\n",
      "(\"Greene Ave & Nostrand Ave\",0.03136531365313653)\n",
      "(\"Reed St & Van Brunt St\",No trips originate from this station)\n",
      "(\"Park Ave & St Edwards St\",0.005319148936170213)\n",
      "(\"Riverside Dr & W 104 St\",0.044989775051124746)\n",
      "(\"E 16 St & Irving Pl\",0.00925507900677201)\n",
      "(\"35 St & Broadway\",0.015503875968992248)\n",
      "(\"NYCBS Depot - RIS\",No trips originate from this station)\n",
      "(\"Great Jones St\",0.007021178637200737)\n",
      "(\"Lenox Ave & W 130 St\",0.06156901688182721)\n",
      "(\"E 97 St & 3 Ave\",0.051759834368530024)\n",
      "(\"28 Ave & 35 St\",0.040293040293040296)\n",
      "(\"3 Ave & E 112 St\",0.012096774193548387)\n",
      "(\"Bus Slip & State St\",0.026893939393939394)\n",
      "(\"W 84 St & Broadway\",0.016901408450704224)\n",
      "(\"Harborside\",No trips originate from this station)\n",
      "(\"47 Ave & 31 St\",0.029143897996357013)\n",
      "(\"Douglass St & 4 Ave\",0.027422303473491772)\n",
      "(\"Greenwich Ave & Charles St\",0.04977116704805492)\n",
      "(\"Court St & Nelson St\",0.013859275053304905)\n",
      "(\"Grand St & Havemeyer St\",0.026155717761557177)\n",
      "(\"Newport Pkwy\",No trips originate from this station)\n",
      "(\"W 52 St & 9 Ave\",0.006223386832623649)\n",
      "(\"35 St & 34 Ave\",0.027777777777777776)\n",
      "(\"Lexington Ave & E 24 St\",0.007945812166210759)\n",
      "(\"E 6 St & Avenue B\",0.011295180722891566)\n",
      "(\"E 58 St & 1 Ave\",0.011973575557390587)\n",
      "(\"Pike St & E Broadway\",0.01327433628318584)\n",
      "(\"Broadway & Whipple St\",0.046511627906976744)\n",
      "(\"3 Ave & E 72 St\",0.016680567139282735)\n",
      "(\"Allen St & Hester St\",0.013446421183285064)\n",
      "(\"Mott St & Prince St\",0.017436791630340016)\n",
      "(\"Washington St & Gansevoort St\",0.018741633199464525)\n",
      "(\"Avenue D & E 12 St\",0.0614359733530718)\n",
      "(\"Park Ave & E 124 St\",0.011867088607594937)\n",
      "(\"10 Hudson Yards\",0.013257575757575758)\n"
     ]
    },
    {
     "data": {
      "text/plain": [
       "self_trips_stations: org.apache.spark.rdd.RDD[java.io.Serializable] = MapPartitionsRDD[313] at map at <console>:35\n"
      ]
     },
     "execution_count": 216,
     "metadata": {},
     "output_type": "execute_result"
    }
   ],
   "source": [
    "// Print the name of the station and the percent of trips that are self-trips from that station\n",
    "val self_trips_stations = vertex_rdd.fullOuterJoin(proportion).map(t => (t._2 match{\n",
    "    case (Some(a),Some(b)) => (a,b)\n",
    "    case (Some(a), None) => \"Unknown\"\n",
    "    case (None, Some(b)) => \"Unknown\"\n",
    "    case (None, None) => \"Unknown\"\n",
    "}))\n",
    "self_trips_stations.foreach(println)"
   ]
  },
  {
   "cell_type": "markdown",
   "metadata": {},
   "source": [
    "<h2>STEP 5: Create a new graph that contains all edges except for those between the same station</h2>\n",
    "<li>Print the proportion of trips that start and end at the same station</li>"
   ]
  },
  {
   "cell_type": "code",
   "execution_count": 220,
   "metadata": {},
   "outputs": [
    {
     "name": "stdout",
     "output_type": "stream",
     "text": [
      "The proportion of trips that start and end at the same station is 0.017519572173575804\n"
     ]
    },
    {
     "data": {
      "text/plain": [
       "new_graph: org.apache.spark.graphx.Graph[String,Double] = org.apache.spark.graphx.impl.GraphImpl@4ee8e940\n"
      ]
     },
     "execution_count": 220,
     "metadata": {},
     "output_type": "execute_result"
    }
   ],
   "source": [
    "// create the new graph excluding edges between the same station\n",
    "val new_graph = graph.subgraph(e => e.srcId != e.dstId, (v_id,v_attr) => true)\n",
    "\n",
    "// Print\n",
    "println(\"The proportion of trips that start and end at the same station is \" \n",
    "        + (1-new_graph.edges.count.toDouble/graph.edges.count.toDouble))"
   ]
  },
  {
   "cell_type": "markdown",
   "metadata": {},
   "source": [
    "<h2>STEP 6: Calculate the average duration between every pair of stations</h2>\n",
    "<li>Use groupEdges to create a new graph with edges equal to the total durations of all trips between two stations</li>\n",
    "<li>Extract edges from this new graph and create a new RDD with the data format ((src,dst),total_time)</li>\n",
    "<li>Use reduceByKey to calculate the count of edges between each pair of stations</li>\n",
    "<li>join the two RDDs, use map to calculate averages and then construct new edges (Edge objects) with the source, destination, and the average as the edge attribute</li>\n",
    "<li>make a new graph with these new edges</li>\n",
    "<li>print the top 10 edges with the smallest average durations</li>"
   ]
  },
  {
   "cell_type": "code",
   "execution_count": 221,
   "metadata": {
    "scrolled": true
   },
   "outputs": [
    {
     "data": {
      "text/plain": [
       "grouped: org.apache.spark.graphx.Graph[String,Double] = org.apache.spark.graphx.impl.GraphImpl@19b0bd47\n"
      ]
     },
     "execution_count": 221,
     "metadata": {},
     "output_type": "execute_result"
    }
   ],
   "source": [
    "// repartition then 'groupEdges'\n",
    "val grouped = new_graph.partitionBy(PartitionStrategy.CanonicalRandomVertexCut)\n",
    "                       .groupEdges((edge1, edge2) => edge1 + edge2)\n"
   ]
  },
  {
   "cell_type": "code",
   "execution_count": 291,
   "metadata": {},
   "outputs": [
    {
     "data": {
      "text/plain": [
       "res209: (org.apache.spark.graphx.VertexId, String) = (3146,\"E 81 St & 3 Ave\")\n"
      ]
     },
     "execution_count": 291,
     "metadata": {},
     "output_type": "execute_result"
    }
   ],
   "source": [
    "grouped.vertices.first"
   ]
  },
  {
   "cell_type": "code",
   "execution_count": 238,
   "metadata": {
    "scrolled": true
   },
   "outputs": [
    {
     "data": {
      "text/plain": [
       "new_edge_rdd: org.apache.spark.rdd.RDD[((org.apache.spark.graphx.VertexId, org.apache.spark.graphx.VertexId), Double)] = MapPartitionsRDD[351] at map at <console>:30\n"
      ]
     },
     "execution_count": 238,
     "metadata": {},
     "output_type": "execute_result"
    }
   ],
   "source": [
    "// extract edges from the new graph and create a new RDD\n",
    "val new_edge_rdd = grouped.edges.map(l => ((l.srcId,l.dstId),l.attr))"
   ]
  },
  {
   "cell_type": "code",
   "execution_count": 266,
   "metadata": {},
   "outputs": [
    {
     "data": {
      "text/plain": [
       "res195: Array[((org.apache.spark.graphx.VertexId, org.apache.spark.graphx.VertexId), Double)] = Array(((72,128),12593.0), ((72,265),3143.0), ((72,281),12355.0), ((72,293),16179.0))\n"
      ]
     },
     "execution_count": 266,
     "metadata": {},
     "output_type": "execute_result"
    }
   ],
   "source": [
    "new_edge_rdd.take(4)"
   ]
  },
  {
   "cell_type": "code",
   "execution_count": 267,
   "metadata": {},
   "outputs": [
    {
     "data": {
      "text/plain": [
       "new_edge_count_rdd: org.apache.spark.rdd.RDD[((org.apache.spark.graphx.VertexId, org.apache.spark.graphx.VertexId), Int)] = ShuffledRDD[389] at reduceByKey at <console>:31\n"
      ]
     },
     "execution_count": 267,
     "metadata": {},
     "output_type": "execute_result"
    }
   ],
   "source": [
    "// use reduceByKey to calculate the count of edges between each pair of stations\n",
    "val new_edge_count_rdd = new_graph.edges.map(l => ((l.srcId,l.dstId),1)).reduceByKey((a,b) => a + b)"
   ]
  },
  {
   "cell_type": "code",
   "execution_count": 268,
   "metadata": {},
   "outputs": [
    {
     "data": {
      "text/plain": [
       "res196: Array[((org.apache.spark.graphx.VertexId, org.apache.spark.graphx.VertexId), Int)] = Array(((2009,361),43), ((479,449),53), ((417,3107),3), ((3256,336),20))\n"
      ]
     },
     "execution_count": 268,
     "metadata": {},
     "output_type": "execute_result"
    }
   ],
   "source": [
    "new_edge_count_rdd.take(4)"
   ]
  },
  {
   "cell_type": "code",
   "execution_count": 285,
   "metadata": {},
   "outputs": [
    {
     "data": {
      "text/plain": [
       "new_join: org.apache.spark.rdd.RDD[((org.apache.spark.graphx.VertexId, org.apache.spark.graphx.VertexId), (Option[Double], Option[Int]))] = MapPartitionsRDD[424] at fullOuterJoin at <console>:36\n",
       "new_averages: org.apache.spark.rdd.RDD[((org.apache.spark.graphx.VertexId, org.apache.spark.graphx.VertexId), Double)] = MapPartitionsRDD[425] at map at <console>:37\n",
       "new_averages_edge_rdd: org.apache.spark.rdd.RDD[org.apache.spark.graphx.Edge[Double]] = MapPartitionsRDD[426] at map at <console>:43\n"
      ]
     },
     "execution_count": 285,
     "metadata": {},
     "output_type": "execute_result"
    }
   ],
   "source": [
    "// join the two RDDs, use map to calculate averages and then construct new edges\n",
    "val new_join = new_edge_rdd.fullOuterJoin(new_edge_count_rdd)\n",
    "val new_averages = new_join.map(t => (t._1,t._2 match{\n",
    "    case (Some(a),Some(b)) => a/b\n",
    "    case (Some(a), None) => 0.0\n",
    "    case (None, Some(b)) => 0.0\n",
    "    case (None, None) => 0.0\n",
    "}))\n",
    "val new_averages_edge_rdd = new_averages.map(l => Edge(l._1._1, l._1._2, l._2))"
   ]
  },
  {
   "cell_type": "code",
   "execution_count": 286,
   "metadata": {},
   "outputs": [
    {
     "data": {
      "text/plain": [
       "res204: ((org.apache.spark.graphx.VertexId, org.apache.spark.graphx.VertexId), (Option[Double], Option[Int])) = ((2009,361),(Some(21555.0),Some(43)))\n"
      ]
     },
     "execution_count": 286,
     "metadata": {},
     "output_type": "execute_result"
    }
   ],
   "source": [
    "new_join.first"
   ]
  },
  {
   "cell_type": "code",
   "execution_count": 287,
   "metadata": {},
   "outputs": [
    {
     "data": {
      "text/plain": [
       "res205: ((org.apache.spark.graphx.VertexId, org.apache.spark.graphx.VertexId), Double) = ((2009,361),501.27906976744185)\n"
      ]
     },
     "execution_count": 287,
     "metadata": {},
     "output_type": "execute_result"
    }
   ],
   "source": [
    "new_averages.first"
   ]
  },
  {
   "cell_type": "code",
   "execution_count": 290,
   "metadata": {},
   "outputs": [
    {
     "data": {
      "text/plain": [
       "res208: org.apache.spark.graphx.Edge[Double] = Edge(2009,361,501.27906976744185)\n"
      ]
     },
     "execution_count": 290,
     "metadata": {},
     "output_type": "execute_result"
    }
   ],
   "source": [
    "new_averages_edge_rdd.first"
   ]
  },
  {
   "cell_type": "code",
   "execution_count": 292,
   "metadata": {},
   "outputs": [
    {
     "data": {
      "text/plain": [
       "new_average_graph: org.apache.spark.graphx.Graph[String,Double] = org.apache.spark.graphx.impl.GraphImpl@7edb9bb7\n"
      ]
     },
     "execution_count": 292,
     "metadata": {},
     "output_type": "execute_result"
    }
   ],
   "source": [
    "// make a new graph\n",
    "val new_average_graph: Graph[String, Double] = Graph(grouped.vertices, new_averages_edge_rdd)"
   ]
  },
  {
   "cell_type": "code",
   "execution_count": 302,
   "metadata": {},
   "outputs": [
    {
     "name": "stdout",
     "output_type": "stream",
     "text": [
      "Edge(3596,3601,67.0)\n",
      "Edge(3352,3333,68.0)\n",
      "Edge(3551,3502,70.5)\n",
      "Edge(3523,3515,76.0)\n",
      "Edge(505,3464,77.5)\n",
      "Edge(3071,3069,80.5)\n",
      "Edge(3329,3303,83.0)\n",
      "Edge(420,416,87.0)\n",
      "Edge(3329,3332,87.5)\n",
      "Edge(3501,3503,87.57142857142857)\n"
     ]
    }
   ],
   "source": [
    "// print the top 10 edges with the smallest average durations\n",
    "new_average_graph.edges.sortBy(_.attr).take(10).foreach(println)"
   ]
  },
  {
   "cell_type": "markdown",
   "metadata": {},
   "source": [
    "<h2>STEP 7: Important stations</h2>\n",
    "Citibike wants to figure out how best to deploy its workers in checking whether a station is over-full (too many bikes) or needs more bikes. It figures that the best way to do this is to find out which stations are the most important in terms of flows:\n",
    "<li>A station that has high bike returns and is connected to other stations with high bike returns is more likely to have too many bikes in its station and therefore should be monitored more often</li>\n",
    "<li>A station that has high bike pickups and is connected to other stations with high bike pickups is more likely to be short of bikes and therefore should be monitored more often</li>\n",
    "<li>Calculate the propensities for over-fullness and emptiness for every station</li>\n",
    "<li>Report the 5 most important stations for over-fullness</li>\n",
    "<li>Report the 5 most important stations for emptiness</li>"
   ]
  },
  {
   "cell_type": "code",
   "execution_count": 327,
   "metadata": {},
   "outputs": [
    {
     "data": {
      "text/plain": [
       "return_bikes: org.apache.spark.graphx.Graph[String,Int] = org.apache.spark.graphx.impl.GraphImpl@57beee42\n"
      ]
     },
     "execution_count": 327,
     "metadata": {},
     "output_type": "execute_result"
    }
   ],
   "source": [
    "// use the 'new_graph' from step 5\n",
    "// use pagerank\n",
    "\n",
    "// make new edges with attributes of 1 per trip to the station\n",
    "val return_bikes = new_graph.mapEdges(l => 1)\n",
    "// returns a new graph called 'return_bikes'"
   ]
  },
  {
   "cell_type": "code",
   "execution_count": 328,
   "metadata": {},
   "outputs": [
    {
     "name": "stdout",
     "output_type": "stream",
     "text": [
      "(\"Pershing Square North\",5.012871239386011)\n",
      "(\"West St & Chambers St\",3.738987724710476)\n",
      "(\"Broadway & E 22 St\",3.6361291974134105)\n",
      "(\"E 17 St & Broadway\",3.588887101309807)\n",
      "(\"W 21 St & 6 Ave\",3.48583225244726)\n"
     ]
    },
    {
     "data": {
      "text/plain": [
       "ranks_1: org.apache.spark.graphx.VertexRDD[Double] = VertexRDDImpl[4724] at RDD at VertexRDD.scala:57\n",
       "stations_1: org.apache.spark.graphx.VertexRDD[String] = VertexRDDImpl[331] at RDD at VertexRDD.scala:57\n",
       "ranksByStation_1: org.apache.spark.rdd.RDD[(String, Double)] = MapPartitionsRDD[4734] at map at <console>:36\n"
      ]
     },
     "execution_count": 328,
     "metadata": {},
     "output_type": "execute_result"
    }
   ],
   "source": [
    "// run pagerank\n",
    "val ranks_1 = return_bikes.pageRank(0.0001).vertices\n",
    "val stations_1 = return_bikes.vertices\n",
    "val ranksByStation_1 = stations_1.join(ranks_1).map {\n",
    "  case (id, (station, rank)) => (station, rank)\n",
    "}\n",
    "// Report the 5 most important stations for over-fullness\n",
    "ranksByStation_1.sortBy(_._2,false).take(5).foreach(println)"
   ]
  },
  {
   "cell_type": "code",
   "execution_count": 329,
   "metadata": {},
   "outputs": [],
   "source": [
    "// Similarly for pickup by make the edge attribute negative"
   ]
  },
  {
   "cell_type": "code",
   "execution_count": 330,
   "metadata": {},
   "outputs": [
    {
     "name": "stdout",
     "output_type": "stream",
     "text": [
      "(\"JSQ Don't Use\",0.15567242488999491)\n",
      "(\"8D QC Station 01\",0.15567242488999491)\n",
      "(\"Astor Place\",0.1559546418499317)\n",
      "(\"City Hall\",0.1559681093166172)\n",
      "(\"Liberty Light Rail\",0.15628633114127)\n"
     ]
    },
    {
     "data": {
      "text/plain": [
       "pickup_bikes: org.apache.spark.graphx.Graph[String,Int] = org.apache.spark.graphx.impl.GraphImpl@7a0564f9\n",
       "ranks_2: org.apache.spark.graphx.VertexRDD[Double] = VertexRDDImpl[5583] at RDD at VertexRDD.scala:57\n",
       "stations_2: org.apache.spark.graphx.VertexRDD[String] = VertexRDDImpl[331] at RDD at VertexRDD.scala:57\n",
       "ranksByStation_2: org.apache.spark.rdd.RDD[(String, Double)] = MapPartitionsRDD[5593] at map at <console>:40\n"
      ]
     },
     "execution_count": 330,
     "metadata": {},
     "output_type": "execute_result"
    }
   ],
   "source": [
    "val pickup_bikes = new_graph.mapEdges(l => -1)\n",
    "val ranks_2 = pickup_bikes.pageRank(0.0001).vertices\n",
    "val stations_2 = return_bikes.vertices\n",
    "val ranksByStation_2 = stations_2.join(ranks_2).map {\n",
    "  case (id, (station, rank)) => (station, rank)\n",
    "}\n",
    "// Report the 5 most important stations for emptiness\n",
    "ranksByStation_2.sortBy(_._2).take(5).foreach(println)"
   ]
  },
  {
   "cell_type": "markdown",
   "metadata": {},
   "source": [
    "<h2>STEP 8: Calculate the clustering coefficient of every station</h2>\n",
    "<li>And report the top 20 stations by clustering coefficient</li>\n",
    "<li>Note that you may be unable to use <span style=\"color:red\">zip</span>. Try using <span style=\"color:blue\">join</span> instead</li>"
   ]
  },
  {
   "cell_type": "code",
   "execution_count": 333,
   "metadata": {},
   "outputs": [
    {
     "data": {
      "text/plain": [
       "triangles: org.apache.spark.graphx.Graph[Int,Double] = org.apache.spark.graphx.impl.GraphImpl@240be142\n",
       "triangles_by_vertices: org.apache.spark.graphx.VertexRDD[Int] = VertexRDDImpl[5692] at RDD at VertexRDD.scala:57\n",
       "possible_triangles: org.apache.spark.rdd.RDD[(org.apache.spark.graphx.VertexId, Int)] = MapPartitionsRDD[5713] at map at <console>:37\n"
      ]
     },
     "execution_count": 333,
     "metadata": {},
     "output_type": "execute_result"
    }
   ],
   "source": [
    "// use the 'new_graph' from step 5\n",
    "val triangles = new_graph.triangleCount\n",
    "val triangles_by_vertices = triangles.vertices\n",
    "val possible_triangles = graph.convertToCanonicalEdges().degrees.map(d => (d._1,d._2*(d._2-1)/2))"
   ]
  },
  {
   "cell_type": "code",
   "execution_count": 334,
   "metadata": {},
   "outputs": [
    {
     "data": {
      "text/plain": [
       "res240: (org.apache.spark.graphx.VertexId, Int) = (3146,39467)\n"
      ]
     },
     "execution_count": 334,
     "metadata": {},
     "output_type": "execute_result"
    }
   ],
   "source": [
    "triangles_by_vertices.first"
   ]
  },
  {
   "cell_type": "code",
   "execution_count": 335,
   "metadata": {},
   "outputs": [
    {
     "data": {
      "text/plain": [
       "res241: (org.apache.spark.graphx.VertexId, Int) = (3146,54615)\n"
      ]
     },
     "execution_count": 335,
     "metadata": {},
     "output_type": "execute_result"
    }
   ],
   "source": [
    "possible_triangles.first"
   ]
  },
  {
   "cell_type": "code",
   "execution_count": 342,
   "metadata": {},
   "outputs": [
    {
     "data": {
      "text/plain": [
       "triangles_and_degrees: org.apache.spark.rdd.RDD[(org.apache.spark.graphx.VertexId, (Option[Int], Option[Int]))] = MapPartitionsRDD[5727] at fullOuterJoin at <console>:31\n"
      ]
     },
     "execution_count": 342,
     "metadata": {},
     "output_type": "execute_result"
    }
   ],
   "source": [
    "val triangles_and_degrees = triangles_by_vertices.fullOuterJoin(possible_triangles)"
   ]
  },
  {
   "cell_type": "code",
   "execution_count": 343,
   "metadata": {},
   "outputs": [
    {
     "data": {
      "text/plain": [
       "res245: (org.apache.spark.graphx.VertexId, (Option[Int], Option[Int])) = (3146,(Some(39467),Some(54615)))\n"
      ]
     },
     "execution_count": 343,
     "metadata": {},
     "output_type": "execute_result"
    }
   ],
   "source": [
    "triangles_and_degrees.first"
   ]
  },
  {
   "cell_type": "code",
   "execution_count": 351,
   "metadata": {},
   "outputs": [
    {
     "data": {
      "text/plain": [
       "<console>:30: warning: match may not be exhaustive.\n",
       "It would fail on the following inputs: (None, None), (None, Some(_)), (Some(_), None)\n",
       "       val clustering_coefficientients = triangles_and_degrees.map(t => (t._1,t._2 match {\n",
       "                                                                                ^\n",
       "clustering_coefficientients: org.apache.spark.rdd.RDD[(org.apache.spark.graphx.VertexId, Double)] = MapPartitionsRDD[5729] at map at <console>:30\n"
      ]
     },
     "execution_count": 351,
     "metadata": {},
     "output_type": "execute_result"
    }
   ],
   "source": [
    "val clustering_coefficientients = triangles_and_degrees.map(t => (t._1,t._2 match {\n",
    "                                case (Some(a),Some(b)) => a.toDouble/b.toDouble\n",
    "                            }))"
   ]
  },
  {
   "cell_type": "code",
   "execution_count": 352,
   "metadata": {},
   "outputs": [
    {
     "data": {
      "text/plain": [
       "res252: (org.apache.spark.graphx.VertexId, Double) = (3146,0.7226403002838048)\n"
      ]
     },
     "execution_count": 352,
     "metadata": {},
     "output_type": "execute_result"
    }
   ],
   "source": [
    "clustering_coefficientients.first"
   ]
  },
  {
   "cell_type": "code",
   "execution_count": 353,
   "metadata": {
    "scrolled": true
   },
   "outputs": [
    {
     "name": "stdout",
     "output_type": "stream",
     "text": [
      "(3279,1.0)\n",
      "(3192,1.0)\n",
      "(3040,1.0)\n",
      "(3485,1.0)\n",
      "(3639,1.0)\n",
      "(3647,1.0)\n",
      "(3186,1.0)\n",
      "(153,1.0)\n",
      "(339,0.877201420748853)\n",
      "(3464,0.8679573382796197)\n",
      "(247,0.8602079768329604)\n",
      "(3175,0.8592469808193227)\n",
      "(3176,0.8568452539928423)\n",
      "(3623,0.8549019607843137)\n",
      "(3491,0.854122621564482)\n",
      "(266,0.849218980253463)\n",
      "(3441,0.8482701509017299)\n",
      "(3646,0.8333333333333334)\n",
      "(3642,0.832)\n",
      "(444,0.8283229697508064)\n"
     ]
    }
   ],
   "source": [
    "clustering_coefficientients.sortBy(_._2,false).take(20).foreach(println)\n",
    "// Report the top 20 stations by clustering coefficient: (id, clustering coefficient)"
   ]
  }
 ],
 "metadata": {
  "hide_code_all_hidden": false,
  "kernelspec": {
   "display_name": "spylon-kernel",
   "language": "scala",
   "name": "spylon-kernel"
  },
  "language_info": {
   "codemirror_mode": "text/x-scala",
   "file_extension": ".scala",
   "help_links": [
    {
     "text": "MetaKernel Magics",
     "url": "https://metakernel.readthedocs.io/en/latest/source/README.html"
    }
   ],
   "mimetype": "text/x-scala",
   "name": "scala",
   "pygments_lexer": "scala",
   "version": "0.4.1"
  }
 },
 "nbformat": 4,
 "nbformat_minor": 2
}

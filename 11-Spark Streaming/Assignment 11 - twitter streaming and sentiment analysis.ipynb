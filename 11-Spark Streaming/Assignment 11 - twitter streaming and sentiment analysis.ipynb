{
 "cells": [
  {
   "cell_type": "markdown",
   "metadata": {},
   "source": [
    "<h1>Twitter Streaming Assignment</h1>\n",
    "In this assignment, you need to calculate the average sentiment of selected tweets and draw a dynamic graph that shows how this average sentiment is changing over time. Roughly, you need to:\n",
    "\n",
    "<li>create a twitter stream listener</li>\n",
    "<li>collect tweets in batches</li>\n",
    "<li>get the sentiment associated with each tweet</li>\n",
    "<li>create windows on the stream</li>\n",
    "<li>calculate the average sentiment within each window</li>\n",
    "<li>create a dynamic graph that updates every x seconds with the window time on the x axis and the average sentiment in the window on the y-axis</li>\n",
    "\n",
    "<h2>The graph</h2>\n",
    "<li>Note that the graph will pop up in a separate window</li>\n",
    "<li>Which may be behind your browser - so look for it!</li>\n",
    "\n",
    "\n",
    "<h2>Resources required</h2>\n",
    "<li><span style=\"color:blue\">streaming twitter</span>: based on the java twitter library <span style=\"color:blue\">twitter4j</span>, this library provides Spark streaming support for twitter</li>\n",
    "<li><span style=\"color:blue\">stanford corenlp</span>: for the sentiment analysis</li>\n",
    "<li><span style=\"color:blue\">JFree Chart</span>: a java library for drawing charts (<a href=\"http://www.jfree.org/jfreechart/\">http://www.jfree.org/jfreechart/</a></li>"
   ]
  },
  {
   "cell_type": "markdown",
   "metadata": {},
   "source": [
    "<h1>init spark</h1>\n",
    "<li>The driver_memory step is important since streaming apps take up a lot of memory</li>\n",
    "<li>A few new jars:</li>\n",
    "<ul>\n",
    "    <li>twitter streaming api jar</li>\n",
    "    <li>jfreechart jars for drawing charts</li>\n",
    "</ul>"
   ]
  },
  {
   "cell_type": "code",
   "execution_count": 1,
   "metadata": {},
   "outputs": [],
   "source": [
    "%%init_spark\n",
    "launcher.num_executors = 4\n",
    "launcher.executor_cores = 2\n",
    "launcher.driver_memory = '10g'\n",
    "launcher.jars =[\"/Users/Zhang/Documents/Stanford_NLP/stanford-corenlp-3.9.2-models.jar\",\n",
    "                \"/Users/Zhang/Documents/Stanford_NLP/stanford-corenlp-3.9.2.jar\",\n",
    "                \"/Users/Zhang/Documents/Stanford_NLP/jcommon-1.0.23.jar\",\n",
    "                \"/Users/Zhang/Documents/Stanford_NLP/jfreechart-1.0.19.jar\"]\n",
    "launcher.packages= [\"databricks:spark-corenlp:0.4.0-spark2.4-scala2.11\",\n",
    "                    \"org.apache.bahir:spark-streaming-twitter_2.11:2.4.0\"]"
   ]
  },
  {
   "cell_type": "markdown",
   "metadata": {},
   "source": [
    "<h2>CoreNLP imports</h2>"
   ]
  },
  {
   "cell_type": "code",
   "execution_count": 2,
   "metadata": {},
   "outputs": [
    {
     "data": {
      "text/plain": [
       "Intitializing Scala interpreter ..."
      ]
     },
     "metadata": {},
     "output_type": "display_data"
    },
    {
     "data": {
      "text/plain": [
       "Spark Web UI available at http://ziyangs-mbp.attlocal.net:4040\n",
       "SparkContext available as 'sc' (version = 2.4.6, master = local[*], app id = local-1597018496699)\n",
       "SparkSession available as 'spark'\n"
      ]
     },
     "metadata": {},
     "output_type": "display_data"
    },
    {
     "data": {
      "text/plain": [
       "import java.util.Properties\n",
       "import scala.collection.JavaConverters._\n",
       "import edu.stanford.nlp.ling.CoreAnnotations\n",
       "import edu.stanford.nlp.neural.rnn.RNNCoreAnnotations\n",
       "import edu.stanford.nlp.neural.rnn.RNNCoreAnnotations\n",
       "import edu.stanford.nlp.pipeline.{Annotation, StanfordCoreNLP}\n",
       "import edu.stanford.nlp.sentiment.SentimentCoreAnnotations\n",
       "import scala.collection.convert.wrapAll._\n",
       "import scala.collection.mutable.ArrayBuffer\n",
       "import org.apache.spark.sql.DataFrame\n"
      ]
     },
     "execution_count": 2,
     "metadata": {},
     "output_type": "execute_result"
    }
   ],
   "source": [
    "import java.util.Properties \n",
    "import scala.collection.JavaConverters._\n",
    "import edu.stanford.nlp.ling.CoreAnnotations \n",
    "import edu.stanford.nlp.neural.rnn.RNNCoreAnnotations \n",
    "import edu.stanford.nlp.neural.rnn.RNNCoreAnnotations \n",
    "import edu.stanford.nlp.pipeline.{Annotation, StanfordCoreNLP}\n",
    "import edu.stanford.nlp.sentiment.SentimentCoreAnnotations\n",
    "import scala.collection.convert.wrapAll._\n",
    "import scala.collection.mutable.ArrayBuffer\n",
    "import org.apache.spark.sql.DataFrame\n",
    "\n"
   ]
  },
  {
   "cell_type": "markdown",
   "metadata": {},
   "source": [
    "<h2>Write the program</h2>\n",
    "<li><b>NOTE:</b> Because Spark is a distributed computing platform, objects are <span style=\"color:red\">serialized</span>. Serialization is a complex thing but the 5 second version is that objects (data + methods) must be distributable and the result of the distribution should not depend on the sequence of completion of distributed parts of the object (this should make sense). As a result, if you call functions or rdds that are outside the scope of a cell, Spark may not be able to serialize the code (the program object). You should grow your code organically - i.e., as the code grows, include all previous parts of the code in the same cell.</li>\n",
    "<li>Note that this is an artifact of Jupyter. Cells are independent and scope is therefore murky. In a single program, this would not be an issue (a single program is like a one cell jupyter notebook!)</li>"
   ]
  },
  {
   "cell_type": "markdown",
   "metadata": {},
   "source": [
    "<h2>Parameters</h2>\n",
    "<li><span style=\"color:blue\">BATCH_SIZE</span>: The size of a micro batch</li>\n",
    "<li><span style=\"color:blue\">NUM_BATCHES</span>: The minumum amount of data you need to collect. Ideally, of course, this should run for ever!</li>\n",
    "<li><span style=\"color:blue\">WINDOW_LENGTH</span>: The size of a window. We're collecting data in small batches, a window in this instance is like constructing a moving average. Roughly, we're collecting a moving 5 minute moving average of data averaged every minute</li>\n",
    "<li><span style=\"color:blue\">SLIDE_DURATION</span>: The slide duration. Since we're reproducing a moving average, we'll keep this at the batch size</li>\n",
    "<li><span style=\"color:blue\">TWEET_WORDS</span>: The tweets we will examine. Each tweet in our moving average should contain at least one word from this list</li>\n"
   ]
  },
  {
   "cell_type": "markdown",
   "metadata": {},
   "source": [
    "<h3>Note</h3>\n",
    "I suggest you start with a NUM_BATCHES of 5, BATCH_SIZE or 20, WINDOW_LENGTH of 60, and an empty array of TWEET_WORDS. That way you'll be sure to get some initial data to test out your code"
   ]
  },
  {
   "cell_type": "code",
   "execution_count": null,
   "metadata": {},
   "outputs": [],
   "source": [
    "val BATCH_SIZE = 60\n",
    "val NUM_BATCHES = 20\n",
    "val WINDOW_LENGTH = 300\n",
    "val SLIDE_DURATION = BATCH_SIZE\n",
    "\n",
    "//The apple keywords will work better during market hours (9:30 to 4:00 EDT)\n",
    "//val tweet_words = Array(\"aapl\",\"apple\",\"mac\",\"ipad\",\"iphone\")\n",
    "val TWEET_WORDS = Array(\"covid\",\"corona\",\"virus\")"
   ]
  },
  {
   "cell_type": "markdown",
   "metadata": {},
   "source": [
    "<h2>getSentiment</h2>\n",
    "<li>A function that returns the sentiment given a piece of text</li>\n",
    "<li>Get the sentence for each sentence in the text and divide by the number of sentences</li>\n",
    "<li>(This is the stanford corenlp part!)\n",
    "<li>Returns a Double</li>\n"
   ]
  },
  {
   "cell_type": "code",
   "execution_count": 3,
   "metadata": {},
   "outputs": [
    {
     "data": {
      "text/plain": [
       "getSentiment: (text: String)Double\n"
      ]
     },
     "execution_count": 3,
     "metadata": {},
     "output_type": "execute_result"
    }
   ],
   "source": [
    "\n",
    "def getSentiment(text: String): Double = {\n",
    "    val props = new Properties()\n",
    "    props.setProperty(\"annotators\", \"tokenize, ssplit, pos, parse, sentiment\")\n",
    "    val pipeline: StanfordCoreNLP = new StanfordCoreNLP(props)\n",
    "    val annotation: Annotation = pipeline.process(text)\n",
    "    val sentences = annotation.get(classOf[CoreAnnotations.SentencesAnnotation])\n",
    "    val score = sentences.map { sent => \n",
    "        val tree = sent.get(classOf[SentimentCoreAnnotations.SentimentAnnotatedTree])\n",
    "        val score = RNNCoreAnnotations.getPredictedClass(tree)\n",
    "        score\n",
    "    }\n",
    "    score.sum/sentences.length.toFloat\n",
    "}"
   ]
  },
  {
   "cell_type": "code",
   "execution_count": 4,
   "metadata": {},
   "outputs": [
    {
     "data": {
      "text/plain": [
       "res0: Double = 2.5\n"
      ]
     },
     "execution_count": 4,
     "metadata": {},
     "output_type": "execute_result"
    }
   ],
   "source": [
    "getSentiment(\"John Gilpin was a citizen of credit and renown. A train band captian eke was he of famous london town.\")\n",
    "\n",
    "//Should return: Double = 2.5"
   ]
  },
  {
   "cell_type": "markdown",
   "metadata": {},
   "source": [
    "<h2>filterData</h2>\n",
    "<li>Write a function filterData that takes a text string, and an array of word strings as arguments and returns true or false</li>\n",
    "<li>It should return true if <span style=\"color:red\">any</span> of the words in the array are in the string</li>\n"
   ]
  },
  {
   "cell_type": "code",
   "execution_count": 5,
   "metadata": {},
   "outputs": [
    {
     "data": {
      "text/plain": [
       "filterData: (text: String, words: Array[String])Boolean\n"
      ]
     },
     "execution_count": 5,
     "metadata": {},
     "output_type": "execute_result"
    }
   ],
   "source": [
    "def filterData(text: String,words: Array[String]): Boolean = {\n",
    "    words.map(w => text.contains(w)).contains(true)\n",
    "}\n"
   ]
  },
  {
   "cell_type": "code",
   "execution_count": 6,
   "metadata": {},
   "outputs": [
    {
     "data": {
      "text/plain": [
       "r1: Boolean = true\n",
       "r2: Boolean = false\n"
      ]
     },
     "execution_count": 6,
     "metadata": {},
     "output_type": "execute_result"
    }
   ],
   "source": [
    "var r1 = filterData(\"Coronavirus has hit New York City in the worst way possible. USA has the highest incidence of COVID-19\",\n",
    "          Array(\"Corona\",\"infection\"))\n",
    "val r2 = filterData(\"Coronavirus has hit New York City in the worst way possible. USA has the highest incidence of COVID-19\",\n",
    "          Array(\"Apple\",\"APPL\"))\n",
    "\n",
    "/* Should return:\n",
    "r1: Boolean = true\n",
    "r2: Boolean = false\n",
    "*/\n"
   ]
  },
  {
   "cell_type": "markdown",
   "metadata": {},
   "source": [
    "<h2>Twitter keys</h2>\n",
    "<li>Get twitter API keys <a href=\"https://developer.twitter.com/en/docs/basics/getting-started\">Getting started with twitter API</a> (use the standard API)</li>\n",
    "<li>Enter them below</li>\n",
    "<li>Then assign them to various twitter4j objects</li>\n",
    "<li>Finally, create the stream receiver</li>"
   ]
  },
  {
   "cell_type": "code",
   "execution_count": null,
   "metadata": {},
   "outputs": [],
   "source": [
    "//Twitter API keys\n",
    "\n",
    "val CONSUMER_KEY = \"cQdzkPztrKNzWTG4ElD44NvHD\"\n",
    "val CONSUMER_SECRET = \"LNhuKZBJjT2ueUgn7PMvFybIcn0wLKrL6fRYvu7HVd0JLK9DpX\"\n",
    "val ACCESS_TOKEN = \"1290412589432705027-FjCoxf00DHMBhaW7Nb5vFKnfEtb0Pq\"\n",
    "val ACCESS_TOKEN_SECRET = \"I74DNUqivwoAW87BG9epihxTbWkK4CheXC4VOoYs5bZWi\"\n"
   ]
  },
  {
   "cell_type": "code",
   "execution_count": null,
   "metadata": {},
   "outputs": [],
   "source": [
    "System.setProperty(\"twitter4j.oauth.consumerKey\",CONSUMER_KEY)\n",
    "System.setProperty(\"twitter4j.oauth.consumerSecret\",CONSUMER_SECRET)\n",
    "System.setProperty(\"twitter4j.oauth.accessToken\",ACCESS_TOKEN)\n",
    "System.setProperty(\"twitter4j.oauth.accessTokenSecret\",ACCESS_TOKEN_SECRET)\n",
    "\n",
    "\n"
   ]
  },
  {
   "cell_type": "markdown",
   "metadata": {},
   "source": [
    "<h2>Set up a streaming context with batch size BATCH_SIZE</h2>\n",
    "<li>From now on, to be on the safe (serializable!) side, include all the above code in every cell)</li>\n",
    "<li>create a stream listener</li>\n",
    "<li>create a tweets variable to get the tweets from the listener</li>\n",
    "<li>Done for you!</li>"
   ]
  },
  {
   "cell_type": "code",
   "execution_count": null,
   "metadata": {},
   "outputs": [],
   "source": [
    "import org.apache.spark.streaming.{Seconds, StreamingContext}\n",
    "import org.apache.spark.streaming.twitter._\n",
    "val ssc = new StreamingContext(sc,Seconds(BATCH_SIZE.toLong))\n",
    "val stream = TwitterUtils.createStream(ssc, None)\n",
    "val tweets = stream.filter(_.getLang == \"en\")"
   ]
  },
  {
   "cell_type": "markdown",
   "metadata": {},
   "source": [
    "\n",
    "<h3>Create a DStream with <span style=\"color:blue\">(text,sentiment)</span> pairs</h3>\n",
    "<li>the function, getText, returns the text of a tweet</li>\n",
    "<li>not necessary here but the function getHashTagEntities gets all the hash tags associated with a tweet</li>\n",
    "<li>Note: You will need to include the getSentiment function in this cell</li>\n",
    "<li>Also many other functions (retweets, etc.)</li>"
   ]
  },
  {
   "cell_type": "code",
   "execution_count": null,
   "metadata": {},
   "outputs": [],
   "source": [
    "//All imports\n",
    "import java.util.Properties \n",
    "import scala.collection.JavaConverters._\n",
    "import edu.stanford.nlp.ling.CoreAnnotations \n",
    "import edu.stanford.nlp.neural.rnn.RNNCoreAnnotations \n",
    "import edu.stanford.nlp.neural.rnn.RNNCoreAnnotations \n",
    "import edu.stanford.nlp.pipeline.{Annotation, StanfordCoreNLP}\n",
    "import edu.stanford.nlp.sentiment.SentimentCoreAnnotations\n",
    "import scala.collection.convert.wrapAll._\n",
    "import scala.collection.mutable.ArrayBuffer\n",
    "import org.apache.spark.sql.DataFrame\n",
    "\n",
    "//All parameters\n",
    "val BATCH_SIZE = 20\n",
    "val NUM_BATCHES = 20\n",
    "val WINDOW_LENGTH = 60\n",
    "val SLIDE_DURATION = 40\n",
    "\n",
    "//getSentiment function\n",
    "\n",
    "def getSentiment(text: String): Double = {\n",
    "    val props = new Properties()\n",
    "    props.setProperty(\"annotators\", \"tokenize, ssplit, pos, parse, sentiment\")\n",
    "    val pipeline: StanfordCoreNLP = new StanfordCoreNLP(props)\n",
    "    val annotation: Annotation = pipeline.process(text)\n",
    "    val sentences = annotation.get(classOf[CoreAnnotations.SentencesAnnotation])\n",
    "    val score = sentences.map { sent => \n",
    "        val tree = sent.get(classOf[SentimentCoreAnnotations.SentimentAnnotatedTree])\n",
    "        val score = RNNCoreAnnotations.getPredictedClass(tree)\n",
    "        score\n",
    "    }\n",
    "    score.sum/sentences.length.toFloat\n",
    "}\n",
    "\n",
    "//val words = Array(\"covid\",\"corona\",\"virus\")\n",
    "val words = Array(\"aapl\",\"apple\",\"mac\",\"ipad\",\"iphone\")\n",
    "\n",
    "//filterData function\n",
    "def filterData(text: String,words: Array[String]): Boolean = {\n",
    "    words.map(w => text.contains(w)).contains(true)\n",
    "}\n",
    "\n",
    "//Twitter API keys\n",
    "\n",
    "val CONSUMER_KEY = \"cQdzkPztrKNzWTG4ElD44NvHD\"\n",
    "val CONSUMER_SECRET = \"LNhuKZBJjT2ueUgn7PMvFybIcn0wLKrL6fRYvu7HVd0JLK9DpX\"\n",
    "val ACCESS_TOKEN = \"1290412589432705027-FjCoxf00DHMBhaW7Nb5vFKnfEtb0Pq\"\n",
    "val ACCESS_TOKEN_SECRET = \"I74DNUqivwoAW87BG9epihxTbWkK4CheXC4VOoYs5bZWi\"\n",
    "\n",
    "//Twitter API keys attached to twitter4j\n",
    "System.setProperty(\"twitter4j.oauth.consumerKey\",CONSUMER_KEY)\n",
    "System.setProperty(\"twitter4j.oauth.consumerSecret\",CONSUMER_SECRET)\n",
    "System.setProperty(\"twitter4j.oauth.accessToken\",ACCESS_TOKEN)\n",
    "System.setProperty(\"twitter4j.oauth.accessTokenSecret\",ACCESS_TOKEN_SECRET)\n",
    "\n",
    "\n",
    "//Streaming context and twitter stream set up\n",
    "import org.apache.spark.streaming.{Seconds, StreamingContext}\n",
    "import org.apache.spark.streaming.twitter._\n",
    "val ssc = new StreamingContext(sc,Seconds(BATCH_SIZE.toLong))\n",
    "\n",
    "val stream = TwitterUtils.createStream(ssc, None)\n",
    "val tweets = stream.filter(_.getLang == \"en\")\n",
    "\n",
    "\n",
    "//text_sentiment_pairs\n",
    "val text_sentiment_pairs = tweets.map(t => (t.getText, getSentiment(t.getText)))\n"
   ]
  },
  {
   "cell_type": "markdown",
   "metadata": {},
   "source": [
    "<h3>Filter the text_sentiment_array to include only tweets with words in our TWEET_WORDS array</h3>\n",
    "<li>Also, throw away the text (i.e., return a DStream of Double)</li>\n",
    "<li>Save this in an DStream of Double <span style=\"color:blue\">sentiment_array</span></li>"
   ]
  },
  {
   "cell_type": "code",
   "execution_count": null,
   "metadata": {},
   "outputs": [],
   "source": [
    "//All imports\n",
    "import java.util.Properties \n",
    "import scala.collection.JavaConverters._\n",
    "import edu.stanford.nlp.ling.CoreAnnotations \n",
    "import edu.stanford.nlp.neural.rnn.RNNCoreAnnotations \n",
    "import edu.stanford.nlp.neural.rnn.RNNCoreAnnotations \n",
    "import edu.stanford.nlp.pipeline.{Annotation, StanfordCoreNLP}\n",
    "import edu.stanford.nlp.sentiment.SentimentCoreAnnotations\n",
    "import scala.collection.convert.wrapAll._\n",
    "import scala.collection.mutable.ArrayBuffer\n",
    "import org.apache.spark.sql.DataFrame\n",
    "\n",
    "//All parameters\n",
    "val BATCH_SIZE = 20\n",
    "val NUM_BATCHES = 20\n",
    "val WINDOW_LENGTH = 60\n",
    "val SLIDE_DURATION = 40\n",
    "\n",
    "//getSentiment function\n",
    "\n",
    "def getSentiment(text: String): Double = {\n",
    "    val props = new Properties()\n",
    "    props.setProperty(\"annotators\", \"tokenize, ssplit, pos, parse, sentiment\")\n",
    "    val pipeline: StanfordCoreNLP = new StanfordCoreNLP(props)\n",
    "    val annotation: Annotation = pipeline.process(text)\n",
    "    val sentences = annotation.get(classOf[CoreAnnotations.SentencesAnnotation])\n",
    "    val score = sentences.map { sent => \n",
    "        val tree = sent.get(classOf[SentimentCoreAnnotations.SentimentAnnotatedTree])\n",
    "        val score = RNNCoreAnnotations.getPredictedClass(tree)\n",
    "        score\n",
    "    }\n",
    "    score.sum/sentences.length.toFloat\n",
    "}\n",
    "\n",
    "//val words = Array(\"covid\",\"corona\",\"virus\")\n",
    "val words = Array(\"aapl\",\"apple\",\"mac\",\"ipad\",\"iphone\")\n",
    "\n",
    "//filterData function\n",
    "def filterData(text: String,words: Array[String]): Boolean = {\n",
    "    words.map(w => text.contains(w)).contains(true)\n",
    "}\n",
    "\n",
    "//Twitter API keys\n",
    "\n",
    "val CONSUMER_KEY = \"cQdzkPztrKNzWTG4ElD44NvHD\"\n",
    "val CONSUMER_SECRET = \"LNhuKZBJjT2ueUgn7PMvFybIcn0wLKrL6fRYvu7HVd0JLK9DpX\"\n",
    "val ACCESS_TOKEN = \"1290412589432705027-FjCoxf00DHMBhaW7Nb5vFKnfEtb0Pq\"\n",
    "val ACCESS_TOKEN_SECRET = \"I74DNUqivwoAW87BG9epihxTbWkK4CheXC4VOoYs5bZWi\"\n",
    "\n",
    "//Twitter API keys attached to twitter4j\n",
    "System.setProperty(\"twitter4j.oauth.consumerKey\",CONSUMER_KEY)\n",
    "System.setProperty(\"twitter4j.oauth.consumerSecret\",CONSUMER_SECRET)\n",
    "System.setProperty(\"twitter4j.oauth.accessToken\",ACCESS_TOKEN)\n",
    "System.setProperty(\"twitter4j.oauth.accessTokenSecret\",ACCESS_TOKEN_SECRET)\n",
    "\n",
    "\n",
    "//Streaming context and twitter stream set up\n",
    "import org.apache.spark.streaming.{Seconds, StreamingContext}\n",
    "import org.apache.spark.streaming.twitter._\n",
    "val ssc = new StreamingContext(sc,Seconds(BATCH_SIZE.toLong))\n",
    "\n",
    "val stream = TwitterUtils.createStream(ssc, None)\n",
    "val tweets = stream.filter(_.getLang == \"en\")\n",
    "\n",
    "\n",
    "//text_sentiment_pairs\n",
    "val text_sentiment_pairs = tweets.map(t => (t.getText, getSentiment(t.getText)))\n",
    "\n",
    "\n",
    "//sentiment_array\n",
    "val sentiment_array = text_sentiment_pairs.filter(p=>filterData(p._1,words)).map(l=>l._2)\n",
    "\n"
   ]
  },
  {
   "cell_type": "markdown",
   "metadata": {},
   "source": [
    "<h3>sentiment_window</h3>\n",
    "<li>Create a window of length WINDOW_DURATION and slide SLIDE_DURATION</li>\n",
    "<li>Note that you can use reduceByWindow and countByWindow if you like to compute averages and, in that case, most of the remaining steps will be different for you</li>\n",
    "<li>I find this more straight forward</li>"
   ]
  },
  {
   "cell_type": "code",
   "execution_count": null,
   "metadata": {},
   "outputs": [],
   "source": [
    "//All imports\n",
    "import java.util.Properties \n",
    "import scala.collection.JavaConverters._\n",
    "import edu.stanford.nlp.ling.CoreAnnotations \n",
    "import edu.stanford.nlp.neural.rnn.RNNCoreAnnotations \n",
    "import edu.stanford.nlp.neural.rnn.RNNCoreAnnotations \n",
    "import edu.stanford.nlp.pipeline.{Annotation, StanfordCoreNLP}\n",
    "import edu.stanford.nlp.sentiment.SentimentCoreAnnotations\n",
    "import scala.collection.convert.wrapAll._\n",
    "import scala.collection.mutable.ArrayBuffer\n",
    "import org.apache.spark.sql.DataFrame\n",
    "\n",
    "//All parameters\n",
    "val BATCH_SIZE = 20\n",
    "val NUM_BATCHES = 20\n",
    "val WINDOW_LENGTH = 60\n",
    "val SLIDE_DURATION = 40\n",
    "\n",
    "//getSentiment function\n",
    "\n",
    "def getSentiment(text: String): Double = {\n",
    "    val props = new Properties()\n",
    "    props.setProperty(\"annotators\", \"tokenize, ssplit, pos, parse, sentiment\")\n",
    "    val pipeline: StanfordCoreNLP = new StanfordCoreNLP(props)\n",
    "    val annotation: Annotation = pipeline.process(text)\n",
    "    val sentences = annotation.get(classOf[CoreAnnotations.SentencesAnnotation])\n",
    "    val score = sentences.map { sent => \n",
    "        val tree = sent.get(classOf[SentimentCoreAnnotations.SentimentAnnotatedTree])\n",
    "        val score = RNNCoreAnnotations.getPredictedClass(tree)\n",
    "        score\n",
    "    }\n",
    "    score.sum/sentences.length.toFloat\n",
    "}\n",
    "\n",
    "//val words = Array(\"covid\",\"corona\",\"virus\")\n",
    "val words = Array(\"aapl\",\"apple\",\"mac\",\"ipad\",\"iphone\")\n",
    "\n",
    "//filterData function\n",
    "def filterData(text: String,words: Array[String]): Boolean = {\n",
    "    words.map(w => text.contains(w)).contains(true)\n",
    "}\n",
    "\n",
    "//Twitter API keys\n",
    "\n",
    "val CONSUMER_KEY = \"cQdzkPztrKNzWTG4ElD44NvHD\"\n",
    "val CONSUMER_SECRET = \"LNhuKZBJjT2ueUgn7PMvFybIcn0wLKrL6fRYvu7HVd0JLK9DpX\"\n",
    "val ACCESS_TOKEN = \"1290412589432705027-FjCoxf00DHMBhaW7Nb5vFKnfEtb0Pq\"\n",
    "val ACCESS_TOKEN_SECRET = \"I74DNUqivwoAW87BG9epihxTbWkK4CheXC4VOoYs5bZWi\"\n",
    "\n",
    "//Twitter API keys attached to twitter4j\n",
    "System.setProperty(\"twitter4j.oauth.consumerKey\",CONSUMER_KEY)\n",
    "System.setProperty(\"twitter4j.oauth.consumerSecret\",CONSUMER_SECRET)\n",
    "System.setProperty(\"twitter4j.oauth.accessToken\",ACCESS_TOKEN)\n",
    "System.setProperty(\"twitter4j.oauth.accessTokenSecret\",ACCESS_TOKEN_SECRET)\n",
    "\n",
    "\n",
    "//Streaming context and twitter stream set up\n",
    "import org.apache.spark.streaming.{Seconds, StreamingContext}\n",
    "import org.apache.spark.streaming.twitter._\n",
    "val ssc = new StreamingContext(sc,Seconds(BATCH_SIZE.toLong))\n",
    "\n",
    "val stream = TwitterUtils.createStream(ssc, None)\n",
    "val tweets = stream.filter(_.getLang == \"en\")\n",
    "\n",
    "\n",
    "//text_sentiment_pairs\n",
    "val text_sentiment_pairs = tweets.map(t => (t.getText, getSentiment(t.getText)))\n",
    "\n",
    "\n",
    "//sentiment_array\n",
    "val sentiment_array = text_sentiment_pairs.filter(p=>filterData(p._1,words)).map(l=>l._2)\n",
    "\n",
    "//Window definition\n",
    "val sentiment_window = sentiment_array.window(Seconds(WINDOW_LENGTH), Seconds(SLIDE_DURATION))\n",
    "\n",
    "\n"
   ]
  },
  {
   "cell_type": "markdown",
   "metadata": {},
   "source": [
    "<h3>Create and update an array that holds the moving average</h3>\n",
    "<li>for each window, we will report the average sentiment in that window (all tweet sentiments/number of tweets) - note that this is not exactly a moving average in time terms</li>\n",
    "<li>the main reason for doing this is that we may not get tweets in every window and then will have to deal with nans. Too complicated!</li>\n",
    "<li>The method below is:\n",
    "    <ul>\n",
    "        <li>sentiment_window contains the sentiment of each tweet in the window</li>\n",
    "        <li>using foreachRDD, and a function getAverages, calculate the average sentiment for that window</li>\n",
    "        <li>getAverage should calculate (timestamp, sentiment) pair for each window<li>\n",
    "        <li>and add this to the ArrayBuffer</li>\n",
    "    </ul>\n",
    "    <li>You also need to clean the timestamp. Convert it into a string, drop the \"ms\" from the end, and then drop everything other than last 7 digits</li>\n",
    "    <li>You might find the function <span style=\"color:blue\">takeRight</span> useful</li>\n",
    "    <li><b>Note</b>: Bear in mind that while DStream objects do not persist, Scala objects, RDDs, etc. do persist. Once the stream stops, these non-DStream objects are still accessible in your program</li>"
   ]
  },
  {
   "cell_type": "code",
   "execution_count": 2,
   "metadata": {
    "scrolled": false
   },
   "outputs": [
    {
     "data": {
      "text/plain": [
       "Intitializing Scala interpreter ..."
      ]
     },
     "metadata": {},
     "output_type": "display_data"
    },
    {
     "data": {
      "text/plain": [
       "Spark Web UI available at http://ziyangs-mbp.attlocal.net:4040\n",
       "SparkContext available as 'sc' (version = 2.4.6, master = local[*], app id = local-1597019585743)\n",
       "SparkSession available as 'spark'\n"
      ]
     },
     "metadata": {},
     "output_type": "display_data"
    },
    {
     "data": {
      "text/plain": [
       "import java.util.Properties\n",
       "import scala.collection.JavaConverters._\n",
       "import edu.stanford.nlp.ling.CoreAnnotations\n",
       "import edu.stanford.nlp.neural.rnn.RNNCoreAnnotations\n",
       "import edu.stanford.nlp.neural.rnn.RNNCoreAnnotations\n",
       "import edu.stanford.nlp.pipeline.{Annotation, StanfordCoreNLP}\n",
       "import edu.stanford.nlp.sentiment.SentimentCoreAnnotations\n",
       "import scala.collection.convert.wrapAll._\n",
       "import scala.collection.mutable.ArrayBuffer\n",
       "import org.apache.spark.sql.DataFrame\n",
       "BATCH_SIZE: Int = 20\n",
       "NUM_BATCHES: Int = 20\n",
       "WINDOW_LENGTH: Int = 60\n",
       "SLIDE_DURATION: Int = 40\n",
       "getSentiment: (text: String)Double\n",
       "words: Array[String] = Array(aapl, apple, mac, ipad, iphone)\n",
       "filterData: (text: String, words: Array[String])Boolean\n",
       "CONSUMER_KEY: String = cQdzkPztrKNzWTG4ElD44NvHD\n",
       "CONSUMER_SECRET: String = LNhuKZBJjT..."
      ]
     },
     "execution_count": 2,
     "metadata": {},
     "output_type": "execute_result"
    },
    {
     "name": "stdout",
     "output_type": "stream",
     "text": [
      "ArrayBuffer((1597019640000,1.6666666269302368))ArrayBuffer((1597019640000,1.6666666269302368), (1597019680000,1.3333333134651184))ArrayBuffer((1597019640000,1.6666666269302368), (1597019680000,1.3333333134651184), (1597019720000,1.4583333283662796))ArrayBuffer((1597019640000,1.6666666269302368), (1597019680000,1.3333333134651184), (1597019720000,1.4583333283662796), (1597019760000,1.6))ArrayBuffer((1597019640000,1.6666666269302368), (1597019680000,1.3333333134651184), (1597019720000,1.4583333283662796), (1597019760000,1.6), (1597019840000,1.5))"
     ]
    }
   ],
   "source": [
    "//All imports\n",
    "import java.util.Properties \n",
    "import scala.collection.JavaConverters._\n",
    "import edu.stanford.nlp.ling.CoreAnnotations \n",
    "import edu.stanford.nlp.neural.rnn.RNNCoreAnnotations \n",
    "import edu.stanford.nlp.neural.rnn.RNNCoreAnnotations \n",
    "import edu.stanford.nlp.pipeline.{Annotation, StanfordCoreNLP}\n",
    "import edu.stanford.nlp.sentiment.SentimentCoreAnnotations\n",
    "import scala.collection.convert.wrapAll._\n",
    "import scala.collection.mutable.ArrayBuffer\n",
    "import org.apache.spark.sql.DataFrame\n",
    "\n",
    "//All parameters\n",
    "val BATCH_SIZE = 60           // 1 min per microbatch\n",
    "val NUM_BATCHES = 20          // 20 min for analysis\n",
    "val WINDOW_LENGTH = 300       // 5 min per window\n",
    "val SLIDE_DURATION = 60       // window slides after 1 min\n",
    "\n",
    "//getSentiment function\n",
    "\n",
    "def getSentiment(text: String): Double = {\n",
    "    val props = new Properties()\n",
    "    props.setProperty(\"annotators\", \"tokenize, ssplit, pos, parse, sentiment\")\n",
    "    val pipeline: StanfordCoreNLP = new StanfordCoreNLP(props)\n",
    "    val annotation: Annotation = pipeline.process(text)\n",
    "    val sentences = annotation.get(classOf[CoreAnnotations.SentencesAnnotation])\n",
    "    val score = sentences.map { sent => \n",
    "        val tree = sent.get(classOf[SentimentCoreAnnotations.SentimentAnnotatedTree])\n",
    "        val score = RNNCoreAnnotations.getPredictedClass(tree)\n",
    "        score\n",
    "    }\n",
    "    score.sum/sentences.length.toFloat\n",
    "}\n",
    "\n",
    "//val words = Array(\"covid\",\"corona\",\"virus\")\n",
    "val words = Array(\"aapl\",\"apple\",\"mac\",\"ipad\",\"iphone\")\n",
    "\n",
    "//filterData function\n",
    "def filterData(text: String,words: Array[String]): Boolean = {\n",
    "    words.map(w => text.contains(w)).contains(true)\n",
    "}\n",
    "\n",
    "//Twitter API keys\n",
    "\n",
    "val CONSUMER_KEY = \"cQdzkPztrKNzWTG4ElD44NvHD\"\n",
    "val CONSUMER_SECRET = \"LNhuKZBJjT2ueUgn7PMvFybIcn0wLKrL6fRYvu7HVd0JLK9DpX\"\n",
    "val ACCESS_TOKEN = \"1290412589432705027-FjCoxf00DHMBhaW7Nb5vFKnfEtb0Pq\"\n",
    "val ACCESS_TOKEN_SECRET = \"I74DNUqivwoAW87BG9epihxTbWkK4CheXC4VOoYs5bZWi\"\n",
    "\n",
    "//Twitter API keys attached to twitter4j\n",
    "System.setProperty(\"twitter4j.oauth.consumerKey\",CONSUMER_KEY)\n",
    "System.setProperty(\"twitter4j.oauth.consumerSecret\",CONSUMER_SECRET)\n",
    "System.setProperty(\"twitter4j.oauth.accessToken\",ACCESS_TOKEN)\n",
    "System.setProperty(\"twitter4j.oauth.accessTokenSecret\",ACCESS_TOKEN_SECRET)\n",
    "\n",
    "\n",
    "//Streaming context and twitter stream set up\n",
    "import org.apache.spark.streaming.{Seconds, StreamingContext}\n",
    "import org.apache.spark.streaming.twitter._\n",
    "val ssc = new StreamingContext(sc,Seconds(BATCH_SIZE.toLong))\n",
    "\n",
    "val stream = TwitterUtils.createStream(ssc, None)\n",
    "val tweets = stream.filter(_.getLang == \"en\")\n",
    "\n",
    "\n",
    "//text_sentiment_pairs\n",
    "val text_sentiment_pairs = tweets.map(t => (t.getText, getSentiment(t.getText)))\n",
    "\n",
    "\n",
    "//sentiment_array\n",
    "val sentiment_array = text_sentiment_pairs.filter(p=>filterData(p._1,words)).map(l=>l._2)\n",
    "\n",
    "\n",
    "//Window definition\n",
    "val sentiment_window = sentiment_array.window(Seconds(WINDOW_LENGTH), Seconds(SLIDE_DURATION))\n",
    "\n",
    "\n",
    "//FUNCTIONALITY FOR WINDOW AVERAGES\n",
    "//An ArrayBuffer to hold each (timestamp, average) pair\n",
    "val all_averages = ArrayBuffer[(String, Double)]()\n",
    "\n",
    "//getAverage function\n",
    "//args: sentiment array, array buffer, timestamp as string\n",
    "def getAverage(sentiments: Array[Double], aa: ArrayBuffer[(String,Double)],t: String) = {\n",
    "    val avg = sentiments.reduce((x, y) => x+y).toDouble/sentiments.size\n",
    "    val time = t.replaceAll(t.takeRight(3), \"\")\n",
    "    aa += ((time, avg))\n",
    "    print(all_averages)\n",
    "}\n",
    "\n",
    "//compute average for a window and add it, timestamped to all_averages\n",
    "sentiment_window.foreachRDD((r,t) => {\n",
    "    getAverage(r.collect, all_averages, t.toString)\n",
    "}\n",
    "                           )\n",
    "ssc.start()\n",
    "// Test output"
   ]
  },
  {
   "cell_type": "code",
   "execution_count": 3,
   "metadata": {},
   "outputs": [],
   "source": [
    "ssc.stop(false)\n",
    "// Stopped the stream after getting a few of ArrayBuffer's \n",
    "// containing the timestamps and average sentiment scores"
   ]
  },
  {
   "cell_type": "markdown",
   "metadata": {},
   "source": [
    "<h1>Create the chart</h1>\n",
    "<li>(Lots done for you. Fill in the blanks below</li>\n",
    "<li>We will create an xy graph</li>\n",
    "<li><a href=\"http://www.jfree.org/jfreechart/api/javadoc/org/jfree/data/xy/XYSeries.html\">http://www.jfree.org/jfreechart/api/javadoc/org/jfree/data/xy/XYSeries.html</a></li>\n",
    "<li>x-axis contains the time stamp (last 7 digits) of the window. You will need to convert this into an Int (x-axis is scaled)</li>\n",
    "<li>y-axis contains the average sentiment of the window</li>"
   ]
  },
  {
   "cell_type": "code",
   "execution_count": 2,
   "metadata": {},
   "outputs": [
    {
     "data": {
      "text/plain": [
       "Intitializing Scala interpreter ..."
      ]
     },
     "metadata": {},
     "output_type": "display_data"
    },
    {
     "data": {
      "text/plain": [
       "Spark Web UI available at http://ziyangs-mbp.attlocal.net:4040\n",
       "SparkContext available as 'sc' (version = 2.4.6, master = local[*], app id = local-1597022382092)\n",
       "SparkSession available as 'spark'\n"
      ]
     },
     "metadata": {},
     "output_type": "display_data"
    },
    {
     "name": "stdout",
     "output_type": "stream",
     "text": [
      "ArrayBuffer((1597022460000,1.1666666666666667))ArrayBuffer((1597022460000,1.1666666666666667), (1597022520000,1.3148148192299738))ArrayBuffer((1597022460000,1.1666666666666667), (1597022520000,1.3148148192299738), (1597022580000,1.3194444477558136))ArrayBuffer((1597022460000,1.1666666666666667), (1597022520000,1.3148148192299738), (1597022580000,1.3194444477558136), (1597022640000,1.2708333358168602))ArrayBuffer((1597022460000,1.1666666666666667), (1597022520000,1.3148148192299738), (1597022580000,1.3194444477558136), (1597022640000,1.2708333358168602), (1597022700000,1.2962962985038757))ArrayBuffer((1597022460000,1.1666666666666667), (1597022520000,1.3148148192299738), (1597022580000,1.3194444477558136), (1597022640000,1.2708333358168602), (1597022700000,1.2962962985038757), (1597022760000,1.3016666650772095))ArrayBuffer((1597022460000,1.1666666666666667), (1597022520000,1.3148148192299738), (1597022580000,1.3194444477558136), (1597022640000,1.2708333358168602), (1597022700000,1.2962962985038757), (1597022760000,1.3016666650772095), (1597022820000,1.3562499955296516))ArrayBuffer((1597022460000,1.1666666666666667), (1597022520000,1.3148148192299738), (1597022580000,1.3194444477558136), (1597022640000,1.2708333358168602), (1597022700000,1.2962962985038757), (1597022760000,1.3016666650772095), (1597022820000,1.3562499955296516), (1597022880000,1.304545451294292))ArrayBuffer((1597022460000,1.1666666666666667), (1597022520000,1.3148148192299738), (1597022580000,1.3194444477558136), (1597022640000,1.2708333358168602), (1597022700000,1.2962962985038757), (1597022760000,1.3016666650772095), (1597022820000,1.3562499955296516), (1597022880000,1.304545451294292), (1597022940000,1.3153846126336317))ArrayBuffer((1597022460000,1.1666666666666667), (1597022520000,1.3148148192299738), (1597022580000,1.3194444477558136), (1597022640000,1.2708333358168602), (1597022700000,1.2962962985038757), (1597022760000,1.3016666650772095), (1597022820000,1.3562499955296516), (1597022880000,1.304545451294292), (1597022940000,1.3153846126336317), (1597023000000,1.283870966203751))ArrayBuffer((1597022460000,1.1666666666666667), (1597022520000,1.3148148192299738), (1597022580000,1.3194444477558136), (1597022640000,1.2708333358168602), (1597022700000,1.2962962985038757), (1597022760000,1.3016666650772095), (1597022820000,1.3562499955296516), (1597022880000,1.304545451294292), (1597022940000,1.3153846126336317), (1597023000000,1.283870966203751), (1597023060000,1.3204301095777942))ArrayBuffer((1597022460000,1.1666666666666667), (1597022520000,1.3148148192299738), (1597022580000,1.3194444477558136), (1597022640000,1.2708333358168602), (1597022700000,1.2962962985038757), (1597022760000,1.3016666650772095), (1597022820000,1.3562499955296516), (1597022880000,1.304545451294292), (1597022940000,1.3153846126336317), (1597023000000,1.283870966203751), (1597023060000,1.3204301095777942), (1597023120000,1.2552380970546178))ArrayBuffer((1597022460000,1.1666666666666667), (1597022520000,1.3148148192299738), (1597022580000,1.3194444477558136), (1597022640000,1.2708333358168602), (1597022700000,1.2962962985038757), (1597022760000,1.3016666650772095), (1597022820000,1.3562499955296516), (1597022880000,1.304545451294292), (1597022940000,1.3153846126336317), (1597023000000,1.283870966203751), (1597023060000,1.3204301095777942), (1597023120000,1.2552380970546178), (1597023180000,1.3365591418358587))ArrayBuffer((1597022460000,1.1666666666666667), (1597022520000,1.3148148192299738), (1597022580000,1.3194444477558136), (1597022640000,1.2708333358168602), (1597022700000,1.2962962985038757), (1597022760000,1.3016666650772095), (1597022820000,1.3562499955296516), (1597022880000,1.304545451294292), (1597022940000,1.3153846126336317), (1597023000000,1.283870966203751), (1597023060000,1.3204301095777942), (1597023120000,1.2552380970546178), (1597023180000,1.3365591418358587), (1597023240000,1.36666666943094))ArrayBuffer((1597022460000,1.1666666666666667), (1597022520000,1.3148148192299738), (1597022580000,1.3194444477558136), (1597022640000,1.2708333358168602), (1597022700000,1.2962962985038757), (1597022760000,1.3016666650772095), (1597022820000,1.3562499955296516), (1597022880000,1.304545451294292), (1597022940000,1.3153846126336317), (1597023000000,1.283870966203751), (1597023060000,1.3204301095777942), (1597023120000,1.2552380970546178), (1597023180000,1.3365591418358587), (1597023240000,1.36666666943094), (1597023300000,1.3653846153846154))ArrayBuffer((1597022460000,1.1666666666666667), (1597022520000,1.3148148192299738), (1597022580000,1.3194444477558136), (1597022640000,1.2708333358168602), (1597022700000,1.2962962985038757), (1597022760000,1.3016666650772095), (1597022820000,1.3562499955296516), (1597022880000,1.304545451294292), (1597022940000,1.3153846126336317), (1597023000000,1.283870966203751), (1597023060000,1.3204301095777942), (1597023120000,1.2552380970546178), (1597023180000,1.3365591418358587), (1597023240000,1.36666666943094), (1597023300000,1.3653846153846154), (1597023360000,1.3484848466786472))ArrayBuffer((1597022460000,1.1666666666666667), (1597022520000,1.3148148192299738), (1597022580000,1.3194444477558136), (1597022640000,1.2708333358168602), (1597022700000,1.2962962985038757), (1597022760000,1.3016666650772095), (1597022820000,1.3562499955296516), (1597022880000,1.304545451294292), (1597022940000,1.3153846126336317), (1597023000000,1.283870966203751), (1597023060000,1.3204301095777942), (1597023120000,1.2552380970546178), (1597023180000,1.3365591418358587), (1597023240000,1.36666666943094), (1597023300000,1.3653846153846154), (1597023360000,1.3484848466786472), (1597023420000,1.4601449240808901))ArrayBuffer((1597022460000,1.1666666666666667), (1597022520000,1.3148148192299738), (1597022580000,1.3194444477558136), (1597022640000,1.2708333358168602), (1597022700000,1.2962962985038757), (1597022760000,1.3016666650772095), (1597022820000,1.3562499955296516), (1597022880000,1.304545451294292), (1597022940000,1.3153846126336317), (1597023000000,1.283870966203751), (1597023060000,1.3204301095777942), (1597023120000,1.2552380970546178), (1597023180000,1.3365591418358587), (1597023240000,1.36666666943094), (1597023300000,1.3653846153846154), (1597023360000,1.3484848466786472), (1597023420000,1.4601449240808901), (1597023480000,1.4810606024482034))ArrayBuffer((1597022460000,1.1666666666666667), (1597022520000,1.3148148192299738), (1597022580000,1.3194444477558136), (1597022640000,1.2708333358168602), (1597022700000,1.2962962985038757), (1597022760000,1.3016666650772095), (1597022820000,1.3562499955296516), (1597022880000,1.304545451294292), (1597022940000,1.3153846126336317), (1597023000000,1.283870966203751), (1597023060000,1.3204301095777942), (1597023120000,1.2552380970546178), (1597023180000,1.3365591418358587), (1597023240000,1.36666666943094), (1597023300000,1.3653846153846154), (1597023360000,1.3484848466786472), (1597023420000,1.4601449240808901), (1597023480000,1.4810606024482034), (1597023540000,1.445512817456172))ArrayBuffer((1597022460000,1.1666666666666667), (1597022520000,1.3148148192299738), (1597022580000,1.3194444477558136), (1597022640000,1.2708333358168602), (1597022700000,1.2962962985038757), (1597022760000,1.3016666650772095), (1597022820000,1.3562499955296516), (1597022880000,1.304545451294292), (1597022940000,1.3153846126336317), (1597023000000,1.283870966203751), (1597023060000,1.3204301095777942), (1597023120000,1.2552380970546178), (1597023180000,1.3365591418358587), (1597023240000,1.36666666943094), (1597023300000,1.3653846153846154), (1597023360000,1.3484848466786472), (1597023420000,1.4601449240808901), (1597023480000,1.4810606024482034), (1597023540000,1.445512817456172), (1597023600000,1.574561401417381))ArrayBuffer((1597022460000,1.1666666666666667), (1597022520000,1.3148148192299738), (1597022580000,1.3194444477558136), (1597022640000,1.2708333358168602), (1597022700000,1.2962962985038757), (1597022760000,1.3016666650772095), (1597022820000,1.3562499955296516), (1597022880000,1.304545451294292), (1597022940000,1.3153846126336317), (1597023000000,1.283870966203751), (1597023060000,1.3204301095777942), (1597023120000,1.2552380970546178), (1597023180000,1.3365591418358587), (1597023240000,1.36666666943094), (1597023300000,1.3653846153846154), (1597023360000,1.3484848466786472), (1597023420000,1.4601449240808901), (1597023480000,1.4810606024482034), (1597023540000,1.445512817456172), (1597023600000,1.574561401417381), (1597023660000,1.6295238065719604))"
     ]
    },
    {
     "data": {
      "text/plain": [
       "import java.util.Properties\n",
       "import scala.collection.JavaConverters._\n",
       "import edu.stanford.nlp.ling.CoreAnnotations\n",
       "import edu.stanford.nlp.neural.rnn.RNNCoreAnnotations\n",
       "import edu.stanford.nlp.neural.rnn.RNNCoreAnnotations\n",
       "import edu.stanford.nlp.pipeline.{Annotation, StanfordCoreNLP}\n",
       "import edu.stanford.nlp.sentiment.SentimentCoreAnnotations\n",
       "import scala.collection.convert.wrapAll._\n",
       "import scala.collection.mutable.ArrayBuffer\n",
       "import org.apache.spark.sql.DataFrame\n",
       "import java.awt.Color\n",
       "import org.apache.log4j.{Level, Logger}\n",
       "import org.apache.spark.sql.SparkSession\n",
       "import org.jfree.chart.plot.{PlotOrientation, XYPlot}\n",
       "import org.jfree.chart.{ChartFactory, ChartFrame, JFreeChart, ChartUtilities}\n",
       "import org.jfree.data.xy.{XYSeries, XYSeriesCollection}\n",
       "BATCH_SIZE: Int = 60\n",
       "NUM_BATCHES: Int ..."
      ]
     },
     "execution_count": 2,
     "metadata": {},
     "output_type": "execute_result"
    }
   ],
   "source": [
    "//All imports\n",
    "import java.util.Properties \n",
    "import scala.collection.JavaConverters._\n",
    "import edu.stanford.nlp.ling.CoreAnnotations \n",
    "import edu.stanford.nlp.neural.rnn.RNNCoreAnnotations \n",
    "import edu.stanford.nlp.neural.rnn.RNNCoreAnnotations \n",
    "import edu.stanford.nlp.pipeline.{Annotation, StanfordCoreNLP}\n",
    "import edu.stanford.nlp.sentiment.SentimentCoreAnnotations\n",
    "import scala.collection.convert.wrapAll._\n",
    "import scala.collection.mutable.ArrayBuffer\n",
    "import org.apache.spark.sql.DataFrame\n",
    "\n",
    "//JFreeChart imports\n",
    "import java.awt.Color \n",
    "import org.apache.log4j.{Level, Logger} \n",
    "import org.apache.spark.sql.SparkSession \n",
    "import org.jfree.chart.plot.{PlotOrientation, XYPlot} \n",
    "import org.jfree.chart.{ChartFactory, ChartFrame, JFreeChart, ChartUtilities} \n",
    "import org.jfree.data.xy.{XYSeries, XYSeriesCollection} \n",
    "\n",
    "\n",
    "\n",
    "//All parameters\n",
    "val BATCH_SIZE = 60           // 1 min per microbatch\n",
    "val NUM_BATCHES = 20          // 20 min for analysis\n",
    "val WINDOW_LENGTH = 300       // 5 min per window\n",
    "val SLIDE_DURATION = 60       // window slides after 1 min\n",
    "\n",
    "//getSentiment function\n",
    "\n",
    "def getSentiment(text: String): Double = {\n",
    "    val props = new Properties()\n",
    "    props.setProperty(\"annotators\", \"tokenize, ssplit, pos, parse, sentiment\")\n",
    "    val pipeline: StanfordCoreNLP = new StanfordCoreNLP(props)\n",
    "    val annotation: Annotation = pipeline.process(text)\n",
    "    val sentences = annotation.get(classOf[CoreAnnotations.SentencesAnnotation])\n",
    "    val score = sentences.map { sent => \n",
    "        val tree = sent.get(classOf[SentimentCoreAnnotations.SentimentAnnotatedTree])\n",
    "        val score = RNNCoreAnnotations.getPredictedClass(tree)\n",
    "        score\n",
    "    }\n",
    "    score.sum/sentences.length.toFloat\n",
    "}\n",
    "\n",
    "//val words = Array(\"covid\",\"corona\",\"virus\")\n",
    "val words = Array(\"aapl\",\"apple\",\"mac\",\"ipad\",\"iphone\")\n",
    "\n",
    "//filterData function\n",
    "def filterData(text: String,words: Array[String]): Boolean = {\n",
    "    words.map(w => text.contains(w)).contains(true)\n",
    "}\n",
    "\n",
    "//Twitter API keys\n",
    "\n",
    "val CONSUMER_KEY = \"cQdzkPztrKNzWTG4ElD44NvHD\"\n",
    "val CONSUMER_SECRET = \"LNhuKZBJjT2ueUgn7PMvFybIcn0wLKrL6fRYvu7HVd0JLK9DpX\"\n",
    "val ACCESS_TOKEN = \"1290412589432705027-FjCoxf00DHMBhaW7Nb5vFKnfEtb0Pq\"\n",
    "val ACCESS_TOKEN_SECRET = \"I74DNUqivwoAW87BG9epihxTbWkK4CheXC4VOoYs5bZWi\"\n",
    "\n",
    "//Twitter API keys attached to twitter4j\n",
    "System.setProperty(\"twitter4j.oauth.consumerKey\",CONSUMER_KEY)\n",
    "System.setProperty(\"twitter4j.oauth.consumerSecret\",CONSUMER_SECRET)\n",
    "System.setProperty(\"twitter4j.oauth.accessToken\",ACCESS_TOKEN)\n",
    "System.setProperty(\"twitter4j.oauth.accessTokenSecret\",ACCESS_TOKEN_SECRET)\n",
    "\n",
    "\n",
    "//Streaming context and twitter stream set up\n",
    "import org.apache.spark.streaming.{Seconds, StreamingContext}\n",
    "import org.apache.spark.streaming.twitter._\n",
    "val ssc = new StreamingContext(sc,Seconds(BATCH_SIZE.toLong))\n",
    "\n",
    "val stream = TwitterUtils.createStream(ssc, None)\n",
    "val tweets = stream.filter(_.getLang == \"en\")\n",
    "\n",
    "\n",
    "//text_sentiment_pairs\n",
    "val text_sentiment_pairs = tweets.map(t => (t.getText, getSentiment(t.getText)))\n",
    "\n",
    "\n",
    "//sentiment_array\n",
    "val sentiment_array = text_sentiment_pairs.filter(p=>filterData(p._1,words)).map(l=>l._2)\n",
    "\n",
    "\n",
    "//Window definition\n",
    "val sentiment_window = sentiment_array.window(Seconds(WINDOW_LENGTH), Seconds(SLIDE_DURATION))\n",
    "\n",
    "\n",
    "//FUNCTIONALITY FOR WINDOW AVERAGES\n",
    "//An ArrayBuffer to hold each (timestamp, average) pair\n",
    "val all_averages = ArrayBuffer[(String, Double)]()\n",
    "\n",
    "//getAverage function\n",
    "//args: sentiment array, array buffer, timestamp as string\n",
    "def getAverage(sentiments: Array[Double], aa: ArrayBuffer[(String,Double)],t: String) = {\n",
    "    val avg = sentiments.reduce((x, y) => x+y).toDouble/sentiments.size\n",
    "    val time = t.replaceAll(t.takeRight(3), \"\")\n",
    "    aa += ((time, avg))\n",
    "    print(all_averages)\n",
    "}\n",
    "\n",
    "//compute average for a window and add it, timestamped to all_averages\n",
    "sentiment_window.foreachRDD((r,t) => {\n",
    "    getAverage(r.collect, all_averages, t.toString)\n",
    "}\n",
    "                           )\n",
    "\n",
    "\n",
    "//Create a new XYSeries object that holds the data for the graph (done for you)\n",
    "//And a dataset that contains this XYSeries object\n",
    "//The goal is to update xy whenever there is a new average in all_averages\n",
    "\n",
    "val xy = new XYSeries(\"\") \n",
    "val dataset = new XYSeriesCollection(xy)\n",
    "\n",
    "//Creates the chart object (done for you)\n",
    "val chart = ChartFactory.createXYLineChart( \n",
    "  \"Sentiment Chart\",  // chart title \n",
    "  \"Time\",               // x axis label \n",
    "  \"Sentiment\",                   // y axis label \n",
    "  dataset,                   // data \n",
    "  PlotOrientation.VERTICAL, \n",
    "  false,                    // include legend \n",
    "  true,                     // tooltips \n",
    "  false                     // urls \n",
    ")\n",
    "\n",
    "//From the chart, grab the blot so that we can configure formatting info (done for you)\n",
    "val plot = chart.getXYPlot() \n",
    "\n",
    "def configurePlot(plot: XYPlot): Unit = { \n",
    "  plot.setBackgroundPaint(Color.WHITE) \n",
    "  plot.setDomainGridlinePaint(Color.BLACK) \n",
    "  plot.setRangeGridlinePaint(Color.BLACK) \n",
    "  plot.setOutlineVisible(false) \n",
    "} \n",
    "\n",
    "//A function that shows the chart. This, when called, will pop up the chartin a separate window.// \n",
    "//I couldn't get it to work inline\n",
    "//SORRY!\n",
    "def show(chart: JFreeChart) { \n",
    "  val frame = new ChartFrame(\"plot\", chart) \n",
    "  frame.pack() \n",
    "  frame.setVisible(true) \n",
    "}\n",
    "\n",
    "//Call the plot configuration function\n",
    "//Call the show chart function (now it will actually pop up)\n",
    "configurePlot(plot) \n",
    "show(chart)\n",
    "\n",
    "//This is the part you need to do\n",
    "//Start the stream\n",
    "//Inside a while loop, sleep for a bit\n",
    "//then check if there are new elements in all_averages\n",
    "//if there are new elements, add them to xy using addOrUpdate (see documentation linked above)\n",
    "//you can do this in many ways but easy way is to keep a record of the current length\n",
    "//check if the new length of the array is greater than the recorded length\n",
    "//if it is, add the elements in all_averages.length - previous_length to xy\n",
    "\n",
    "//Use addOrUpdate (not add) so that the graph updates\n",
    "//Use Thread.sleep(n) to sleep n-seconds (10000, or 10 seconds should work well)\n",
    "\n",
    "//The while should run as long as the length of all_averages is less than NUM_BATCHES\n",
    "//Call ssc.stop(false) after the while loop\n",
    "\n",
    "//Enjoy!\n",
    "\n",
    "ssc.start()\n",
    "\n",
    "var leng  = 0\n",
    "while(all_averages.length <= NUM_BATCHES){\n",
    "    Thread.sleep(10)\n",
    "    if (all_averages.length > leng){\n",
    "        val new_elems = all_averages.takeRight(all_averages.length - leng)\n",
    "        new_elems.map(x => xy.addOrUpdate(x._1.toDouble, x._2))\n",
    "        leng = all_averages.length\n",
    "    }\n",
    "}\n",
    "\n",
    "ssc.stop(false)\n",
    "\n",
    "// Output: ArrayBuffer's\n",
    "// The final ArrayBuffer contains all the timestamps and average sentiment score at each timestamp."
   ]
  },
  {
   "cell_type": "markdown",
   "metadata": {},
   "source": [
    "### Showing the plot:"
   ]
  },
  {
   "cell_type": "code",
   "execution_count": 6,
   "metadata": {},
   "outputs": [
    {
     "data": {
      "image/png": "[encoded data removed]",
      "text/plain": [
       "<IPython.core.display.Image object>"
      ]
     },
     "execution_count": 6,
     "metadata": {},
     "output_type": "execute_result"
    }
   ],
   "source": [
    "%%python\n",
    "import matplotlib\n",
    "matplotlib.use(\"agg\")\n",
    "from IPython.display import Image\n",
    "with open(\"Twitter_Streaming_output.png\") as fo:\n",
    "    retval = Image(filename=fo.name)"
   ]
  },
  {
   "cell_type": "code",
   "execution_count": null,
   "metadata": {},
   "outputs": [],
   "source": []
  }
 ],
 "metadata": {
  "kernelspec": {
   "display_name": "spylon-kernel",
   "language": "scala",
   "name": "spylon-kernel"
  },
  "language_info": {
   "codemirror_mode": "text/x-scala",
   "file_extension": ".scala",
   "help_links": [
    {
     "text": "MetaKernel Magics",
     "url": "https://metakernel.readthedocs.io/en/latest/source/README.html"
    }
   ],
   "mimetype": "text/x-scala",
   "name": "scala",
   "pygments_lexer": "scala",
   "version": "0.4.1"
  }
 },
 "nbformat": 4,
 "nbformat_minor": 2
}

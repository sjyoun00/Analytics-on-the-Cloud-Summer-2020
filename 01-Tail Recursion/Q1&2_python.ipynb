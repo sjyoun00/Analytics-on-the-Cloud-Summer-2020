{
 "cells": [
  {
   "cell_type": "markdown",
   "metadata": {},
   "source": [
    "### Problem 1"
   ]
  },
  {
   "cell_type": "markdown",
   "metadata": {},
   "source": [
    "Write a tail recursive function length that returns the total length of all the strings contained in a list of strings."
   ]
  },
  {
   "cell_type": "markdown",
   "metadata": {},
   "source": [
    "For example: \n",
    "\n",
    "x=[\"John\",\"Jill\",\"Billy\"],\n",
    "\n",
    "length(x) should return 13.\n",
    "\n",
    "\n",
    "If x=[],\n",
    "\n",
    "length(x) should return 0."
   ]
  },
  {
   "cell_type": "code",
   "execution_count": 1,
   "metadata": {},
   "outputs": [],
   "source": [
    "def length(i):\n",
    "    l = 0\n",
    "    def tail_length(i,l):\n",
    "        if len(i) == 0:\n",
    "            return l\n",
    "        else:\n",
    "            return tail_length(i[0:-1], len(i[-1]) + l)\n",
    "    return tail_length(i,l)"
   ]
  },
  {
   "cell_type": "code",
   "execution_count": 2,
   "metadata": {},
   "outputs": [],
   "source": [
    "x=[\"JohnOliver\",\"Jill\",\"Billy\"]"
   ]
  },
  {
   "cell_type": "code",
   "execution_count": 3,
   "metadata": {},
   "outputs": [
    {
     "data": {
      "text/plain": [
       "19"
      ]
     },
     "execution_count": 3,
     "metadata": {},
     "output_type": "execute_result"
    }
   ],
   "source": [
    "length(x)"
   ]
  },
  {
   "cell_type": "code",
   "execution_count": 4,
   "metadata": {},
   "outputs": [
    {
     "data": {
      "text/plain": [
       "0"
      ]
     },
     "execution_count": 4,
     "metadata": {},
     "output_type": "execute_result"
    }
   ],
   "source": [
    "length([])"
   ]
  },
  {
   "cell_type": "markdown",
   "metadata": {},
   "source": [
    "### Problem 2"
   ]
  },
  {
   "cell_type": "markdown",
   "metadata": {},
   "source": [
    "A LinkedList object is defined in python as follows:\n",
    "\n",
    "\n",
    "class LinkedList: \n",
    "    \n",
    "    empty = ()\n",
    "    \n",
    "    def __init__(self, first, rest=empty):\n",
    "    \n",
    "        assert rest is LinkedList.empty or isinstance(rest, LinkedList) \n",
    "        self.first = first\n",
    "        self.rest = rest\n"
   ]
  },
  {
   "cell_type": "markdown",
   "metadata": {},
   "source": [
    "Add the following functions to this object definition <b>(each function must be tail recursive)</b>:\n",
    "\n",
    "def get(self, i):\n",
    "\n",
    "    #returns \n",
    "    the i-th item in the linked list \n",
    "    or \n",
    "    None if there is no item at that index\n",
    "\n",
    "def get_sublist(self,i):\n",
    "    \n",
    "    #returns \n",
    "    the sublist at the item corresponding to i \n",
    "    or \n",
    "    None if there is no item at that index\n",
    "\n",
    "def length(self,l=0):\n",
    "    \n",
    "    #returns \n",
    "    the length of the list at item I"
   ]
  },
  {
   "cell_type": "markdown",
   "metadata": {},
   "source": [
    "For example:\n",
    "\n",
    "    l = LinkedList(1,(LinkedList(2, LinkedList(3,LinkedList(4))))) \n",
    "    print(l.get_sublist(1).first) #Should print 2\n",
    "    print(l.length()) #Should print 4\n",
    "    print(l.get(2)) #Should print 3\n",
    "    print(l.get(5)) #Should return None \n",
    "    print(l.get_sublist(5)) #should return None\n"
   ]
  },
  {
   "cell_type": "code",
   "execution_count": 5,
   "metadata": {},
   "outputs": [],
   "source": [
    "class LinkedList:\n",
    "    empty = ()\n",
    "    def __init__(self, first, rest=empty):\n",
    "        assert rest is LinkedList.empty or isinstance(rest, LinkedList)\n",
    "        self.first = first\n",
    "        self.rest = rest\n",
    "        \n",
    "    def get(self, i):\n",
    "        index = 0\n",
    "        def tail_get(self,i,index):\n",
    "            if i == index:\n",
    "                return self.first\n",
    "            elif i > index and self.rest != ():\n",
    "                return tail_get(self.rest,i,index+1)\n",
    "            else:\n",
    "                return None\n",
    "        return tail_get(self,i,index)\n",
    "        \n",
    "    def get_sublist(self,i):\n",
    "        index = 0\n",
    "        def tail_sub(self,i,index):\n",
    "            if i == index:\n",
    "                return self\n",
    "            elif i > index:\n",
    "                if self.rest != ():\n",
    "                    return tail_sub(self.rest,i,index+1)\n",
    "                else:\n",
    "                    return None\n",
    "            else:\n",
    "                return None\n",
    "        return tail_sub(self,i,index)\n",
    "        \n",
    "    def length(self,l=0):\n",
    "        total_l = 0\n",
    "        index = 0\n",
    "        def tail_length(self,l,index,total_l):\n",
    "            if index<l:\n",
    "                if self.rest!=():\n",
    "                    return tail_length(self.rest,l,index+1,total_l)\n",
    "                else:\n",
    "                    return None\n",
    "            elif self.rest!=():\n",
    "                return tail_length(self.rest,l,index,total_l+1)\n",
    "            else:\n",
    "                return total_l+1\n",
    "        return tail_length(self,l,index,total_l)"
   ]
  },
  {
   "cell_type": "code",
   "execution_count": 6,
   "metadata": {},
   "outputs": [
    {
     "name": "stdout",
     "output_type": "stream",
     "text": [
      "2\n",
      "4\n",
      "3\n",
      "None\n",
      "None\n"
     ]
    }
   ],
   "source": [
    "l = LinkedList(1,(LinkedList(2, LinkedList(3,LinkedList(4))))) \n",
    "print(l.get_sublist(1).first) #Should print 2\n",
    "print(l.length()) #Should print 4\n",
    "print(l.get(2)) #Should print 3\n",
    "print(l.get(5)) #Should return None \n",
    "print(l.get_sublist(5)) #should return None"
   ]
  },
  {
   "cell_type": "code",
   "execution_count": null,
   "metadata": {},
   "outputs": [],
   "source": []
  }
 ],
 "metadata": {
  "kernelspec": {
   "display_name": "Python 3",
   "language": "python",
   "name": "python3"
  },
  "language_info": {
   "codemirror_mode": {
    "name": "ipython",
    "version": 3
   },
   "file_extension": ".py",
   "mimetype": "text/x-python",
   "name": "python",
   "nbconvert_exporter": "python",
   "pygments_lexer": "ipython3",
   "version": "3.7.6"
  }
 },
 "nbformat": 4,
 "nbformat_minor": 4
}

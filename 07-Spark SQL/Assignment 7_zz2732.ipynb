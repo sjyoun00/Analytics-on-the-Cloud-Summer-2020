{
 "cells": [
  {
   "cell_type": "markdown",
   "metadata": {},
   "source": [
    "### This notebook was ran on a cluster on Google Cloud due to the very large size of dataset.\n",
    "### The dataset `Motor Vehicle Collision` used if directly requested though a function `GetJsonWebData` from the website: NYC Open Data."
   ]
  },
  {
   "cell_type": "markdown",
   "metadata": {},
   "source": [
    "<h1>PART 1</h1>\n",
    "When NYC Mayor Bill D'Blasio assumed office in January 2014, one of his first signature initiatives was making the city safer for pedestrians and motorists. Amongst the many initiatives to make the streets safer was the institution of a low 25 m.p.h. speed limit within the city limits. The reasoning was that car crashes at lower speeds lead to fewer fatalities than crashes at higher speeds.\n",
    "\n",
    "The goal of this assignment is to test whether this has worked or not. Well, actually, the goal is to practice some Spark SQL but we'll do a simple test along the way!\n",
    "\n",
    "We'll use the Motor Vehicle Collision data available from NYC Open Data (the url is below). You need to do the following:\n",
    "\n",
    "<ol>\n",
    "    <li>Use the Socrata API to get Motor Vehicle Collision data from NYC open data (links to the relevant documentation are in the Web resources cell below)</li>\n",
    "    <li>Your API call should return only the following data items:</li>\n",
    "    <ol>\n",
    "        <li>borough</li>\n",
    "        <li>crash date</li>\n",
    "        <li>number of pedestrians injured</li>\n",
    "        <li>number of pedestrians killed</li>\n",
    "        <li>number of persons injured</li>\n",
    "        <li>number of persons killed</li>\n",
    "    </ol>\n",
    "    <li>Additionally, get only the data for which <b>the number of persons injured or the number of persons killed is greater than zero</b></li>\n",
    "    <li>Once you've created the url for the API call, use the GetJsonWebData function (defined below) to get the data into a dataframe. You need to figure out the select and the where clauses to use in the Socrata API to get the data</li>\n",
    "    <li>Next, <b>replace the crash_date column with the year of the crash.</b> The scala slice function will help you here and you may need to define a udf. Call this new column <span style=\"color:blue\">year</span></li>\n",
    "    <li>Group the data by year and report the following statistics:</li>\n",
    "    <ol>\n",
    "        <li>proportion of pedestrian injuries to pedestrian deaths</li>\n",
    "        <li>proportion of people injured to people deaths</li>\n",
    "        <li>roughly, if the speed limits worked, then both these proportions should be going up</li>\n",
    "    </ol>\n",
    "    <li>Make sure that the results are orderd by year!</li>\n",
    "    <li>Show the result (e.g., below)</li>\n",
    "    \n",
    "</ol>\n",
    "\n",
    "If you run into Java memory issues, try using the java buffer command below. You can also try restarting the kernel and seeing if that fixes it. If all else fails, move to a cluster on the cloud!\n",
    "\n",
    "\n",
    "    \n",
    "\n",
    "\n",
    "<h3>Format of the output</h3>\n",
    "<pre>    \n",
    "       \n",
    "+----+---------------------+------------------+\n",
    "|year|pedestrian_proportion|  total_proportion|\n",
    "+----+---------------------+------------------+\n",
    "|2012|    82.02777777777777|200.37956204379563|\n",
    "|2013|    68.11363636363636| 185.6060606060606|\n",
    "|2014|    82.97744360902256|195.50763358778627|\n",
    "|2015|    75.81954887218045|211.34979423868313|\n",
    "|2016|    74.93243243243244|246.18775510204082|\n",
    "|2017|    87.78740157480316|          236.9375|\n",
    "|2018|    91.91735537190083|270.48471615720524|\n",
    "|2019|     80.6412213740458|251.52459016393442|\n",
    "|2020|    88.58823529411765|235.03225806451613|\n",
    "+----+---------------------+------------------+\n",
    "</pre>"
   ]
  },
  {
   "cell_type": "code",
   "execution_count": 1,
   "metadata": {},
   "outputs": [
    {
     "data": {
      "text/plain": [
       "Waiting for a Spark session to start..."
      ]
     },
     "metadata": {},
     "output_type": "display_data"
    },
    {
     "data": {
      "text/plain": [
       "Waiting for a Spark session to start..."
      ]
     },
     "metadata": {},
     "output_type": "display_data"
    },
    {
     "name": "stdout",
     "output_type": "stream",
     "text": [
      "+----+---------------------+------------------+\n",
      "|year|pedestrian_proportion|  total_proportion|\n",
      "+----+---------------------+------------------+\n",
      "|2012|    82.02777777777777|200.37956204379563|\n",
      "|2013|    68.11363636363636| 185.6060606060606|\n",
      "|2014|    82.97744360902256|195.50763358778627|\n",
      "|2015|    75.81954887218045|211.34979423868313|\n",
      "|2016|    74.42281879194631| 245.1869918699187|\n",
      "|2017|    87.78740157480316|          236.9375|\n",
      "|2018|    91.15573770491804|269.30434782608694|\n",
      "|2019|    80.67175572519083|251.55327868852459|\n",
      "|2020|    78.29545454545455|184.13675213675214|\n",
      "+----+---------------------+------------------+\n",
      "\n",
      "+---------+----+---------------------+------------------+\n",
      "|  borough|year|pedestrian_proportion|  total_proportion|\n",
      "+---------+----+---------------------+------------------+\n",
      "|MANHATTAN|2012|    81.76470588235294| 184.1904761904762|\n",
      "|MANHATTAN|2013|    96.93103448275862|194.48717948717947|\n",
      "|MANHATTAN|2014|               103.44|             197.4|\n",
      "|MANHATTAN|2015|   127.11111111111111| 296.8636363636364|\n",
      "|MANHATTAN|2016|    69.16666666666667|183.41176470588235|\n",
      "|MANHATTAN|2017|    84.23809523809524|171.15151515151516|\n",
      "|MANHATTAN|2018|   148.58333333333334| 286.2105263157895|\n",
      "|MANHATTAN|2019|                78.25|218.33333333333334|\n",
      "|MANHATTAN|2020|   145.33333333333334|            214.75|\n",
      "+---------+----+---------------------+------------------+\n",
      "\n",
      "+-------------+----+---------------------+------------------+\n",
      "|      borough|year|pedestrian_proportion|  total_proportion|\n",
      "+-------------+----+---------------------+------------------+\n",
      "|STATEN ISLAND|2012|                 67.0|113.18181818181819|\n",
      "|STATEN ISLAND|2013|   105.33333333333333|            527.75|\n",
      "|STATEN ISLAND|2014|                 46.0|             157.7|\n",
      "|STATEN ISLAND|2015|                 47.2|             129.0|\n",
      "|STATEN ISLAND|2016|    77.33333333333333|164.88888888888889|\n",
      "|STATEN ISLAND|2017|                 60.0|            193.75|\n",
      "|STATEN ISLAND|2018|                 60.0|191.42857142857142|\n",
      "|STATEN ISLAND|2019|                109.5|            350.75|\n",
      "|STATEN ISLAND|2020|                 64.0|              99.8|\n",
      "+-------------+----+---------------------+------------------+\n",
      "\n",
      "+-------+----+---------------------+------------------+\n",
      "|borough|year|pedestrian_proportion|  total_proportion|\n",
      "+-------+----+---------------------+------------------+\n",
      "| QUEENS|2012|    78.13333333333334|196.64285714285714|\n",
      "| QUEENS|2013|    51.71111111111111| 150.5211267605634|\n",
      "| QUEENS|2014|     84.3076923076923|192.90384615384616|\n",
      "| QUEENS|2015|                80.16|204.37254901960785|\n",
      "| QUEENS|2016|   109.47368421052632|352.48387096774195|\n",
      "| QUEENS|2017|     83.6086956521739|           252.575|\n",
      "| QUEENS|2018|    65.03225806451613|204.11320754716982|\n",
      "| QUEENS|2019|    78.23076923076923|  270.609756097561|\n",
      "| QUEENS|2020|                 71.1|          230.1875|\n",
      "+-------+----+---------------------+------------------+\n",
      "\n",
      "+-------+----+---------------------+------------------+\n",
      "|borough|year|pedestrian_proportion|  total_proportion|\n",
      "+-------+----+---------------------+------------------+\n",
      "|  BRONX|2012|               94.125| 169.2941176470588|\n",
      "|  BRONX|2013|                66.88|         195.59375|\n",
      "|  BRONX|2014|                150.5| 309.7894736842105|\n",
      "|  BRONX|2015|   124.72727272727273| 216.3846153846154|\n",
      "|  BRONX|2016|    96.07142857142857|318.42105263157896|\n",
      "|  BRONX|2017|                135.4| 343.8235294117647|\n",
      "|  BRONX|2018|                144.4|299.42857142857144|\n",
      "|  BRONX|2019|   156.66666666666666| 593.3636363636364|\n",
      "|  BRONX|2020|   169.66666666666666|             317.5|\n",
      "+-------+----+---------------------+------------------+\n",
      "\n",
      "+--------+----+---------------------+------------------+\n",
      "| borough|year|pedestrian_proportion|  total_proportion|\n",
      "+--------+----+---------------------+------------------+\n",
      "|BROOKLYN|2012|    96.63157894736842|228.03030303030303|\n",
      "|BROOKLYN|2013|   121.36666666666666|230.01492537313433|\n",
      "|BROOKLYN|2014|    79.71428571428571|212.61194029850745|\n",
      "|BROOKLYN|2015|    65.82608695652173|204.56716417910448|\n",
      "|BROOKLYN|2016|               145.85|363.56756756756755|\n",
      "|BROOKLYN|2017|               133.15|           301.175|\n",
      "|BROOKLYN|2018|   121.04347826086956|338.35897435897436|\n",
      "|BROOKLYN|2019|    81.81818181818181|220.47457627118644|\n",
      "|BROOKLYN|2020|   102.44444444444444|223.85714285714286|\n",
      "+--------+----+---------------------+------------------+\n",
      "\n"
     ]
    },
    {
     "data": {
      "text/plain": [
       "selection = borough,crash_date,number_of_pedestrians_injured,number_of_pedestrians_killed,number_of_persons_injured,number_of_persons_killed\n",
       "where_clause = number_of_persons_injured>0+OR+number_of_persons_killed>0\n",
       "url = https://data.cityofnewyork.us/resource/h9gi-nx95.json?$select=borough,crash_date,number_of_pedestrians_injured,number_of_pedestrians_killed,number_of_persons_injured,number_of_persons_killed&$where=number_of_persons_injured>0+OR+number_of_persons_killed>0&$limit=1700000\n",
       "response = [borough: string, crash_date: string ... 4 more fields]\n"
      ]
     },
     "metadata": {},
     "output_type": "display_data"
    },
    {
     "data": {
      "text/plain": [
       "warning: there was one deprecation warning; re-run with -deprecation for details\n",
       "GetJsonWebData: (url: String)org.apache.spark.sql.DataFrame\n"
      ]
     },
     "metadata": {},
     "output_type": "display_data"
    },
    {
     "data": {
      "text/plain": [
       "[borough: string, crash_date: string ... 4 more fields]"
      ]
     },
     "execution_count": 1,
     "metadata": {},
     "output_type": "execute_result"
    }
   ],
   "source": [
    "//Spark SQL Home Assignment Problem Solution\n",
    "import org.apache.spark.sql.{DataFrame, SQLContext, SparkSession}\n",
    "\n",
    "def GetJsonWebData(url: String): DataFrame ={\n",
    "    //Grab the contents of the web page at url\n",
    "    val rdd = spark.sparkContext.parallelize(scala.io.Source.fromURL(url).mkString :: Nil) \n",
    "    //Convert it into JSON (must be single line JSON)\n",
    "    val df = spark.read.json(rdd)\n",
    "    return df\n",
    "}  \n",
    "\n",
    "// CODE FOR SETTING UP THE URL AND GETTING THE DATA INTO A DATAFRAME GOES HERE\n",
    "val selection = \"borough,crash_date,number_of_pedestrians_injured,number_of_pedestrians_killed,number_of_persons_injured,number_of_persons_killed\"\n",
    "val where_clause = \"number_of_persons_injured>0+OR+number_of_persons_killed>0\"\n",
    "val url = s\"https://data.cityofnewyork.us/resource/h9gi-nx95.json?$$select=$selection&$$where=$where_clause&$$limit=1700000\"\n",
    "val response = GetJsonWebData(url)\n",
    "\n",
    "\n",
    "\n",
    "\n",
    "// CODE FOR CREATING A COLUMN WITH THE YEAR GOES HERE\n",
    "import org.apache.spark.sql.functions.{col, lit, sum, udf}\n",
    "val slice = udf((array : String, from : Int, to : Int) => array.slice(from,to))\n",
    "import org.apache.spark.sql.types._\n",
    "import org.apache.spark.sql.Row\n",
    "\n",
    "val df_year = response.withColumn(\"year\",slice(col(\"crash_date\"),lit(0),lit(4)))\n",
    "\n",
    "\n",
    "\n",
    "// CODE FOR CALCULATING PROPORTIONS FOR EACH YEAR GOES HERE\n",
    "val df_proportions = \n",
    "    df_year.groupBy(\"year\").agg(sum(\"number_of_pedestrians_injured\").alias(\"ped_i\"),\n",
    "                                sum(\"number_of_pedestrians_killed\").alias(\"ped_k\"),\n",
    "                                sum(\"number_of_persons_injured\").alias(\"ppl_i\"),\n",
    "                                sum(\"number_of_persons_killed\").alias(\"ppl_k\"))\n",
    "                            .withColumn(\"pedestrian_proportion\",col(\"ped_i\")/col(\"ped_k\"))\n",
    "                            .withColumn(\"total_proportion\",col(\"ppl_i\")/col(\"ppl_k\"))\n",
    "                            .select(\"year\",\"pedestrian_proportion\",\"total_proportion\")\n",
    "                            .orderBy(\"year\")\n",
    "\n",
    "\n",
    "\n",
    "// CODE FOR CALCULATING PROPORTIONS BY YEAR FOR EACH BOROUGH GOES HERE\n",
    "val borough_list = List(\"BRONX\",\"MANHATTAN\",\"STATEN ISLAND\",\"QUEENS\",\"BROOKLYN\")\n",
    "val df_borough = df_year.groupBy(\"borough\",\"year\").agg(sum(\"number_of_pedestrians_injured\").alias(\"ped_i\"),\n",
    "                                sum(\"number_of_pedestrians_killed\").alias(\"ped_k\"),\n",
    "                                sum(\"number_of_persons_injured\").alias(\"ppl_i\"),\n",
    "                                sum(\"number_of_persons_killed\").alias(\"ppl_k\"))\n",
    ".withColumn(\"pedestrian_proportion\",col(\"ped_i\")/col(\"ped_k\"))\n",
    ".withColumn(\"total_proportion\",col(\"ppl_i\")/col(\"ppl_k\"))\n",
    ".filter($\"borough\"===\"BRONX\"||$\"borough\"===\"BROOKLYN\"||$\"borough\"===\"MANHATTAN\"||$\"borough\"===\"STATEN ISLAND\"||$\"borough\"===\"QUEENS\")\n",
    ".select(\"borough\",\"year\",\"pedestrian_proportion\",\"total_proportion\")\n",
    ".orderBy(\"year\")\n",
    "\n",
    "\n",
    "// EXTRACT DATA FIR EACH BOROUGH INTO A DATAFRAME\n",
    "val manhattan = df_borough.filter($\"Borough\"===\"MANHATTAN\")\n",
    "val staten_island = df_borough.filter($\"Borough\"===\"STATEN ISLAND\")\n",
    "val queens = df_borough.filter($\"Borough\"===\"QUEENS\")\n",
    "val bronx = df_borough.filter($\"Borough\"===\"BRONX\")\n",
    "val brooklyn = df_borough.filter($\"Borough\"===\"BROOKLYN\")\n",
    "\n",
    "\n",
    "\n",
    "//CODE FOR SHOWING ALL THE RESULTS GOES HERE\n",
    "\n",
    "\n",
    "df_proportions.show //shows proportions for each year\n",
    "\n",
    "//For each year by borough\n",
    "manhattan.show\n",
    "staten_island.show\n",
    "queens.show\n",
    "bronx.show\n",
    "brooklyn.show\n"
   ]
  },
  {
   "cell_type": "markdown",
   "metadata": {},
   "source": [
    "<h1>PART 2</h1>\n",
    "Next we'll do the same thing we did in Part 1 except that we'll see if there are differences by borough in how well the speed limit reduction has worked. \n",
    "\n",
    "Do the following:\n",
    "\n",
    "<ol>\n",
    "    <li>Create a scala list that contains the names of the boroughs. We will clean our data to eliminate any entries that don't have a proper borough name</li>\n",
    "    <li>Remove all data that has an entry in the borough name that doesn't correspond to a name in our list (see the filter example below on how to do this)</li>\n",
    "    <li>Now compute the same proportions as in part 1 but on data that is grouped by first the borough and then the year (you can use <span style=\"color:blue\">groupBy(\"borough\",\"year\")</span>)</li>\n",
    "    <li>Create dataframes for the results for each borough</li>\n",
    "    <li>Show all the results</li>\n",
    "    \n",
    "</ol>\n",
    "<h3>Sample output</h3>\n",
    "<pre>\n",
    "+---------+----+---------------------+------------------+\n",
    "|  borough|year|pedestrian_proportion|  total_proportion|\n",
    "+---------+----+---------------------+------------------+\n",
    "|MANHATTAN|2012|    81.76470588235294| 184.1904761904762|\n",
    "|MANHATTAN|2013|    96.93103448275862|194.48717948717947|\n",
    "|MANHATTAN|2014|               103.44|             197.4|\n",
    "|MANHATTAN|2015|   127.11111111111111| 296.8636363636364|\n",
    "|MANHATTAN|2016|    69.16666666666667|183.41176470588235|\n",
    "|MANHATTAN|2017|    84.23809523809524|171.15151515151516|\n",
    "|MANHATTAN|2018|   148.58333333333334| 286.2105263157895|\n",
    "|MANHATTAN|2019|                 78.2|            218.25|\n",
    "|MANHATTAN|2020|                202.0|             286.0|\n",
    "+---------+----+---------------------+------------------+\n",
    "</pre>\n",
    "<pre>\n",
    "+-------+----+---------------------+------------------+\n",
    "|borough|year|pedestrian_proportion|  total_proportion|\n",
    "+-------+----+---------------------+------------------+\n",
    "|  BRONX|2012|               94.125| 169.2941176470588|\n",
    "|  BRONX|2013|                66.88|         195.59375|\n",
    "|  BRONX|2014|                150.5| 309.7894736842105|\n",
    "|  BRONX|2015|   124.72727272727273| 216.3846153846154|\n",
    "|  BRONX|2016|    96.07142857142857|318.36842105263156|\n",
    "|  BRONX|2017|                135.4| 343.8235294117647|\n",
    "|  BRONX|2018|                144.4|299.42857142857144|\n",
    "|  BRONX|2019|   156.66666666666666| 593.2727272727273|\n",
    "|  BRONX|2020|                201.0|             846.0|\n",
    "+-------+----+---------------------+------------------+\n",
    "</pre>\n",
    "\n",
    "<h4>And, similarly for the other boroughs</h4>\n"
   ]
  },
  {
   "cell_type": "code",
   "execution_count": 2,
   "metadata": {},
   "outputs": [
    {
     "name": "stdout",
     "output_type": "stream",
     "text": [
      "+----+---------------------+------------------+\n",
      "|year|pedestrian_proportion|  total_proportion|\n",
      "+----+---------------------+------------------+\n",
      "|2012|    82.02777777777777|200.37956204379563|\n",
      "|2013|    68.11363636363636| 185.6060606060606|\n",
      "|2014|    82.97744360902256|195.50763358778627|\n",
      "|2015|    75.81954887218045|211.34979423868313|\n",
      "|2016|    74.42281879194631| 245.1869918699187|\n",
      "|2017|    87.78740157480316|          236.9375|\n",
      "|2018|    91.15573770491804|269.30434782608694|\n",
      "|2019|    80.67175572519083|251.55327868852459|\n",
      "|2020|    78.29545454545455|184.13675213675214|\n",
      "+----+---------------------+------------------+\n",
      "\n",
      "+---------+----+---------------------+------------------+\n",
      "|  borough|year|pedestrian_proportion|  total_proportion|\n",
      "+---------+----+---------------------+------------------+\n",
      "|MANHATTAN|2012|    81.76470588235294| 184.1904761904762|\n",
      "|MANHATTAN|2013|    96.93103448275862|194.48717948717947|\n",
      "|MANHATTAN|2014|               103.44|             197.4|\n",
      "|MANHATTAN|2015|   127.11111111111111| 296.8636363636364|\n",
      "|MANHATTAN|2016|    69.16666666666667|183.41176470588235|\n",
      "|MANHATTAN|2017|    84.23809523809524|171.15151515151516|\n",
      "|MANHATTAN|2018|   148.58333333333334| 286.2105263157895|\n",
      "|MANHATTAN|2019|                78.25|218.33333333333334|\n",
      "|MANHATTAN|2020|   145.33333333333334|            214.75|\n",
      "+---------+----+---------------------+------------------+\n",
      "\n",
      "+-------------+----+---------------------+------------------+\n",
      "|      borough|year|pedestrian_proportion|  total_proportion|\n",
      "+-------------+----+---------------------+------------------+\n",
      "|STATEN ISLAND|2012|                 67.0|113.18181818181819|\n",
      "|STATEN ISLAND|2013|   105.33333333333333|            527.75|\n",
      "|STATEN ISLAND|2014|                 46.0|             157.7|\n",
      "|STATEN ISLAND|2015|                 47.2|             129.0|\n",
      "|STATEN ISLAND|2016|    77.33333333333333|164.88888888888889|\n",
      "|STATEN ISLAND|2017|                 60.0|            193.75|\n",
      "|STATEN ISLAND|2018|                 60.0|191.42857142857142|\n",
      "|STATEN ISLAND|2019|                109.5|            350.75|\n",
      "|STATEN ISLAND|2020|                 64.0|              99.8|\n",
      "+-------------+----+---------------------+------------------+\n",
      "\n",
      "+-------+----+---------------------+------------------+\n",
      "|borough|year|pedestrian_proportion|  total_proportion|\n",
      "+-------+----+---------------------+------------------+\n",
      "| QUEENS|2012|    78.13333333333334|196.64285714285714|\n",
      "| QUEENS|2013|    51.71111111111111| 150.5211267605634|\n",
      "| QUEENS|2014|     84.3076923076923|192.90384615384616|\n",
      "| QUEENS|2015|                80.16|204.37254901960785|\n",
      "| QUEENS|2016|   109.47368421052632|352.48387096774195|\n",
      "| QUEENS|2017|     83.6086956521739|           252.575|\n",
      "| QUEENS|2018|    65.03225806451613|204.11320754716982|\n",
      "| QUEENS|2019|    78.23076923076923|  270.609756097561|\n",
      "| QUEENS|2020|                 71.1|          230.1875|\n",
      "+-------+----+---------------------+------------------+\n",
      "\n",
      "+-------+----+---------------------+------------------+\n",
      "|borough|year|pedestrian_proportion|  total_proportion|\n",
      "+-------+----+---------------------+------------------+\n",
      "|  BRONX|2012|               94.125| 169.2941176470588|\n",
      "|  BRONX|2013|                66.88|         195.59375|\n",
      "|  BRONX|2014|                150.5| 309.7894736842105|\n",
      "|  BRONX|2015|   124.72727272727273| 216.3846153846154|\n",
      "|  BRONX|2016|    96.07142857142857|318.42105263157896|\n",
      "|  BRONX|2017|                135.4| 343.8235294117647|\n",
      "|  BRONX|2018|                144.4|299.42857142857144|\n",
      "|  BRONX|2019|   156.66666666666666| 593.3636363636364|\n",
      "|  BRONX|2020|   169.66666666666666|             317.5|\n",
      "+-------+----+---------------------+------------------+\n",
      "\n",
      "+--------+----+---------------------+------------------+\n",
      "| borough|year|pedestrian_proportion|  total_proportion|\n",
      "+--------+----+---------------------+------------------+\n",
      "|BROOKLYN|2012|    96.63157894736842|228.03030303030303|\n",
      "|BROOKLYN|2013|   121.36666666666666|230.01492537313433|\n",
      "|BROOKLYN|2014|    79.71428571428571|212.61194029850745|\n",
      "|BROOKLYN|2015|    65.82608695652173|204.56716417910448|\n",
      "|BROOKLYN|2016|               145.85|363.56756756756755|\n",
      "|BROOKLYN|2017|               133.15|           301.175|\n",
      "|BROOKLYN|2018|   121.04347826086956|338.35897435897436|\n",
      "|BROOKLYN|2019|    81.81818181818181|220.47457627118644|\n",
      "|BROOKLYN|2020|   102.44444444444444|223.85714285714286|\n",
      "+--------+----+---------------------+------------------+\n",
      "\n"
     ]
    }
   ],
   "source": [
    "df_proportions.show\n",
    "manhattan.show\n",
    "staten_island.show\n",
    "queens.show\n",
    "bronx.show\n",
    "brooklyn.show"
   ]
  },
  {
   "cell_type": "markdown",
   "metadata": {},
   "source": [
    "# Step by Step Solutions"
   ]
  },
  {
   "cell_type": "markdown",
   "metadata": {},
   "source": [
    "### Part 1"
   ]
  },
  {
   "cell_type": "code",
   "execution_count": null,
   "metadata": {
    "scrolled": true
   },
   "outputs": [],
   "source": [
    "import org.apache.spark.sql.{DataFrame, SQLContext, SparkSession}\n",
    "\n",
    "def GetJsonWebData(url: String): DataFrame ={\n",
    "    //Grab the contents of the web page at url\n",
    "    val rdd = spark.sparkContext.parallelize(scala.io.Source.fromURL(url).mkString :: Nil) \n",
    "    //Convert it into JSON (must be single line JSON)\n",
    "    val df = spark.read.json(rdd)\n",
    "    return df\n",
    "}  \n",
    "\n",
    "// CODE FOR SETTING UP THE URL AND GETTING THE DATA INTO A DATAFRAME GOES HERE\n",
    "val selection = \"borough,crash_date,number_of_pedestrians_injured,number_of_pedestrians_killed,number_of_persons_injured,number_of_persons_killed\"\n",
    "val where_clause = \"number_of_persons_injured>0+OR+number_of_persons_killed>0\"\n",
    "val url = s\"https://data.cityofnewyork.us/resource/h9gi-nx95.json?$$select=$selection&$$where=$where_clause&$$limit=1700000\"\n",
    "val response = GetJsonWebData(url)"
   ]
  },
  {
   "cell_type": "code",
   "execution_count": null,
   "metadata": {},
   "outputs": [],
   "source": [
    "response.printSchema"
   ]
  },
  {
   "cell_type": "code",
   "execution_count": null,
   "metadata": {
    "scrolled": true
   },
   "outputs": [],
   "source": [
    "response.first"
   ]
  },
  {
   "cell_type": "code",
   "execution_count": null,
   "metadata": {},
   "outputs": [],
   "source": [
    "// CODE FOR CREATING A COLUMN WITH THE YEAR GOES HERE\n",
    "import org.apache.spark.sql.functions.{col, lit, sum, udf}\n",
    "val slice = udf((array : String, from : Int, to : Int) => array.slice(from,to))\n",
    "import org.apache.spark.sql.types._\n",
    "import org.apache.spark.sql.Row\n",
    "\n",
    "val df_year = response.withColumn(\"year\",slice(col(\"crash_date\"),lit(0),lit(4)))"
   ]
  },
  {
   "cell_type": "code",
   "execution_count": null,
   "metadata": {},
   "outputs": [],
   "source": [
    "df_year.first"
   ]
  },
  {
   "cell_type": "code",
   "execution_count": null,
   "metadata": {},
   "outputs": [],
   "source": [
    "// CODE FOR CALCULATING PROPORTIONS FOR EACH YEAR GOES HERE\n",
    "val df_proportions = \n",
    "    df_year.groupBy(\"year\").agg(sum(\"number_of_pedestrians_injured\").alias(\"ped_i\"),\n",
    "                                sum(\"number_of_pedestrians_killed\").alias(\"ped_k\"),\n",
    "                                sum(\"number_of_persons_injured\").alias(\"ppl_i\"),\n",
    "                                sum(\"number_of_persons_killed\").alias(\"ppl_k\"))\n",
    ".withColumn(\"pedestrian_proportion\",col(\"ped_i\")/col(\"ped_k\"))\n",
    ".withColumn(\"total_proportion\",col(\"ppl_i\")/col(\"ppl_k\"))\n",
    ".select(\"year\",\"pedestrian_proportion\",\"total_proportion\")\n",
    ".orderBy(\"year\")"
   ]
  },
  {
   "cell_type": "code",
   "execution_count": null,
   "metadata": {},
   "outputs": [],
   "source": [
    "df_proportions.show"
   ]
  },
  {
   "cell_type": "markdown",
   "metadata": {},
   "source": [
    "### Part 2"
   ]
  },
  {
   "cell_type": "code",
   "execution_count": null,
   "metadata": {},
   "outputs": [],
   "source": [
    "df_year"
   ]
  },
  {
   "cell_type": "code",
   "execution_count": null,
   "metadata": {},
   "outputs": [],
   "source": [
    "df_year.first"
   ]
  },
  {
   "cell_type": "code",
   "execution_count": null,
   "metadata": {},
   "outputs": [],
   "source": [
    "// CODE FOR CALCULATING PROPORTIONS BY YEAR FOR EACH BOROUGH GOES HERE\n",
    "val borough_list = List(\"BRONX\",\"MANHATTAN\",\"STATEN ISLAND\",\"QUEENS\",\"BROOKLYN\")\n",
    "val df_borough = df_year.groupBy(\"borough\",\"year\").agg(sum(\"number_of_pedestrians_injured\").alias(\"ped_i\"),\n",
    "                                sum(\"number_of_pedestrians_killed\").alias(\"ped_k\"),\n",
    "                                sum(\"number_of_persons_injured\").alias(\"ppl_i\"),\n",
    "                                sum(\"number_of_persons_killed\").alias(\"ppl_k\"))\n",
    ".withColumn(\"pedestrian_proportion\",col(\"ped_i\")/col(\"ped_k\"))\n",
    ".withColumn(\"total_proportion\",col(\"ppl_i\")/col(\"ppl_k\"))\n",
    ".filter($\"borough\"===\"BRONX\"||$\"borough\"===\"BROOKLYN\"||$\"borough\"===\"MANHATTAN\"||$\"borough\"===\"STATEN ISLAND\"||$\"borough\"===\"QUEENS\")\n",
    ".select(\"borough\",\"year\",\"pedestrian_proportion\",\"total_proportion\")\n",
    ".orderBy(\"year\")"
   ]
  },
  {
   "cell_type": "code",
   "execution_count": null,
   "metadata": {},
   "outputs": [],
   "source": [
    "df_borough.show"
   ]
  },
  {
   "cell_type": "code",
   "execution_count": null,
   "metadata": {},
   "outputs": [],
   "source": [
    "// EXTRACT DATA FIR EACH BOROUGH INTO A DATAFRAME\n",
    "val manhattan = df_borough.filter($\"Borough\"===\"MANHATTAN\")\n",
    "val staten_island = df_borough.filter($\"Borough\"===\"STATEN ISLAND\")\n",
    "val queens = df_borough.filter($\"Borough\"===\"QUEENS\")\n",
    "val bronx = df_borough.filter($\"Borough\"===\"BRONX\")\n",
    "val brooklyn = df_borough.filter($\"Borough\"===\"BROOKLYN\")"
   ]
  },
  {
   "cell_type": "code",
   "execution_count": null,
   "metadata": {},
   "outputs": [],
   "source": [
    "manhattan.show\n",
    "staten_island.show\n",
    "queens.show\n",
    "bronx.show\n",
    "brooklyn.show"
   ]
  },
  {
   "cell_type": "markdown",
   "metadata": {},
   "source": [
    "<h1>Web resources</h1>\n",
    "<li><a href=\"https://data.cityofnewyork.us/resource/h9gi-nx95.json\">The data URL</a></li>\n",
    "<li><a href=\"https://dev.socrata.com/docs/queries/where.html\">Socrata Where clause</a></li>\n",
    "<li><a href=\"https://dev.socrata.com/docs/queries/select.html\">Socrata select clause</a></li>\n",
    "<li><a href=\"https://dev.socrata.com/docs/queries/limit.html\">Socrata limit clause</a></li>\n",
    "<li><a href=\"https://learning.oreilly.com/library/view/scala-cookbook/9781449340292/ch10s19.html\">Scala slice</a></li>"
   ]
  },
  {
   "cell_type": "markdown",
   "metadata": {},
   "source": [
    "<h1>Grab JSON from a URL function</h1>"
   ]
  },
  {
   "cell_type": "code",
   "execution_count": null,
   "metadata": {},
   "outputs": [],
   "source": [
    "import org.apache.spark.sql.{DataFrame, SQLContext, SparkSession}\n",
    "\n",
    "def GetJsonWebData(url: String): DataFrame ={\n",
    "    //Grab the contents of the web page at url\n",
    "    val rdd = spark.sparkContext.parallelize(scala.io.Source.fromURL(url).mkString :: Nil) \n",
    "    //Convert it into JSON (must be single line JSON)\n",
    "    val df = spark.read.json(rdd)\n",
    "    return df\n",
    "}  "
   ]
  },
  {
   "cell_type": "markdown",
   "metadata": {},
   "source": [
    "<h1>Java buffer command</h1>\n",
    "<li>The command below ensures that your Java buffer is big enough to read the data</li>\n",
    "<li>You may not need this on the cluster, but, most likely, will need this on your local machine</li>"
   ]
  },
  {
   "cell_type": "code",
   "execution_count": null,
   "metadata": {},
   "outputs": [],
   "source": [
    "!export JVM_ARGS=\"-Xmx2048m -XX:MaxPermSize=1024m\"\n"
   ]
  },
  {
   "cell_type": "markdown",
   "metadata": {},
   "source": [
    "<h1>filter</h1>"
   ]
  },
  {
   "cell_type": "code",
   "execution_count": null,
   "metadata": {},
   "outputs": [],
   "source": [
    "val df = Seq((\"John\",\"NYC\",1000),\n",
    "             (\"JILL\",\"BOSTON\",1700),\n",
    "            (\"JAMES\",\"NYC\",800),\n",
    "            (\"JACQUES\",\"BOSTON\",400))\n",
    "        .toDF(\"Name\",\"City\",\"Score\")\n",
    "\n",
    "//Note the === (3 = signs) for matching to string values in the example below\n",
    "df.groupBy(\"City\").sum(\"score\").filter($\"City\"===\"BOSTON\").show"
   ]
  },
  {
   "cell_type": "code",
   "execution_count": null,
   "metadata": {},
   "outputs": [],
   "source": []
  }
 ],
 "metadata": {
  "kernelspec": {
   "display_name": "spylon-kernel",
   "language": "scala",
   "name": "spylon-kernel"
  },
  "language_info": {
   "codemirror_mode": "text/x-scala",
   "file_extension": ".scala",
   "help_links": [
    {
     "text": "MetaKernel Magics",
     "url": "https://metakernel.readthedocs.io/en/latest/source/README.html"
    }
   ],
   "mimetype": "text/x-scala",
   "name": "scala",
   "pygments_lexer": "scala",
   "version": "0.4.1"
  }
 },
 "nbformat": 4,
 "nbformat_minor": 2
}

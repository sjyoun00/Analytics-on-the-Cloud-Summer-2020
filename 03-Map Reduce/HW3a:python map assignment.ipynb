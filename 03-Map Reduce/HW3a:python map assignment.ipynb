{
 "cells": [
  {
   "cell_type": "markdown",
   "metadata": {},
   "source": [
    "<h1>Python map assignment</h1>\n",
    "<b>Note!</b>: This assignment has many steps. The steps are designed to help you walk through the problem. You only need to submit the final function that is sketched out at the top of this notebook!"
   ]
  },
  {
   "cell_type": "code",
   "execution_count": 142,
   "metadata": {},
   "outputs": [
    {
     "data": {
      "text/plain": [
       "[[1, 5, 9], [2, 6, 10], [3, 7, 11], [4, 8, 12]]"
      ]
     },
     "execution_count": 142,
     "metadata": {},
     "output_type": "execute_result"
    }
   ],
   "source": [
    "##PLEASE ENTER YOUR FINAL FUNCTION HERE\n",
    "##THE GRADERS WILL IGNORE ANYTHING BELOW THIS CELL\n",
    "\n",
    "test_data  = [[1,2,3,4],[5,6,7,8],[9,10,11,12]]\n",
    "\n",
    "def transpose(input_list):\n",
    "    import itertools\n",
    "    from functools import reduce\n",
    "    from operator import itemgetter \n",
    "    \n",
    "    #Code goes here\n",
    "    map1 = map(lambda x: (input_list.index(x),x),input_list)  # convert the matrix into [row number, row data] pairs. \n",
    "    map2 = map(lambda x: list(map(lambda y: (x[1].index(y),(x[0],y)),x[1])),map1)  # generate (new_row_num, (old_row_num, value))  key value pairs\n",
    "    chained = itertools.chain.from_iterable(map2)\n",
    "    sorted_chained = sorted(chained)\n",
    "    grouped = itertools.groupby(sorted_chained, lambda x:x[0]) #group the data by the transpose-row-number key\n",
    "    unpacked = map(lambda x: [x[0]]+list(map(lambda y:y[1],x[1])),grouped)\n",
    "    final_step_1 = map(lambda x: x[1:],unpacked)\n",
    "    final_step_2 = map(lambda x: list(map(lambda y: y[1], x)),final_step_1)\n",
    "    transposed = [i for i in final_step_2] \n",
    "    return transposed\n",
    "\n",
    "transpose(test_data)\n",
    "##SHOULD RETURN: \n",
    "##[[1, 5, 9], [2, 6, 10], [3, 7, 11], [4, 8, 12]]"
   ]
  },
  {
   "cell_type": "markdown",
   "metadata": {},
   "source": [
    "<h1>Transpose a matrix using map</h1>\n",
    "Given an $ m \\times n $ <b>matrix, write a function <span style=\"color:blue\">transpose</span> that transposes that matrix.</b> There are a lot of easy and straightforward ways to do this but, for the purposes of this assignment, we'll <b>make use of the map function in Python.</b> Map is particularly useful if the matrix is very large (many terrabytes) and <span style=\"color:red\">transposing it using for loops, list comprehension, or numpy functions will take forever and will require huge amounts of memory (many terrabytes).</span> With map, we can use a divide and conquer strategy to save on both processing time as well as memory.\n",
    "\n",
    "* Given a matrix in list form, e.g., [[1,2,3,4],[5,6,7,8],[9,10,11,12]]\n",
    "* Return its transpose [[1, 5, 9], [2, 6, 10], [3, 7, 11], [4, 8, 12]]"
   ]
  },
  {
   "cell_type": "markdown",
   "metadata": {},
   "source": [
    "<h2>Steps</h2>\n",
    "The steps required to transpose the matrix are below. Note that each step creates a <span style=\"color:blue\">generator object</span> and no actual data is created except at the end. \n",
    "<p>\n",
    "Test out your program by creating each intermediate generator. Once you have all the steps correctly done, collect them into the function."
   ]
  },
  {
   "cell_type": "code",
   "execution_count": 15,
   "metadata": {},
   "outputs": [],
   "source": [
    "test_data  = [[1,2,3,4],[5,6,7,8],[9,10,11,12]]"
   ]
  },
  {
   "cell_type": "markdown",
   "metadata": {},
   "source": [
    "<h2 style=\"color:red\">Step 1</h2>\n",
    "*Use the python map function to convert the original matrix into key, value pairs where the key is the row number and the value is the list corresponding to the row\n",
    "\n",
    "For the sample data, the generator should create the following list:\n",
    "\n",
    "<span style=\"color:blue\">\n",
    "[(0, [1, 2, 3, 4]), <br>(1, [5, 6, 7, 8]),<br> (2, [9, 10, 11, 12])]\n",
    "</span>\n",
    "\n",
    "This step requires a single map with a lambda function that adds the row number to each row. The easiest way to find the row number for a sublist is to use python's index function.\n",
    "\n",
    "(Note: in practice, if the matrix is stored across multiple data servers, then the row numbers will, in all likelihood, already be attached to the rows. The original row numbers are important because, since the matrix is being assembled from multiple locations, we need to know the order in which they should appear.)"
   ]
  },
  {
   "cell_type": "code",
   "execution_count": 73,
   "metadata": {},
   "outputs": [
    {
     "data": {
      "text/plain": [
       "1"
      ]
     },
     "execution_count": 73,
     "metadata": {},
     "output_type": "execute_result"
    }
   ],
   "source": [
    "#index function example:\n",
    "y=[[1,2],[3,4]]\n",
    "y.index([3,4])"
   ]
  },
  {
   "cell_type": "code",
   "execution_count": 74,
   "metadata": {},
   "outputs": [
    {
     "data": {
      "text/plain": [
       "[(0, [1, 2, 3, 4]), (1, [5, 6, 7, 8]), (2, [9, 10, 11, 12])]"
      ]
     },
     "execution_count": 74,
     "metadata": {},
     "output_type": "execute_result"
    }
   ],
   "source": [
    "#build map1 here\n",
    "map1 = map(lambda x: (test_data.index(x),x), test_data)\n",
    "list(map1)"
   ]
  },
  {
   "cell_type": "code",
   "execution_count": 75,
   "metadata": {},
   "outputs": [],
   "source": [
    "map1 = map(lambda x: (test_data.index(x),x), test_data)  # convert the matrix into [row number, row data] pairs. "
   ]
  },
  {
   "cell_type": "markdown",
   "metadata": {},
   "source": [
    "<h2 style=\"color:red\">Step 2</h2>\n",
    "\n",
    "From map1, use map to generate (transposed_row_num, (original_row_num, value)) pairs for each row. \n",
    "For the sample data, the generator should create the following list:\n",
    "\n",
    "<span style=\"color:blue\">\n",
    "[[(0, (0, 1)), (1, (0, 2)), (2, (0, 3)), (3, (0, 4))], <br>\n",
    "[(0, (1, 5)), (1, (1, 6)), (2, (1, 7)), (3, (1, 8))], <br>\n",
    "[(0, (2, 9)), (1, (2, 10)), (2, (2, 11)), (3, (2, 12))]]\n",
    "</span>\n",
    "\n",
    "* The transposed_row_num for any data value is the column number in the original matrix\n",
    "* You can use the index function to get the column number for each item in each row\n",
    "* This step is more complicated than generating map1. You will need to use two maps, an inner map that constructs the key value pairs described above and an outer map that grabs each data row in turn\n",
    "* Bear in mind that, when working with Python generators, the generator becomes empty once you actually generate the data. It will be easier if you create your map with test data before inserting it into the code"
   ]
  },
  {
   "cell_type": "code",
   "execution_count": 76,
   "metadata": {},
   "outputs": [
    {
     "data": {
      "text/plain": [
       "[1, 2, 3, 4]"
      ]
     },
     "execution_count": 76,
     "metadata": {},
     "output_type": "execute_result"
    }
   ],
   "source": [
    "aaa = (0, [1, 2, 3, 4])\n",
    "aaa[1]"
   ]
  },
  {
   "cell_type": "code",
   "execution_count": 77,
   "metadata": {},
   "outputs": [
    {
     "data": {
      "text/plain": [
       "[(0, (0, 1)), (1, (0, 2)), (2, (0, 3)), (3, (0, 4))]"
      ]
     },
     "execution_count": 77,
     "metadata": {},
     "output_type": "execute_result"
    }
   ],
   "source": [
    "list(map(lambda y: (aaa[1].index(y), (aaa[0], y)) , aaa[1]))"
   ]
  },
  {
   "cell_type": "code",
   "execution_count": 78,
   "metadata": {
    "scrolled": true
   },
   "outputs": [
    {
     "data": {
      "text/plain": [
       "[[(0, (0, 1)), (1, (0, 2)), (2, (0, 3)), (3, (0, 4))],\n",
       " [(0, (1, 5)), (1, (1, 6)), (2, (1, 7)), (3, (1, 8))],\n",
       " [(0, (2, 9)), (1, (2, 10)), (2, (2, 11)), (3, (2, 12))]]"
      ]
     },
     "execution_count": 78,
     "metadata": {},
     "output_type": "execute_result"
    }
   ],
   "source": [
    "map2_test_input = [(0, [1, 2, 3, 4]), \n",
    "(1, [5, 6, 7, 8]),\n",
    "(2, [9, 10, 11, 12])]\n",
    "\n",
    "#build map2 here and then insert the code in the cell below\n",
    "\n",
    "map2_test = map(lambda x: list(map(lambda y:(x[1].index(y), (x[0], y)) , x[1])), \n",
    "    map2_test_input)\n",
    "list(map2_test)"
   ]
  },
  {
   "cell_type": "code",
   "execution_count": 79,
   "metadata": {},
   "outputs": [],
   "source": [
    "map2 = map(lambda x: list(map(lambda y: (x[1].index(y), (x[0], y)) , x[1]))\n",
    "    ,map1)  # generate (new_row_num, (old_row_num, value))  key value pairs"
   ]
  },
  {
   "cell_type": "markdown",
   "metadata": {},
   "source": [
    "<h2 style=\"color:red\">Step 3</h2>\n",
    "STEP 3: Flatten the map using chain.from_iterable(map2)\n",
    "* chain.from_iterable takes an iterable (a generator in this case) and \"flattens\" it. In our case, each \"row list\" in map2 will be flattened into one long list of elements that match <span style=\"color:blue\">(transposed-row-num, (old-row-num, value))</span>\n",
    "\n",
    "<br>\n",
    "\n",
    "<span style=\"color:blue\">\n",
    "[(0, (0, 1)),<br> (1, (0, 2)),<br> (2, (0, 3)),<br> (3, (0, 4)),<br> (0, (1, 5)),<br> (1, (1, 6)),<br> (2, (1, 7)),<br> (3, (1, 8)),<br> (0, (2, 9)),<br> (1, (2, 10)),<br> (2, (2, 11)),<br> (3, (2, 12))]\n",
    "</span>\n",
    "\n",
    "* I've done this for you below"
   ]
  },
  {
   "cell_type": "code",
   "execution_count": 80,
   "metadata": {},
   "outputs": [],
   "source": [
    "import itertools\n",
    "chained = itertools.chain.from_iterable(map2)"
   ]
  },
  {
   "cell_type": "code",
   "execution_count": 81,
   "metadata": {},
   "outputs": [
    {
     "data": {
      "text/plain": [
       "<itertools.chain at 0x7f8c86ce9b50>"
      ]
     },
     "execution_count": 81,
     "metadata": {},
     "output_type": "execute_result"
    }
   ],
   "source": [
    "chained"
   ]
  },
  {
   "cell_type": "markdown",
   "metadata": {},
   "source": [
    "<h2 style=\"color:red\">Step 4</h2>\n",
    "* sort chained. Also done for you"
   ]
  },
  {
   "cell_type": "code",
   "execution_count": 82,
   "metadata": {
    "scrolled": true
   },
   "outputs": [
    {
     "data": {
      "text/plain": [
       "[(0, (0, 1)),\n",
       " (0, (1, 5)),\n",
       " (0, (2, 9)),\n",
       " (1, (0, 2)),\n",
       " (1, (1, 6)),\n",
       " (1, (2, 10)),\n",
       " (2, (0, 3)),\n",
       " (2, (1, 7)),\n",
       " (2, (2, 11)),\n",
       " (3, (0, 4)),\n",
       " (3, (1, 8)),\n",
       " (3, (2, 12))]"
      ]
     },
     "execution_count": 82,
     "metadata": {},
     "output_type": "execute_result"
    }
   ],
   "source": [
    "sorted_chained = sorted(chained)\n",
    "sorted_chained"
   ]
  },
  {
   "cell_type": "markdown",
   "metadata": {},
   "source": [
    "<h2 style=\"color:red\">Step 5</h2>\n",
    "\n",
    "Group the sorted list by the first element. The sorted list in our example is:\n",
    "\n",
    "<span style=\"color:blue\">\n",
    "[(0, (0, 1)),<br> (0, (1, 5)),<br> (0, (2, 9)),<br> (1, (0, 2)),<br> (1, (1, 6)),<br> (1, (2, 10)),<br> (2, (0, 3)),<br> (2, (1, 7)),<br> (2, (2, 11)),<br> (3, (0, 4)),<br> (3, (1, 8)),<br> (3, (2, 12))]\n",
    "</span>\n",
    "\n",
    "* Note that the first element is the transposed row number. So, essentially, we're grouping the data into the correct transposed rows. After grouping, your data should look like this:\n",
    "\n",
    "<span style=\"color:blue\">\n",
    "0 [(0, (0, 1)), (0, (1, 5)), (0, (2, 9))]<br>\n",
    "1 [(1, (0, 2)), (1, (1, 6)), (1, (2, 10))]<br>\n",
    "2 [(2, (0, 3)), (2, (1, 7)), (2, (2, 11))]<br>\n",
    "3 [(3, (0, 4)), (3, (1, 8)), (3, (2, 12))]<br>\n",
    "</span>"
   ]
  },
  {
   "cell_type": "code",
   "execution_count": 133,
   "metadata": {},
   "outputs": [],
   "source": [
    "grouped = itertools.groupby(sorted_chained, lambda x: x[0]) "
   ]
  },
  {
   "cell_type": "code",
   "execution_count": 134,
   "metadata": {
    "scrolled": true
   },
   "outputs": [
    {
     "name": "stdout",
     "output_type": "stream",
     "text": [
      "0 [(0, (0, 1)), (0, (1, 5)), (0, (2, 9))]\n",
      "1 [(1, (0, 2)), (1, (1, 6)), (1, (2, 10))]\n",
      "2 [(2, (0, 3)), (2, (1, 7)), (2, (2, 11))]\n",
      "3 [(3, (0, 4)), (3, (1, 8)), (3, (2, 12))]\n"
     ]
    }
   ],
   "source": [
    "#Use this to check if your grouping is correct\n",
    "for k, g in grouped:\n",
    "    print(k,list(g))"
   ]
  },
  {
   "cell_type": "code",
   "execution_count": 135,
   "metadata": {},
   "outputs": [],
   "source": [
    "grouped = itertools.groupby(sorted_chained, lambda x: x[0]) #group the data by the transpose-row-number key"
   ]
  },
  {
   "cell_type": "markdown",
   "metadata": {},
   "source": [
    "<h2 style=\"color:red\">Step 6</h2>\n",
    "* Unpack the groups. Extract the group content so that the data for each transposed row now sits in its own list. Notice that now we have each transposed row correctly structured and that each element also contains its column number. While we're not using the column number in this example, if we were actually assembling the transposed matrix from a distributed data source we would need the column number so as to correctly place each element in the matrix\n",
    "<p>\n",
    "\n",
    "<span style=\"color:blue\">\n",
    "[[0, (0, 1), (1, 5), (2, 9)],<br> [1, (0, 2), (1, 6), (2, 10)],<br> [2, (0, 3), (1, 7), (2, 11)],<br> [3, (0, 4), (1, 8), (2, 12)]]\n",
    "</span>"
   ]
  },
  {
   "cell_type": "code",
   "execution_count": 136,
   "metadata": {},
   "outputs": [],
   "source": [
    "unpacked = map(lambda x: [x[0]] + list(map(lambda y:y[1] , x[1])), grouped)"
   ]
  },
  {
   "cell_type": "markdown",
   "metadata": {},
   "source": [
    "<h2 style=\"color:red\">Step 7</h2>\n",
    "\n",
    "* In the final step, extract the 2nd number from each value tuple into a list to construct the list of lists that will contain the transposed matrix. \n",
    "* We'll do this in two steps\n",
    "* First extract the three row tuples into a variable final_step_1\n",
    "\n",
    "<span style=\"color:blue\">\n",
    "[[(0, 1), (1, 5), (2, 9)],<br>\n",
    "[(0, 2), (1, 6), (2, 10)],<br>\n",
    "[(0, 3), (1, 7), (2, 11)],<br>\n",
    "[(0, 4), (1, 8), (2, 12)]]\n",
    "</span>\n",
    "\n",
    "* Then extract the second element of each tuple into the variable final_step_2. final_step_2 is the generator that will generate the transposed matrix. If generated, the matrix would look like:\n",
    "\n",
    "<span style=\"color:blue\">\n",
    "[[1, 5, 9],<br>\n",
    "[2, 6, 10],<br>\n",
    "[3, 7, 11],<br>\n",
    "[4, 8, 12]]\n",
    "</span>\n",
    "\n",
    "\n",
    "\n"
   ]
  },
  {
   "cell_type": "code",
   "execution_count": 137,
   "metadata": {},
   "outputs": [],
   "source": [
    "\n",
    "final_step_1 = map(lambda x: x[1:], unpacked)\n",
    "final_step_2 = map(lambda x: list(map(lambda y: y[1] , x)), final_step_1)\n"
   ]
  },
  {
   "cell_type": "markdown",
   "metadata": {},
   "source": [
    "<h2 style=\"color:red\">Step 8</h2>\n",
    "Generate the matrix \n",
    "\n",
    "Use a list comprehension statement to generate the matrix.\n",
    "\n"
   ]
  },
  {
   "cell_type": "code",
   "execution_count": 138,
   "metadata": {},
   "outputs": [
    {
     "data": {
      "text/plain": [
       "[[1, 5, 9], [2, 6, 10], [3, 7, 11], [4, 8, 12]]"
      ]
     },
     "execution_count": 138,
     "metadata": {},
     "output_type": "execute_result"
    }
   ],
   "source": [
    "transpose = [i for i in final_step_2]\n",
    "transpose"
   ]
  },
  {
   "cell_type": "markdown",
   "metadata": {},
   "source": [
    "<h2 style=\"color:red\">Step 9</h2>\n",
    "\n",
    "* Wrap the code in a function that takes one argument (a matrix in a list of lists format) and returns the transposed matrix (in a list of lists format). No error checking necessary.\n",
    "\n"
   ]
  },
  {
   "cell_type": "code",
   "execution_count": 140,
   "metadata": {},
   "outputs": [],
   "source": [
    "def transpose(input_list):\n",
    "    import itertools\n",
    "    from functools import reduce\n",
    "    from operator import itemgetter \n",
    "    \n",
    "    #Code goes here\n",
    "    map1 = map(lambda x: (input_list.index(x),x),input_list)  # convert the matrix into [row number, row data] pairs. \n",
    "    map2 = map(lambda x: list(map(lambda y: (x[1].index(y),(x[0],y)),x[1])),map1)  # generate (new_row_num, (old_row_num, value))  key value pairs\n",
    "    chained = itertools.chain.from_iterable(map2)\n",
    "    sorted_chained = sorted(chained)\n",
    "    grouped = itertools.groupby(sorted_chained, lambda x:x[0]) #group the data by the transpose-row-number key\n",
    "    unpacked = map(lambda x: [x[0]]+list(map(lambda y:y[1],x[1])),grouped)\n",
    "    final_step_1 = map(lambda x: x[1:],unpacked)\n",
    "    final_step_2 = map(lambda x: list(map(lambda y: y[1], x)),final_step_1)\n",
    "    transposed = [i for i in final_step_2] \n",
    "    return transposed\n"
   ]
  },
  {
   "cell_type": "code",
   "execution_count": 141,
   "metadata": {},
   "outputs": [
    {
     "data": {
      "text/plain": [
       "[[1, 5, 9], [2, 6, 10], [3, 7, 11], [4, 8, 12]]"
      ]
     },
     "execution_count": 141,
     "metadata": {},
     "output_type": "execute_result"
    }
   ],
   "source": [
    "transpose(test_data)"
   ]
  }
 ],
 "metadata": {
  "kernelspec": {
   "display_name": "Python 3",
   "language": "python",
   "name": "python3"
  },
  "language_info": {
   "codemirror_mode": {
    "name": "ipython",
    "version": 3
   },
   "file_extension": ".py",
   "mimetype": "text/x-python",
   "name": "python",
   "nbconvert_exporter": "python",
   "pygments_lexer": "ipython3",
   "version": "3.7.6"
  }
 },
 "nbformat": 4,
 "nbformat_minor": 2
}

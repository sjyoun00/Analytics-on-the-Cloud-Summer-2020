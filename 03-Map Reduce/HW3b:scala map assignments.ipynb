{
 "cells": [
  {
   "cell_type": "markdown",
   "metadata": {},
   "source": [
    "<h1>Scala map problems</h1>\n",
    "<b>Note:</b> Please enter your problem solutions in the two cells immediately below this one. All other work should go below these two cells (and will be ignored by the graders!)"
   ]
  },
  {
   "cell_type": "code",
   "execution_count": 40,
   "metadata": {},
   "outputs": [
    {
     "data": {
      "text/plain": [
       "test_data: String = widgets 103.24,eggs 345.22,milk 231.25,widgets 123.11,milk 14.2\n",
       "inventory_value: (inventory: String)scala.collection.immutable.Map[String,Double]\n",
       "res18: scala.collection.immutable.Map[String,Double] = Map(eggs -> 345.22, milk -> 245.45, widgets -> 226.35)\n"
      ]
     },
     "execution_count": 40,
     "metadata": {},
     "output_type": "execute_result"
    }
   ],
   "source": [
    "//PROBLEM 1 SOLUTION\n",
    "val test_data = \"widgets 103.24,eggs 345.22,milk 231.25,widgets 123.11,milk 14.2\" \n",
    "\n",
    "//YOUR FUNCTION SHOULD GO HERE\n",
    "def inventory_value(inventory: String) = \n",
    "    inventory.toLowerCase.split(\",\").\n",
    "    map(i=>i.split(\" \")).\n",
    "    map(i=>(i(0),i(1))).\n",
    "    sortWith(_._1 < _._1).\n",
    "    groupBy(_._1).\n",
    "    mapValues(i=>i.map(j=>j._2.toDouble).reduce(_+_))\n",
    "\n",
    "\n",
    "//Test your function here\n",
    "inventory_value(test_data)\n",
    "//should return\n",
    "//res1: scala.collection.immutable.Map[String,Double] = Map(eggs -> 345.22, milk -> 245.45, widgets -> 226.35)"
   ]
  },
  {
   "cell_type": "code",
   "execution_count": 41,
   "metadata": {},
   "outputs": [
    {
     "data": {
      "text/plain": [
       "test_data: String = able was i ere i saw elba, and that was before i was able and could see elba!\n",
       "letter_count: (sentence: String)scala.collection.immutable.Map[Char,Int]\n",
       "res19: scala.collection.immutable.Map[Char,Int] = Map(e -> 10, s -> 5, n -> 2, t -> 2, u -> 1, f -> 1, a -> 11, i -> 3, b -> 5, l -> 5, c -> 1, h -> 1, r -> 2, w -> 4, o -> 2, d -> 3)\n"
      ]
     },
     "execution_count": 41,
     "metadata": {},
     "output_type": "execute_result"
    }
   ],
   "source": [
    "//PROBLEM 2 SOLUTION\n",
    "val test_data = \"able was i ere i saw elba, and that was before i was able and could see elba!\"\n",
    "\n",
    "//YOUR FUNCTION SHOULD GO HERE\n",
    "def letter_count(sentence: String) = \n",
    "    sentence.toLowerCase.toCharArray.                    // convert the string to an Array of Characters\n",
    "    filter(_.isLetter).                                  // filter out non-letter Characters\n",
    "    map(i=>(i,1)).                                       // create tuples containing the (Char and 1)\n",
    "    sortWith(_._1 < _._1).                               // sort tuples by Character\n",
    "    groupBy(_._1).                                       // group by Character\n",
    "    map(j => (j._1,j._2.map(_=>1).reduce(_+_)))          // map and reduce\n",
    "\n",
    "\n",
    "//Test your function here\n",
    "letter_count(test_data)\n",
    "//Should return:\n",
    "//scala.collection.immutable.Map[Char,Int] = Map(e -> 10, s -> 5, n -> 2, t -> 2, u -> 1, f -> 1, a -> 11, i -> 3,\n",
    "//                                               b -> 5, l -> 5, c -> 1, h -> 1, r -> 2, w -> 4, o -> 2, d -> 3)"
   ]
  },
  {
   "cell_type": "markdown",
   "metadata": {},
   "source": [
    "<h1>Scala Problem 1</h1>\n",
    "\n",
    "Write a scala function \"inventory_value\" that takes a single argument, inventory, as an input and reports the total value of each item in the list. \n",
    "\n",
    "For example, if the inventory list is in the form:\n",
    "\"widgets 103.24,eggs 345.22,milk 231.25,widgets 123.11,milk 14.2” your function should output:\n",
    "\n",
    "res58: scala.collection.immutable.Map[String,Double] = Map(eggs -> 345.22, milk -> 245.45, widgets -> 226.35)\n",
    "\n",
    "\n",
    "You can assume that the string is well formed. I.e., there are no spaces other than the ones between the product name and the inventory value, that each item pair is separated by a comma, each item name is exactly one word, and each value is convertible into double without errors.\n",
    "\n",
    "Helpful functions:\n",
    "\n",
    "1. mapValues: m mapValues f applies f to the values of key,value pairs in m (you can\n",
    "get this using a group by operation) \n",
    "\n",
    "2. sum: adds up numbers in a collection\n",
    "Though you can use reduce for this, using mapValues and sum is a lot simpler"
   ]
  },
  {
   "cell_type": "code",
   "execution_count": 1,
   "metadata": {
    "scrolled": true
   },
   "outputs": [
    {
     "data": {
      "text/plain": [
       "Intitializing Scala interpreter ..."
      ]
     },
     "metadata": {},
     "output_type": "display_data"
    },
    {
     "data": {
      "text/plain": [
       "Spark Web UI available at http://ziyangs-mbp.attlocal.net:4040\n",
       "SparkContext available as 'sc' (version = 2.4.6, master = local[*], app id = local-1594790309871)\n",
       "SparkSession available as 'spark'\n"
      ]
     },
     "metadata": {},
     "output_type": "display_data"
    },
    {
     "data": {
      "text/plain": [
       "test_data: String = widgets 103.24,eggs 345.22,milk 231.25,widgets 123.11,milk 14.2\n"
      ]
     },
     "execution_count": 1,
     "metadata": {},
     "output_type": "execute_result"
    }
   ],
   "source": [
    "val test_data = \"widgets 103.24,eggs 345.22,milk 231.25,widgets 123.11,milk 14.2\" "
   ]
  },
  {
   "cell_type": "code",
   "execution_count": 3,
   "metadata": {},
   "outputs": [
    {
     "data": {
      "text/plain": [
       "x: Array[String] = Array(widgets 103.24, eggs 345.22, milk 231.25, widgets 123.11, milk 14.2)\n"
      ]
     },
     "execution_count": 3,
     "metadata": {},
     "output_type": "execute_result"
    }
   ],
   "source": [
    "val x = test_data.toLowerCase.split(\",\")     // split comma"
   ]
  },
  {
   "cell_type": "code",
   "execution_count": 4,
   "metadata": {},
   "outputs": [
    {
     "data": {
      "text/plain": [
       "y: Array[Array[String]] = Array(Array(widgets, 103.24), Array(eggs, 345.22), Array(milk, 231.25), Array(widgets, 123.11), Array(milk, 14.2))\n"
      ]
     },
     "execution_count": 4,
     "metadata": {},
     "output_type": "execute_result"
    }
   ],
   "source": [
    "val y = x.map(i=>i.split(\" \"))              // split space"
   ]
  },
  {
   "cell_type": "code",
   "execution_count": 5,
   "metadata": {},
   "outputs": [
    {
     "data": {
      "text/plain": [
       "z: Array[(String, String)] = Array((widgets,103.24), (eggs,345.22), (milk,231.25), (widgets,123.11), (milk,14.2))\n"
      ]
     },
     "execution_count": 5,
     "metadata": {},
     "output_type": "execute_result"
    }
   ],
   "source": [
    "val z = y.map(i=>(i(0),i(1)))               // create tuples"
   ]
  },
  {
   "cell_type": "code",
   "execution_count": 6,
   "metadata": {},
   "outputs": [
    {
     "data": {
      "text/plain": [
       "a: scala.collection.immutable.Map[String,Array[(String, String)]] = Map(eggs -> Array((eggs,345.22)), milk -> Array((milk,231.25), (milk,14.2)), widgets -> Array((widgets,103.24), (widgets,123.11)))\n"
      ]
     },
     "execution_count": 6,
     "metadata": {},
     "output_type": "execute_result"
    }
   ],
   "source": [
    "val a = z.sortWith(_._1 < _._1).groupBy(_._1)        // sort and group by"
   ]
  },
  {
   "cell_type": "code",
   "execution_count": 7,
   "metadata": {},
   "outputs": [
    {
     "data": {
      "text/plain": [
       "b: scala.collection.immutable.Map[String,Double] = Map(eggs -> 345.22, milk -> 245.45, widgets -> 226.35)\n"
      ]
     },
     "execution_count": 7,
     "metadata": {},
     "output_type": "execute_result"
    }
   ],
   "source": [
    "val b = a.mapValues(i=>i.map(j=>j._2.toDouble).reduce(_+_))         // reduce"
   ]
  },
  {
   "cell_type": "code",
   "execution_count": 8,
   "metadata": {},
   "outputs": [
    {
     "data": {
      "text/plain": [
       "inventory_value: (inventory: String)scala.collection.immutable.Map[String,Double]\n"
      ]
     },
     "execution_count": 8,
     "metadata": {},
     "output_type": "execute_result"
    }
   ],
   "source": [
    "// put it all together\n",
    "\n",
    "def inventory_value(inventory: String) = \n",
    "    inventory.toLowerCase.split(\",\").\n",
    "    map(i=>i.split(\" \")).\n",
    "    map(i=>(i(0),i(1))).\n",
    "    sortWith(_._1 < _._1).\n",
    "    groupBy(_._1).\n",
    "    mapValues(i=>i.map(j=>j._2.toDouble).reduce(_+_))"
   ]
  },
  {
   "cell_type": "code",
   "execution_count": 9,
   "metadata": {},
   "outputs": [
    {
     "data": {
      "text/plain": [
       "res1: scala.collection.immutable.Map[String,Double] = Map(eggs -> 345.22, milk -> 245.45, widgets -> 226.35)\n"
      ]
     },
     "execution_count": 9,
     "metadata": {},
     "output_type": "execute_result"
    }
   ],
   "source": [
    "inventory_value(test_data) //should return\n",
    "//res1: scala.collection.immutable.Map[String,Double] = Map(eggs -> 345.22, milk -> 245.45, widgets -> 226.35)"
   ]
  },
  {
   "cell_type": "markdown",
   "metadata": {},
   "source": [
    "<h2>mapValues function</h2>"
   ]
  },
  {
   "cell_type": "code",
   "execution_count": 10,
   "metadata": {},
   "outputs": [
    {
     "data": {
      "text/plain": [
       "d: scala.collection.immutable.Map[Char,Int] = Map(a -> 12, b -> 15)\n",
       "res2: scala.collection.immutable.Map[Char,Int] = Map(a -> 144, b -> 225)\n"
      ]
     },
     "execution_count": 10,
     "metadata": {},
     "output_type": "execute_result"
    }
   ],
   "source": [
    "val d = Map('a' -> 12,'b'->15) // Creates a key --> value map\n",
    "d.mapValues(i=>i*i) //Applies the function to the values of d "
   ]
  },
  {
   "cell_type": "markdown",
   "metadata": {},
   "source": [
    "<h1>Scala problem 2</h1>\n",
    "Write a scala function that <b>counts the number of each letter in a text string.</b> \n",
    "\n",
    "For example, if the input string is \"able was i ere i saw elba, and that was before i was able and could see elba!”, your program should return:\n",
    "\n",
    "Map(e -> 10, s -> 5, n -> 2, t -> 2, u -> 1, f -> 1, a -> 11, i -> 3, b -> 5, l -> 5, c -> 1, h -> 1, r -> 2, w -> 4, o -> 2, d -> 3)\n",
    "\n",
    "Note that you should only count the letters and ignore all punctuation, numbers, spaces, or any special characters. \n",
    "\n",
    "The scala function isLetter returns true if a character is a letter and false otherwise."
   ]
  },
  {
   "cell_type": "code",
   "execution_count": 11,
   "metadata": {},
   "outputs": [
    {
     "data": {
      "text/plain": [
       "text: String = able was i ere i saw elba, and that was before i was able and could see elba!\n"
      ]
     },
     "execution_count": 11,
     "metadata": {},
     "output_type": "execute_result"
    }
   ],
   "source": [
    "val text = \"able was i ere i saw elba, and that was before i was able and could see elba!\""
   ]
  },
  {
   "cell_type": "code",
   "execution_count": 29,
   "metadata": {},
   "outputs": [
    {
     "data": {
      "text/plain": [
       "aa: Array[Char] = Array(a, b, l, e,  , w, a, s,  , i,  , e, r, e,  , i,  , s, a, w,  , e, l, b, a, ,,  , a, n, d,  , t, h, a, t,  , w, a, s,  , b, e, f, o, r, e,  , i,  , w, a, s,  , a, b, l, e,  , a, n, d,  , c, o, u, l, d,  , s, e, e,  , e, l, b, a, !)\n"
      ]
     },
     "execution_count": 29,
     "metadata": {},
     "output_type": "execute_result"
    }
   ],
   "source": [
    "val aa = text.toLowerCase.toCharArray        // convert the string to an Array of Characters"
   ]
  },
  {
   "cell_type": "code",
   "execution_count": 30,
   "metadata": {},
   "outputs": [
    {
     "data": {
      "text/plain": [
       "bb: Array[Char] = Array(a, b, l, e, w, a, s, i, e, r, e, i, s, a, w, e, l, b, a, a, n, d, t, h, a, t, w, a, s, b, e, f, o, r, e, i, w, a, s, a, b, l, e, a, n, d, c, o, u, l, d, s, e, e, e, l, b, a)\n"
      ]
     },
     "execution_count": 30,
     "metadata": {},
     "output_type": "execute_result"
    }
   ],
   "source": [
    "val bb = aa.filter(_.isLetter)               // filter out non-letter Characters"
   ]
  },
  {
   "cell_type": "code",
   "execution_count": 33,
   "metadata": {},
   "outputs": [
    {
     "data": {
      "text/plain": [
       "cc: Array[(Char, Int)] = Array((a,1), (b,1), (l,1), (e,1), (w,1), (a,1), (s,1), (i,1), (e,1), (r,1), (e,1), (i,1), (s,1), (a,1), (w,1), (e,1), (l,1), (b,1), (a,1), (a,1), (n,1), (d,1), (t,1), (h,1), (a,1), (t,1), (w,1), (a,1), (s,1), (b,1), (e,1), (f,1), (o,1), (r,1), (e,1), (i,1), (w,1), (a,1), (s,1), (a,1), (b,1), (l,1), (e,1), (a,1), (n,1), (d,1), (c,1), (o,1), (u,1), (l,1), (d,1), (s,1), (e,1), (e,1), (e,1), (l,1), (b,1), (a,1))\n"
      ]
     },
     "execution_count": 33,
     "metadata": {},
     "output_type": "execute_result"
    }
   ],
   "source": [
    "val cc = bb.map(i=>(i,1))                    // create tuples containing the (Char and 1)"
   ]
  },
  {
   "cell_type": "code",
   "execution_count": 35,
   "metadata": {},
   "outputs": [
    {
     "data": {
      "text/plain": [
       "dd: scala.collection.immutable.Map[Char,Int] = Map(e -> 10, s -> 5, n -> 2, t -> 2, u -> 1, f -> 1, a -> 11, i -> 3, b -> 5, l -> 5, c -> 1, h -> 1, r -> 2, w -> 4, o -> 2, d -> 3)\n"
      ]
     },
     "execution_count": 35,
     "metadata": {},
     "output_type": "execute_result"
    }
   ],
   "source": [
    "val dd = cc.sortWith(_._1 < _._1).                         // sort tuples by Character\n",
    "        groupBy(_._1).                                     // group by Character\n",
    "        map(j => (j._1,j._2.map(_=>1).reduce(_+_)))        // map and reduce"
   ]
  },
  {
   "cell_type": "code",
   "execution_count": 38,
   "metadata": {},
   "outputs": [
    {
     "data": {
      "text/plain": [
       "letter_count: (sentence: String)scala.collection.immutable.Map[Char,Int]\n"
      ]
     },
     "execution_count": 38,
     "metadata": {},
     "output_type": "execute_result"
    }
   ],
   "source": [
    "// put it all together\n",
    "\n",
    "def letter_count(sentence: String) = \n",
    "    sentence.toLowerCase.toCharArray.                    // convert the string to an Array of Characters\n",
    "    filter(_.isLetter).                                  // filter out non-letter Characters\n",
    "    map(i=>(i,1)).                                       // create tuples containing the (Char and 1)\n",
    "    sortWith(_._1 < _._1).                               // sort tuples by Character\n",
    "    groupBy(_._1).                                       // group by Character\n",
    "    map(j => (j._1,j._2.map(_=>1).reduce(_+_)))          // map and reduce"
   ]
  },
  {
   "cell_type": "code",
   "execution_count": 39,
   "metadata": {},
   "outputs": [
    {
     "data": {
      "text/plain": [
       "res17: scala.collection.immutable.Map[Char,Int] = Map(e -> 10, s -> 5, n -> 2, t -> 2, u -> 1, f -> 1, a -> 11, i -> 3, b -> 5, l -> 5, c -> 1, h -> 1, r -> 2, w -> 4, o -> 2, d -> 3)\n"
      ]
     },
     "execution_count": 39,
     "metadata": {},
     "output_type": "execute_result"
    }
   ],
   "source": [
    "letter_count(text)\n",
    "//Should return:\n",
    "//scala.collection.immutable.Map[Char,Int] = Map(e -> 10, s -> 5, n -> 2, t -> 2, u -> 1, f -> 1, a -> 11, i -> 3,\n",
    "//                                               b -> 5, l -> 5, c -> 1, h -> 1, r -> 2, w -> 4, o -> 2, d -> 3)"
   ]
  },
  {
   "cell_type": "markdown",
   "metadata": {},
   "source": [
    "<h2>isLetter</h2>\n",
    "<li>returns true if a character is a letter of the alphabet and false otherwise"
   ]
  },
  {
   "cell_type": "code",
   "execution_count": 13,
   "metadata": {},
   "outputs": [
    {
     "data": {
      "text/plain": [
       "res4: Boolean = true\n"
      ]
     },
     "execution_count": 13,
     "metadata": {},
     "output_type": "execute_result"
    }
   ],
   "source": [
    "'p'.isLetter"
   ]
  },
  {
   "cell_type": "code",
   "execution_count": 14,
   "metadata": {},
   "outputs": [
    {
     "data": {
      "text/plain": [
       "res5: Boolean = false\n"
      ]
     },
     "execution_count": 14,
     "metadata": {},
     "output_type": "execute_result"
    }
   ],
   "source": [
    "'2'.isLetter"
   ]
  },
  {
   "cell_type": "code",
   "execution_count": 15,
   "metadata": {},
   "outputs": [
    {
     "data": {
      "text/plain": [
       "res6: Boolean = false\n"
      ]
     },
     "execution_count": 15,
     "metadata": {},
     "output_type": "execute_result"
    }
   ],
   "source": [
    "'?'.isLetter"
   ]
  }
 ],
 "metadata": {
  "kernelspec": {
   "display_name": "spylon-kernel",
   "language": "scala",
   "name": "spylon-kernel"
  },
  "language_info": {
   "codemirror_mode": "text/x-scala",
   "file_extension": ".scala",
   "help_links": [
    {
     "text": "MetaKernel Magics",
     "url": "https://metakernel.readthedocs.io/en/latest/source/README.html"
    }
   ],
   "mimetype": "text/x-scala",
   "name": "scala",
   "pygments_lexer": "scala",
   "version": "0.4.1"
  }
 },
 "nbformat": 4,
 "nbformat_minor": 2
}
